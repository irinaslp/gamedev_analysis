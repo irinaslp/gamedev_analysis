{
 "cells": [
  {
   "cell_type": "markdown",
   "metadata": {},
   "source": [
    "# **Исследование данных о продаже игр**"
   ]
  },
  {
   "cell_type": "markdown",
   "metadata": {},
   "source": [
    "Доступно: данные о продаже игр, оценки пользователей и экспертов, жанры и платформы. \n",
    "\n",
    "**Цель исследования:**\n",
    "1. Провести предварительную подготвку данных: привести к \"змеиному\" регистру, очистить данные от пропусков, преобразовать тип данных, добавить отдельный столбец для суммарных продаж по регионам.\n",
    "2. Провести анализ данных за актуальный период.\n",
    "3. Составить портрет пользователя каждого региона\n",
    "4. Проверить гипотезы о равенстве средних пользовательских рейтингах платформ Xbox One и PC и пользовательских рейтингах жанров Action и Sports.\n",
    "5. Сделать общий вывод.\n",
    "\n",
    "**Ход исследования:**\n",
    "1. Обзор и подготовка данных\n",
    "2. Анализ отзывов на количество продаж\n",
    "3. Строятся графики продаж по платформам и по жанрам, находится корреляция между отзывами и продажами\n",
    "4. Портрет пользователя по регионам\n",
    "5. Проверка гипотез\n",
    "6. Общий вывод"
   ]
  },
  {
   "cell_type": "markdown",
   "metadata": {},
   "source": [
    "# Итоговый вывод"
   ]
  },
  {
   "cell_type": "markdown",
   "metadata": {},
   "source": [
    "Рекомендуемые платформы: Xbox One (как замена очень популярной в прошлом, но не в 2016 году Xbox 360) и PS4.\n",
    "\n",
    "Самый популярный жанр - шутер (он более стабилен, хоть экшн и имеет больше очень популярных игр)\n",
    "\n",
    "Для рекламы на северо-американском и евпропейском игры лучше выпускать игры с рейтингом M (эти два региона можно объединить в один рынок, портреты пользователей очень схожи)\n",
    "\n",
    "Обращать внимание на отзывы покупателей нет особого смысла, в то время как отзывы критиков могут помочь принять решение."
   ]
  },
  {
   "cell_type": "markdown",
   "metadata": {},
   "source": [
    "# **Предварительный обзор**"
   ]
  },
  {
   "cell_type": "code",
   "execution_count": 1,
   "metadata": {},
   "outputs": [],
   "source": [
    "import pandas as pd\n",
    "import matplotlib.pyplot as plt\n",
    "import seaborn as sns\n",
    "import numpy as np\n",
    "from scipy import stats as st"
   ]
  },
  {
   "cell_type": "code",
   "execution_count": 2,
   "metadata": {},
   "outputs": [
    {
     "name": "stdout",
     "output_type": "stream",
     "text": [
      "<class 'pandas.core.frame.DataFrame'>\n",
      "RangeIndex: 16715 entries, 0 to 16714\n",
      "Data columns (total 11 columns):\n",
      " #   Column           Non-Null Count  Dtype  \n",
      "---  ------           --------------  -----  \n",
      " 0   name             16713 non-null  object \n",
      " 1   platform         16715 non-null  object \n",
      " 2   year_of_release  16446 non-null  float64\n",
      " 3   genre            16713 non-null  object \n",
      " 4   na_sales         16715 non-null  float64\n",
      " 5   eu_sales         16715 non-null  float64\n",
      " 6   jp_sales         16715 non-null  float64\n",
      " 7   other_sales      16715 non-null  float64\n",
      " 8   critic_score     8137 non-null   float64\n",
      " 9   user_score       10014 non-null  object \n",
      " 10  rating           9949 non-null   object \n",
      "dtypes: float64(6), object(5)\n",
      "memory usage: 1.4+ MB\n"
     ]
    },
    {
     "data": {
      "text/html": [
       "<div>\n",
       "<style scoped>\n",
       "    .dataframe tbody tr th:only-of-type {\n",
       "        vertical-align: middle;\n",
       "    }\n",
       "\n",
       "    .dataframe tbody tr th {\n",
       "        vertical-align: top;\n",
       "    }\n",
       "\n",
       "    .dataframe thead th {\n",
       "        text-align: right;\n",
       "    }\n",
       "</style>\n",
       "<table border=\"1\" class=\"dataframe\">\n",
       "  <thead>\n",
       "    <tr style=\"text-align: right;\">\n",
       "      <th></th>\n",
       "      <th>name</th>\n",
       "      <th>platform</th>\n",
       "      <th>year_of_release</th>\n",
       "      <th>genre</th>\n",
       "      <th>na_sales</th>\n",
       "      <th>eu_sales</th>\n",
       "      <th>jp_sales</th>\n",
       "      <th>other_sales</th>\n",
       "      <th>critic_score</th>\n",
       "      <th>user_score</th>\n",
       "      <th>rating</th>\n",
       "    </tr>\n",
       "  </thead>\n",
       "  <tbody>\n",
       "    <tr>\n",
       "      <th>0</th>\n",
       "      <td>wii sports</td>\n",
       "      <td>wii</td>\n",
       "      <td>2006.0</td>\n",
       "      <td>sports</td>\n",
       "      <td>41.36</td>\n",
       "      <td>28.96</td>\n",
       "      <td>3.77</td>\n",
       "      <td>8.45</td>\n",
       "      <td>76.0</td>\n",
       "      <td>8</td>\n",
       "      <td>E</td>\n",
       "    </tr>\n",
       "    <tr>\n",
       "      <th>1</th>\n",
       "      <td>super mario bros.</td>\n",
       "      <td>nes</td>\n",
       "      <td>1985.0</td>\n",
       "      <td>platform</td>\n",
       "      <td>29.08</td>\n",
       "      <td>3.58</td>\n",
       "      <td>6.81</td>\n",
       "      <td>0.77</td>\n",
       "      <td>NaN</td>\n",
       "      <td>NaN</td>\n",
       "      <td>NaN</td>\n",
       "    </tr>\n",
       "    <tr>\n",
       "      <th>2</th>\n",
       "      <td>mario kart wii</td>\n",
       "      <td>wii</td>\n",
       "      <td>2008.0</td>\n",
       "      <td>racing</td>\n",
       "      <td>15.68</td>\n",
       "      <td>12.76</td>\n",
       "      <td>3.79</td>\n",
       "      <td>3.29</td>\n",
       "      <td>82.0</td>\n",
       "      <td>8.3</td>\n",
       "      <td>E</td>\n",
       "    </tr>\n",
       "    <tr>\n",
       "      <th>3</th>\n",
       "      <td>wii sports resort</td>\n",
       "      <td>wii</td>\n",
       "      <td>2009.0</td>\n",
       "      <td>sports</td>\n",
       "      <td>15.61</td>\n",
       "      <td>10.93</td>\n",
       "      <td>3.28</td>\n",
       "      <td>2.95</td>\n",
       "      <td>80.0</td>\n",
       "      <td>8</td>\n",
       "      <td>E</td>\n",
       "    </tr>\n",
       "    <tr>\n",
       "      <th>4</th>\n",
       "      <td>pokemon red/pokemon blue</td>\n",
       "      <td>gb</td>\n",
       "      <td>1996.0</td>\n",
       "      <td>role-playing</td>\n",
       "      <td>11.27</td>\n",
       "      <td>8.89</td>\n",
       "      <td>10.22</td>\n",
       "      <td>1.00</td>\n",
       "      <td>NaN</td>\n",
       "      <td>NaN</td>\n",
       "      <td>NaN</td>\n",
       "    </tr>\n",
       "    <tr>\n",
       "      <th>5</th>\n",
       "      <td>tetris</td>\n",
       "      <td>gb</td>\n",
       "      <td>1989.0</td>\n",
       "      <td>puzzle</td>\n",
       "      <td>23.20</td>\n",
       "      <td>2.26</td>\n",
       "      <td>4.22</td>\n",
       "      <td>0.58</td>\n",
       "      <td>NaN</td>\n",
       "      <td>NaN</td>\n",
       "      <td>NaN</td>\n",
       "    </tr>\n",
       "    <tr>\n",
       "      <th>6</th>\n",
       "      <td>new super mario bros.</td>\n",
       "      <td>ds</td>\n",
       "      <td>2006.0</td>\n",
       "      <td>platform</td>\n",
       "      <td>11.28</td>\n",
       "      <td>9.14</td>\n",
       "      <td>6.50</td>\n",
       "      <td>2.88</td>\n",
       "      <td>89.0</td>\n",
       "      <td>8.5</td>\n",
       "      <td>E</td>\n",
       "    </tr>\n",
       "    <tr>\n",
       "      <th>7</th>\n",
       "      <td>wii play</td>\n",
       "      <td>wii</td>\n",
       "      <td>2006.0</td>\n",
       "      <td>misc</td>\n",
       "      <td>13.96</td>\n",
       "      <td>9.18</td>\n",
       "      <td>2.93</td>\n",
       "      <td>2.84</td>\n",
       "      <td>58.0</td>\n",
       "      <td>6.6</td>\n",
       "      <td>E</td>\n",
       "    </tr>\n",
       "    <tr>\n",
       "      <th>8</th>\n",
       "      <td>new super mario bros. wii</td>\n",
       "      <td>wii</td>\n",
       "      <td>2009.0</td>\n",
       "      <td>platform</td>\n",
       "      <td>14.44</td>\n",
       "      <td>6.94</td>\n",
       "      <td>4.70</td>\n",
       "      <td>2.24</td>\n",
       "      <td>87.0</td>\n",
       "      <td>8.4</td>\n",
       "      <td>E</td>\n",
       "    </tr>\n",
       "    <tr>\n",
       "      <th>9</th>\n",
       "      <td>duck hunt</td>\n",
       "      <td>nes</td>\n",
       "      <td>1984.0</td>\n",
       "      <td>shooter</td>\n",
       "      <td>26.93</td>\n",
       "      <td>0.63</td>\n",
       "      <td>0.28</td>\n",
       "      <td>0.47</td>\n",
       "      <td>NaN</td>\n",
       "      <td>NaN</td>\n",
       "      <td>NaN</td>\n",
       "    </tr>\n",
       "    <tr>\n",
       "      <th>10</th>\n",
       "      <td>nintendogs</td>\n",
       "      <td>ds</td>\n",
       "      <td>2005.0</td>\n",
       "      <td>simulation</td>\n",
       "      <td>9.05</td>\n",
       "      <td>10.95</td>\n",
       "      <td>1.93</td>\n",
       "      <td>2.74</td>\n",
       "      <td>NaN</td>\n",
       "      <td>NaN</td>\n",
       "      <td>NaN</td>\n",
       "    </tr>\n",
       "    <tr>\n",
       "      <th>11</th>\n",
       "      <td>mario kart ds</td>\n",
       "      <td>ds</td>\n",
       "      <td>2005.0</td>\n",
       "      <td>racing</td>\n",
       "      <td>9.71</td>\n",
       "      <td>7.47</td>\n",
       "      <td>4.13</td>\n",
       "      <td>1.90</td>\n",
       "      <td>91.0</td>\n",
       "      <td>8.6</td>\n",
       "      <td>E</td>\n",
       "    </tr>\n",
       "    <tr>\n",
       "      <th>12</th>\n",
       "      <td>pokemon gold/pokemon silver</td>\n",
       "      <td>gb</td>\n",
       "      <td>1999.0</td>\n",
       "      <td>role-playing</td>\n",
       "      <td>9.00</td>\n",
       "      <td>6.18</td>\n",
       "      <td>7.20</td>\n",
       "      <td>0.71</td>\n",
       "      <td>NaN</td>\n",
       "      <td>NaN</td>\n",
       "      <td>NaN</td>\n",
       "    </tr>\n",
       "    <tr>\n",
       "      <th>13</th>\n",
       "      <td>wii fit</td>\n",
       "      <td>wii</td>\n",
       "      <td>2007.0</td>\n",
       "      <td>sports</td>\n",
       "      <td>8.92</td>\n",
       "      <td>8.03</td>\n",
       "      <td>3.60</td>\n",
       "      <td>2.15</td>\n",
       "      <td>80.0</td>\n",
       "      <td>7.7</td>\n",
       "      <td>E</td>\n",
       "    </tr>\n",
       "    <tr>\n",
       "      <th>14</th>\n",
       "      <td>kinect adventures!</td>\n",
       "      <td>x360</td>\n",
       "      <td>2010.0</td>\n",
       "      <td>misc</td>\n",
       "      <td>15.00</td>\n",
       "      <td>4.89</td>\n",
       "      <td>0.24</td>\n",
       "      <td>1.69</td>\n",
       "      <td>61.0</td>\n",
       "      <td>6.3</td>\n",
       "      <td>E</td>\n",
       "    </tr>\n",
       "  </tbody>\n",
       "</table>\n",
       "</div>"
      ],
      "text/plain": [
       "                           name platform  year_of_release         genre  \\\n",
       "0                    wii sports      wii           2006.0        sports   \n",
       "1             super mario bros.      nes           1985.0      platform   \n",
       "2                mario kart wii      wii           2008.0        racing   \n",
       "3             wii sports resort      wii           2009.0        sports   \n",
       "4      pokemon red/pokemon blue       gb           1996.0  role-playing   \n",
       "5                        tetris       gb           1989.0        puzzle   \n",
       "6         new super mario bros.       ds           2006.0      platform   \n",
       "7                      wii play      wii           2006.0          misc   \n",
       "8     new super mario bros. wii      wii           2009.0      platform   \n",
       "9                     duck hunt      nes           1984.0       shooter   \n",
       "10                   nintendogs       ds           2005.0    simulation   \n",
       "11                mario kart ds       ds           2005.0        racing   \n",
       "12  pokemon gold/pokemon silver       gb           1999.0  role-playing   \n",
       "13                      wii fit      wii           2007.0        sports   \n",
       "14           kinect adventures!     x360           2010.0          misc   \n",
       "\n",
       "    na_sales  eu_sales  jp_sales  other_sales  critic_score user_score rating  \n",
       "0      41.36     28.96      3.77         8.45          76.0          8      E  \n",
       "1      29.08      3.58      6.81         0.77           NaN        NaN    NaN  \n",
       "2      15.68     12.76      3.79         3.29          82.0        8.3      E  \n",
       "3      15.61     10.93      3.28         2.95          80.0          8      E  \n",
       "4      11.27      8.89     10.22         1.00           NaN        NaN    NaN  \n",
       "5      23.20      2.26      4.22         0.58           NaN        NaN    NaN  \n",
       "6      11.28      9.14      6.50         2.88          89.0        8.5      E  \n",
       "7      13.96      9.18      2.93         2.84          58.0        6.6      E  \n",
       "8      14.44      6.94      4.70         2.24          87.0        8.4      E  \n",
       "9      26.93      0.63      0.28         0.47           NaN        NaN    NaN  \n",
       "10      9.05     10.95      1.93         2.74           NaN        NaN    NaN  \n",
       "11      9.71      7.47      4.13         1.90          91.0        8.6      E  \n",
       "12      9.00      6.18      7.20         0.71           NaN        NaN    NaN  \n",
       "13      8.92      8.03      3.60         2.15          80.0        7.7      E  \n",
       "14     15.00      4.89      0.24         1.69          61.0        6.3      E  "
      ]
     },
     "execution_count": 2,
     "metadata": {},
     "output_type": "execute_result"
    }
   ],
   "source": [
    "data = pd.read_csv('/datasets/games.csv')\n",
    "data.rename(columns=str.lower, inplace=True)\n",
    "data['name'] = data['name'].str.lower()\n",
    "data['platform'] = data['platform'].str.lower()\n",
    "data['genre'] = data['genre'].str.lower()\n",
    "data['rating'] = data['rating'].str.upper()\n",
    "data.info()\n",
    "data.head(15)"
   ]
  },
  {
   "cell_type": "markdown",
   "metadata": {},
   "source": [
    "Названия всех столбцов, а также типы данных object приведены к нижнему регистру (помимо рейтинга - оставлен и уточнён верхний регистр). После очистки данных от пропусков можно будет заменить тип данных для года и оценки критиков на натуральные числа (здесь не нужны вещественные), а оценку пользователей - на вещественные числа взамен типу object. Количество продаж по всем регионам - неделимое, поэтому тип данных - int."
   ]
  },
  {
   "cell_type": "markdown",
   "metadata": {},
   "source": [
    "**Пропуски**\n",
    "\n",
    "Пропуски в названии имён - странны, это может оказаться каким-либо дубликатом. Поскольку таких всего два, их можно удалить.\n",
    "\n",
    "Пропуск в дате выпуска - то, что невозможно заполнить и то, что повлияет на анализ при определении актуального периода, поэтому такие данные тоже нет смысла рассматривать (нельзя брать \"медианный\" или \"средний\" год - это скорее категориальные данные)\n",
    "\n",
    "Пропуск с жанрами - такая же логика, как с именами.\n",
    "\n",
    "Пропуски в оценке критиков можно было бы заполнить, но анализ проводится в том числе по тому, какой жанр игры получит бОльшую оценку и заполнение пропусков может привести к смещению оценки (например, оценка не дана, потому что в этой сфере пробивается мало игр, соответсвенно существуют какие-то, на которые обратили внимание и множество тех, для которых критики решили даже не ставить оценку)\n",
    "\n",
    "Такая же логика для рейтинга потребителей. tbd - To Be Determined, эта оценка ещё не дана пользователями (например, игра только вышла), такие данные не имеет смысла анализировать.\n",
    "\n",
    "Возрастную категорию нельзя заполнить - это категориальные данные.\n",
    "\n",
    "Стоит так же отметить, что, возможно, пропуски имеются в основном в данных, которые сейчас неактуальны, но это требует проверки."
   ]
  },
  {
   "cell_type": "code",
   "execution_count": 3,
   "metadata": {},
   "outputs": [],
   "source": [
    "data.dropna(0, subset=['name', 'year_of_release', 'genre'], inplace=True)\n",
    "data['year_of_release'] = data['year_of_release'].astype(int)"
   ]
  },
  {
   "cell_type": "code",
   "execution_count": 4,
   "metadata": {
    "scrolled": true
   },
   "outputs": [
    {
     "data": {
      "text/html": [
       "<div>\n",
       "<style scoped>\n",
       "    .dataframe tbody tr th:only-of-type {\n",
       "        vertical-align: middle;\n",
       "    }\n",
       "\n",
       "    .dataframe tbody tr th {\n",
       "        vertical-align: top;\n",
       "    }\n",
       "\n",
       "    .dataframe thead tr th {\n",
       "        text-align: left;\n",
       "    }\n",
       "\n",
       "    .dataframe thead tr:last-of-type th {\n",
       "        text-align: right;\n",
       "    }\n",
       "</style>\n",
       "<table border=\"1\" class=\"dataframe\">\n",
       "  <thead>\n",
       "    <tr>\n",
       "      <th></th>\n",
       "      <th>critic_score</th>\n",
       "    </tr>\n",
       "    <tr>\n",
       "      <th></th>\n",
       "      <th>count</th>\n",
       "    </tr>\n",
       "    <tr>\n",
       "      <th>year_of_release</th>\n",
       "      <th></th>\n",
       "    </tr>\n",
       "  </thead>\n",
       "  <tbody>\n",
       "    <tr>\n",
       "      <th>1980</th>\n",
       "      <td>0</td>\n",
       "    </tr>\n",
       "    <tr>\n",
       "      <th>1981</th>\n",
       "      <td>0</td>\n",
       "    </tr>\n",
       "    <tr>\n",
       "      <th>1982</th>\n",
       "      <td>0</td>\n",
       "    </tr>\n",
       "    <tr>\n",
       "      <th>1983</th>\n",
       "      <td>0</td>\n",
       "    </tr>\n",
       "    <tr>\n",
       "      <th>1984</th>\n",
       "      <td>0</td>\n",
       "    </tr>\n",
       "    <tr>\n",
       "      <th>1985</th>\n",
       "      <td>1</td>\n",
       "    </tr>\n",
       "    <tr>\n",
       "      <th>1986</th>\n",
       "      <td>0</td>\n",
       "    </tr>\n",
       "    <tr>\n",
       "      <th>1987</th>\n",
       "      <td>0</td>\n",
       "    </tr>\n",
       "    <tr>\n",
       "      <th>1988</th>\n",
       "      <td>1</td>\n",
       "    </tr>\n",
       "    <tr>\n",
       "      <th>1989</th>\n",
       "      <td>0</td>\n",
       "    </tr>\n",
       "    <tr>\n",
       "      <th>1990</th>\n",
       "      <td>0</td>\n",
       "    </tr>\n",
       "    <tr>\n",
       "      <th>1991</th>\n",
       "      <td>0</td>\n",
       "    </tr>\n",
       "    <tr>\n",
       "      <th>1992</th>\n",
       "      <td>1</td>\n",
       "    </tr>\n",
       "    <tr>\n",
       "      <th>1993</th>\n",
       "      <td>0</td>\n",
       "    </tr>\n",
       "    <tr>\n",
       "      <th>1994</th>\n",
       "      <td>1</td>\n",
       "    </tr>\n",
       "    <tr>\n",
       "      <th>1995</th>\n",
       "      <td>0</td>\n",
       "    </tr>\n",
       "    <tr>\n",
       "      <th>1996</th>\n",
       "      <td>8</td>\n",
       "    </tr>\n",
       "    <tr>\n",
       "      <th>1997</th>\n",
       "      <td>17</td>\n",
       "    </tr>\n",
       "    <tr>\n",
       "      <th>1998</th>\n",
       "      <td>28</td>\n",
       "    </tr>\n",
       "    <tr>\n",
       "      <th>1999</th>\n",
       "      <td>39</td>\n",
       "    </tr>\n",
       "    <tr>\n",
       "      <th>2000</th>\n",
       "      <td>143</td>\n",
       "    </tr>\n",
       "    <tr>\n",
       "      <th>2001</th>\n",
       "      <td>326</td>\n",
       "    </tr>\n",
       "    <tr>\n",
       "      <th>2002</th>\n",
       "      <td>627</td>\n",
       "    </tr>\n",
       "    <tr>\n",
       "      <th>2003</th>\n",
       "      <td>585</td>\n",
       "    </tr>\n",
       "    <tr>\n",
       "      <th>2004</th>\n",
       "      <td>561</td>\n",
       "    </tr>\n",
       "    <tr>\n",
       "      <th>2005</th>\n",
       "      <td>655</td>\n",
       "    </tr>\n",
       "    <tr>\n",
       "      <th>2006</th>\n",
       "      <td>620</td>\n",
       "    </tr>\n",
       "    <tr>\n",
       "      <th>2007</th>\n",
       "      <td>692</td>\n",
       "    </tr>\n",
       "    <tr>\n",
       "      <th>2008</th>\n",
       "      <td>715</td>\n",
       "    </tr>\n",
       "    <tr>\n",
       "      <th>2009</th>\n",
       "      <td>651</td>\n",
       "    </tr>\n",
       "    <tr>\n",
       "      <th>2010</th>\n",
       "      <td>500</td>\n",
       "    </tr>\n",
       "    <tr>\n",
       "      <th>2011</th>\n",
       "      <td>500</td>\n",
       "    </tr>\n",
       "    <tr>\n",
       "      <th>2012</th>\n",
       "      <td>321</td>\n",
       "    </tr>\n",
       "    <tr>\n",
       "      <th>2013</th>\n",
       "      <td>273</td>\n",
       "    </tr>\n",
       "    <tr>\n",
       "      <th>2014</th>\n",
       "      <td>261</td>\n",
       "    </tr>\n",
       "    <tr>\n",
       "      <th>2015</th>\n",
       "      <td>225</td>\n",
       "    </tr>\n",
       "    <tr>\n",
       "      <th>2016</th>\n",
       "      <td>232</td>\n",
       "    </tr>\n",
       "  </tbody>\n",
       "</table>\n",
       "</div>"
      ],
      "text/plain": [
       "                critic_score\n",
       "                       count\n",
       "year_of_release             \n",
       "1980                       0\n",
       "1981                       0\n",
       "1982                       0\n",
       "1983                       0\n",
       "1984                       0\n",
       "1985                       1\n",
       "1986                       0\n",
       "1987                       0\n",
       "1988                       1\n",
       "1989                       0\n",
       "1990                       0\n",
       "1991                       0\n",
       "1992                       1\n",
       "1993                       0\n",
       "1994                       1\n",
       "1995                       0\n",
       "1996                       8\n",
       "1997                      17\n",
       "1998                      28\n",
       "1999                      39\n",
       "2000                     143\n",
       "2001                     326\n",
       "2002                     627\n",
       "2003                     585\n",
       "2004                     561\n",
       "2005                     655\n",
       "2006                     620\n",
       "2007                     692\n",
       "2008                     715\n",
       "2009                     651\n",
       "2010                     500\n",
       "2011                     500\n",
       "2012                     321\n",
       "2013                     273\n",
       "2014                     261\n",
       "2015                     225\n",
       "2016                     232"
      ]
     },
     "execution_count": 4,
     "metadata": {},
     "output_type": "execute_result"
    }
   ],
   "source": [
    "data.pivot_table(index='year_of_release', values=['critic_score'], aggfunc={'count'})"
   ]
  },
  {
   "cell_type": "markdown",
   "metadata": {},
   "source": [
    "В целом, активно рецензии от критиков начали активно писаться с 2002 года."
   ]
  },
  {
   "cell_type": "code",
   "execution_count": 5,
   "metadata": {},
   "outputs": [
    {
     "data": {
      "text/html": [
       "<div>\n",
       "<style scoped>\n",
       "    .dataframe tbody tr th:only-of-type {\n",
       "        vertical-align: middle;\n",
       "    }\n",
       "\n",
       "    .dataframe tbody tr th {\n",
       "        vertical-align: top;\n",
       "    }\n",
       "\n",
       "    .dataframe thead tr th {\n",
       "        text-align: left;\n",
       "    }\n",
       "\n",
       "    .dataframe thead tr:last-of-type th {\n",
       "        text-align: right;\n",
       "    }\n",
       "</style>\n",
       "<table border=\"1\" class=\"dataframe\">\n",
       "  <thead>\n",
       "    <tr>\n",
       "      <th></th>\n",
       "      <th>user_score</th>\n",
       "    </tr>\n",
       "    <tr>\n",
       "      <th></th>\n",
       "      <th>count</th>\n",
       "    </tr>\n",
       "    <tr>\n",
       "      <th>year_of_release</th>\n",
       "      <th></th>\n",
       "    </tr>\n",
       "  </thead>\n",
       "  <tbody>\n",
       "    <tr>\n",
       "      <th>1980</th>\n",
       "      <td>0</td>\n",
       "    </tr>\n",
       "    <tr>\n",
       "      <th>1981</th>\n",
       "      <td>0</td>\n",
       "    </tr>\n",
       "    <tr>\n",
       "      <th>1982</th>\n",
       "      <td>0</td>\n",
       "    </tr>\n",
       "    <tr>\n",
       "      <th>1983</th>\n",
       "      <td>0</td>\n",
       "    </tr>\n",
       "    <tr>\n",
       "      <th>1984</th>\n",
       "      <td>0</td>\n",
       "    </tr>\n",
       "    <tr>\n",
       "      <th>1985</th>\n",
       "      <td>1</td>\n",
       "    </tr>\n",
       "    <tr>\n",
       "      <th>1986</th>\n",
       "      <td>0</td>\n",
       "    </tr>\n",
       "    <tr>\n",
       "      <th>1987</th>\n",
       "      <td>0</td>\n",
       "    </tr>\n",
       "    <tr>\n",
       "      <th>1988</th>\n",
       "      <td>1</td>\n",
       "    </tr>\n",
       "    <tr>\n",
       "      <th>1989</th>\n",
       "      <td>0</td>\n",
       "    </tr>\n",
       "    <tr>\n",
       "      <th>1990</th>\n",
       "      <td>0</td>\n",
       "    </tr>\n",
       "    <tr>\n",
       "      <th>1991</th>\n",
       "      <td>0</td>\n",
       "    </tr>\n",
       "    <tr>\n",
       "      <th>1992</th>\n",
       "      <td>1</td>\n",
       "    </tr>\n",
       "    <tr>\n",
       "      <th>1993</th>\n",
       "      <td>0</td>\n",
       "    </tr>\n",
       "    <tr>\n",
       "      <th>1994</th>\n",
       "      <td>1</td>\n",
       "    </tr>\n",
       "    <tr>\n",
       "      <th>1995</th>\n",
       "      <td>0</td>\n",
       "    </tr>\n",
       "    <tr>\n",
       "      <th>1996</th>\n",
       "      <td>8</td>\n",
       "    </tr>\n",
       "    <tr>\n",
       "      <th>1997</th>\n",
       "      <td>19</td>\n",
       "    </tr>\n",
       "    <tr>\n",
       "      <th>1998</th>\n",
       "      <td>31</td>\n",
       "    </tr>\n",
       "    <tr>\n",
       "      <th>1999</th>\n",
       "      <td>39</td>\n",
       "    </tr>\n",
       "    <tr>\n",
       "      <th>2000</th>\n",
       "      <td>150</td>\n",
       "    </tr>\n",
       "    <tr>\n",
       "      <th>2001</th>\n",
       "      <td>339</td>\n",
       "    </tr>\n",
       "    <tr>\n",
       "      <th>2002</th>\n",
       "      <td>656</td>\n",
       "    </tr>\n",
       "    <tr>\n",
       "      <th>2003</th>\n",
       "      <td>611</td>\n",
       "    </tr>\n",
       "    <tr>\n",
       "      <th>2004</th>\n",
       "      <td>596</td>\n",
       "    </tr>\n",
       "    <tr>\n",
       "      <th>2005</th>\n",
       "      <td>704</td>\n",
       "    </tr>\n",
       "    <tr>\n",
       "      <th>2006</th>\n",
       "      <td>676</td>\n",
       "    </tr>\n",
       "    <tr>\n",
       "      <th>2007</th>\n",
       "      <td>821</td>\n",
       "    </tr>\n",
       "    <tr>\n",
       "      <th>2008</th>\n",
       "      <td>987</td>\n",
       "    </tr>\n",
       "    <tr>\n",
       "      <th>2009</th>\n",
       "      <td>1019</td>\n",
       "    </tr>\n",
       "    <tr>\n",
       "      <th>2010</th>\n",
       "      <td>798</td>\n",
       "    </tr>\n",
       "    <tr>\n",
       "      <th>2011</th>\n",
       "      <td>718</td>\n",
       "    </tr>\n",
       "    <tr>\n",
       "      <th>2012</th>\n",
       "      <td>363</td>\n",
       "    </tr>\n",
       "    <tr>\n",
       "      <th>2013</th>\n",
       "      <td>319</td>\n",
       "    </tr>\n",
       "    <tr>\n",
       "      <th>2014</th>\n",
       "      <td>350</td>\n",
       "    </tr>\n",
       "    <tr>\n",
       "      <th>2015</th>\n",
       "      <td>335</td>\n",
       "    </tr>\n",
       "    <tr>\n",
       "      <th>2016</th>\n",
       "      <td>296</td>\n",
       "    </tr>\n",
       "  </tbody>\n",
       "</table>\n",
       "</div>"
      ],
      "text/plain": [
       "                user_score\n",
       "                     count\n",
       "year_of_release           \n",
       "1980                     0\n",
       "1981                     0\n",
       "1982                     0\n",
       "1983                     0\n",
       "1984                     0\n",
       "1985                     1\n",
       "1986                     0\n",
       "1987                     0\n",
       "1988                     1\n",
       "1989                     0\n",
       "1990                     0\n",
       "1991                     0\n",
       "1992                     1\n",
       "1993                     0\n",
       "1994                     1\n",
       "1995                     0\n",
       "1996                     8\n",
       "1997                    19\n",
       "1998                    31\n",
       "1999                    39\n",
       "2000                   150\n",
       "2001                   339\n",
       "2002                   656\n",
       "2003                   611\n",
       "2004                   596\n",
       "2005                   704\n",
       "2006                   676\n",
       "2007                   821\n",
       "2008                   987\n",
       "2009                  1019\n",
       "2010                   798\n",
       "2011                   718\n",
       "2012                   363\n",
       "2013                   319\n",
       "2014                   350\n",
       "2015                   335\n",
       "2016                   296"
      ]
     },
     "execution_count": 5,
     "metadata": {},
     "output_type": "execute_result"
    }
   ],
   "source": [
    "data.pivot_table(index='year_of_release', values=['user_score'], aggfunc={'count'})"
   ]
  },
  {
   "cell_type": "markdown",
   "metadata": {},
   "source": [
    "Такая же ситуация с оценками от пользователей. При этом, за оба периода видно, что в 2016 году оценок мало."
   ]
  },
  {
   "cell_type": "code",
   "execution_count": 6,
   "metadata": {},
   "outputs": [
    {
     "data": {
      "text/html": [
       "<div>\n",
       "<style scoped>\n",
       "    .dataframe tbody tr th:only-of-type {\n",
       "        vertical-align: middle;\n",
       "    }\n",
       "\n",
       "    .dataframe tbody tr th {\n",
       "        vertical-align: top;\n",
       "    }\n",
       "\n",
       "    .dataframe thead tr th {\n",
       "        text-align: left;\n",
       "    }\n",
       "\n",
       "    .dataframe thead tr:last-of-type th {\n",
       "        text-align: right;\n",
       "    }\n",
       "</style>\n",
       "<table border=\"1\" class=\"dataframe\">\n",
       "  <thead>\n",
       "    <tr>\n",
       "      <th></th>\n",
       "      <th>user_score</th>\n",
       "    </tr>\n",
       "    <tr>\n",
       "      <th></th>\n",
       "      <th>count</th>\n",
       "    </tr>\n",
       "    <tr>\n",
       "      <th>year_of_release</th>\n",
       "      <th></th>\n",
       "    </tr>\n",
       "  </thead>\n",
       "  <tbody>\n",
       "    <tr>\n",
       "      <th>1997</th>\n",
       "      <td>1</td>\n",
       "    </tr>\n",
       "    <tr>\n",
       "      <th>1999</th>\n",
       "      <td>8</td>\n",
       "    </tr>\n",
       "    <tr>\n",
       "      <th>2000</th>\n",
       "      <td>43</td>\n",
       "    </tr>\n",
       "    <tr>\n",
       "      <th>2001</th>\n",
       "      <td>82</td>\n",
       "    </tr>\n",
       "    <tr>\n",
       "      <th>2002</th>\n",
       "      <td>192</td>\n",
       "    </tr>\n",
       "    <tr>\n",
       "      <th>2003</th>\n",
       "      <td>95</td>\n",
       "    </tr>\n",
       "    <tr>\n",
       "      <th>2004</th>\n",
       "      <td>107</td>\n",
       "    </tr>\n",
       "    <tr>\n",
       "      <th>2005</th>\n",
       "      <td>121</td>\n",
       "    </tr>\n",
       "    <tr>\n",
       "      <th>2006</th>\n",
       "      <td>124</td>\n",
       "    </tr>\n",
       "    <tr>\n",
       "      <th>2007</th>\n",
       "      <td>192</td>\n",
       "    </tr>\n",
       "    <tr>\n",
       "      <th>2008</th>\n",
       "      <td>326</td>\n",
       "    </tr>\n",
       "    <tr>\n",
       "      <th>2009</th>\n",
       "      <td>405</td>\n",
       "    </tr>\n",
       "    <tr>\n",
       "      <th>2010</th>\n",
       "      <td>331</td>\n",
       "    </tr>\n",
       "    <tr>\n",
       "      <th>2011</th>\n",
       "      <td>217</td>\n",
       "    </tr>\n",
       "    <tr>\n",
       "      <th>2012</th>\n",
       "      <td>24</td>\n",
       "    </tr>\n",
       "    <tr>\n",
       "      <th>2013</th>\n",
       "      <td>15</td>\n",
       "    </tr>\n",
       "    <tr>\n",
       "      <th>2014</th>\n",
       "      <td>21</td>\n",
       "    </tr>\n",
       "    <tr>\n",
       "      <th>2015</th>\n",
       "      <td>38</td>\n",
       "    </tr>\n",
       "    <tr>\n",
       "      <th>2016</th>\n",
       "      <td>34</td>\n",
       "    </tr>\n",
       "  </tbody>\n",
       "</table>\n",
       "</div>"
      ],
      "text/plain": [
       "                user_score\n",
       "                     count\n",
       "year_of_release           \n",
       "1997                     1\n",
       "1999                     8\n",
       "2000                    43\n",
       "2001                    82\n",
       "2002                   192\n",
       "2003                    95\n",
       "2004                   107\n",
       "2005                   121\n",
       "2006                   124\n",
       "2007                   192\n",
       "2008                   326\n",
       "2009                   405\n",
       "2010                   331\n",
       "2011                   217\n",
       "2012                    24\n",
       "2013                    15\n",
       "2014                    21\n",
       "2015                    38\n",
       "2016                    34"
      ]
     },
     "execution_count": 6,
     "metadata": {},
     "output_type": "execute_result"
    }
   ],
   "source": [
    "data_tbd = data[(data['user_score'] == 'tbd')]\n",
    "data_tbd.pivot_table(index='year_of_release', values=['user_score'], aggfunc={'count'})"
   ]
  },
  {
   "cell_type": "markdown",
   "metadata": {},
   "source": [
    "Оценки 'tbd' резко снижаются с 2012 года, с этого периода пользователям, возможно, стало удобнее ставить свои оценки. В 2012-2016 годы такого вида оценок мало (порядка 7%)."
   ]
  },
  {
   "cell_type": "code",
   "execution_count": 7,
   "metadata": {},
   "outputs": [
    {
     "data": {
      "text/html": [
       "<div>\n",
       "<style scoped>\n",
       "    .dataframe tbody tr th:only-of-type {\n",
       "        vertical-align: middle;\n",
       "    }\n",
       "\n",
       "    .dataframe tbody tr th {\n",
       "        vertical-align: top;\n",
       "    }\n",
       "\n",
       "    .dataframe thead tr th {\n",
       "        text-align: left;\n",
       "    }\n",
       "\n",
       "    .dataframe thead tr:last-of-type th {\n",
       "        text-align: right;\n",
       "    }\n",
       "</style>\n",
       "<table border=\"1\" class=\"dataframe\">\n",
       "  <thead>\n",
       "    <tr>\n",
       "      <th></th>\n",
       "      <th>critic_score</th>\n",
       "    </tr>\n",
       "    <tr>\n",
       "      <th></th>\n",
       "      <th>sum</th>\n",
       "    </tr>\n",
       "    <tr>\n",
       "      <th>year_of_release</th>\n",
       "      <th></th>\n",
       "    </tr>\n",
       "  </thead>\n",
       "  <tbody>\n",
       "    <tr>\n",
       "      <th>1980</th>\n",
       "      <td>9</td>\n",
       "    </tr>\n",
       "    <tr>\n",
       "      <th>1981</th>\n",
       "      <td>46</td>\n",
       "    </tr>\n",
       "    <tr>\n",
       "      <th>1982</th>\n",
       "      <td>36</td>\n",
       "    </tr>\n",
       "    <tr>\n",
       "      <th>1983</th>\n",
       "      <td>17</td>\n",
       "    </tr>\n",
       "    <tr>\n",
       "      <th>1984</th>\n",
       "      <td>14</td>\n",
       "    </tr>\n",
       "    <tr>\n",
       "      <th>1985</th>\n",
       "      <td>13</td>\n",
       "    </tr>\n",
       "    <tr>\n",
       "      <th>1986</th>\n",
       "      <td>21</td>\n",
       "    </tr>\n",
       "    <tr>\n",
       "      <th>1987</th>\n",
       "      <td>16</td>\n",
       "    </tr>\n",
       "    <tr>\n",
       "      <th>1988</th>\n",
       "      <td>14</td>\n",
       "    </tr>\n",
       "    <tr>\n",
       "      <th>1989</th>\n",
       "      <td>17</td>\n",
       "    </tr>\n",
       "    <tr>\n",
       "      <th>1990</th>\n",
       "      <td>16</td>\n",
       "    </tr>\n",
       "    <tr>\n",
       "      <th>1991</th>\n",
       "      <td>41</td>\n",
       "    </tr>\n",
       "    <tr>\n",
       "      <th>1992</th>\n",
       "      <td>42</td>\n",
       "    </tr>\n",
       "    <tr>\n",
       "      <th>1993</th>\n",
       "      <td>60</td>\n",
       "    </tr>\n",
       "    <tr>\n",
       "      <th>1994</th>\n",
       "      <td>120</td>\n",
       "    </tr>\n",
       "    <tr>\n",
       "      <th>1995</th>\n",
       "      <td>219</td>\n",
       "    </tr>\n",
       "    <tr>\n",
       "      <th>1996</th>\n",
       "      <td>255</td>\n",
       "    </tr>\n",
       "    <tr>\n",
       "      <th>1997</th>\n",
       "      <td>272</td>\n",
       "    </tr>\n",
       "    <tr>\n",
       "      <th>1998</th>\n",
       "      <td>351</td>\n",
       "    </tr>\n",
       "    <tr>\n",
       "      <th>1999</th>\n",
       "      <td>299</td>\n",
       "    </tr>\n",
       "    <tr>\n",
       "      <th>2000</th>\n",
       "      <td>207</td>\n",
       "    </tr>\n",
       "    <tr>\n",
       "      <th>2001</th>\n",
       "      <td>156</td>\n",
       "    </tr>\n",
       "    <tr>\n",
       "      <th>2002</th>\n",
       "      <td>202</td>\n",
       "    </tr>\n",
       "    <tr>\n",
       "      <th>2003</th>\n",
       "      <td>190</td>\n",
       "    </tr>\n",
       "    <tr>\n",
       "      <th>2004</th>\n",
       "      <td>201</td>\n",
       "    </tr>\n",
       "    <tr>\n",
       "      <th>2005</th>\n",
       "      <td>284</td>\n",
       "    </tr>\n",
       "    <tr>\n",
       "      <th>2006</th>\n",
       "      <td>386</td>\n",
       "    </tr>\n",
       "    <tr>\n",
       "      <th>2007</th>\n",
       "      <td>505</td>\n",
       "    </tr>\n",
       "    <tr>\n",
       "      <th>2008</th>\n",
       "      <td>712</td>\n",
       "    </tr>\n",
       "    <tr>\n",
       "      <th>2009</th>\n",
       "      <td>775</td>\n",
       "    </tr>\n",
       "    <tr>\n",
       "      <th>2010</th>\n",
       "      <td>755</td>\n",
       "    </tr>\n",
       "    <tr>\n",
       "      <th>2011</th>\n",
       "      <td>636</td>\n",
       "    </tr>\n",
       "    <tr>\n",
       "      <th>2012</th>\n",
       "      <td>332</td>\n",
       "    </tr>\n",
       "    <tr>\n",
       "      <th>2013</th>\n",
       "      <td>271</td>\n",
       "    </tr>\n",
       "    <tr>\n",
       "      <th>2014</th>\n",
       "      <td>320</td>\n",
       "    </tr>\n",
       "    <tr>\n",
       "      <th>2015</th>\n",
       "      <td>381</td>\n",
       "    </tr>\n",
       "    <tr>\n",
       "      <th>2016</th>\n",
       "      <td>270</td>\n",
       "    </tr>\n",
       "  </tbody>\n",
       "</table>\n",
       "</div>"
      ],
      "text/plain": [
       "                critic_score\n",
       "                         sum\n",
       "year_of_release             \n",
       "1980                       9\n",
       "1981                      46\n",
       "1982                      36\n",
       "1983                      17\n",
       "1984                      14\n",
       "1985                      13\n",
       "1986                      21\n",
       "1987                      16\n",
       "1988                      14\n",
       "1989                      17\n",
       "1990                      16\n",
       "1991                      41\n",
       "1992                      42\n",
       "1993                      60\n",
       "1994                     120\n",
       "1995                     219\n",
       "1996                     255\n",
       "1997                     272\n",
       "1998                     351\n",
       "1999                     299\n",
       "2000                     207\n",
       "2001                     156\n",
       "2002                     202\n",
       "2003                     190\n",
       "2004                     201\n",
       "2005                     284\n",
       "2006                     386\n",
       "2007                     505\n",
       "2008                     712\n",
       "2009                     775\n",
       "2010                     755\n",
       "2011                     636\n",
       "2012                     332\n",
       "2013                     271\n",
       "2014                     320\n",
       "2015                     381\n",
       "2016                     270"
      ]
     },
     "execution_count": 7,
     "metadata": {},
     "output_type": "execute_result"
    }
   ],
   "source": [
    "data_critic_score_na = data[data['critic_score'].isna()].sort_values(by = 'year_of_release')\n",
    "data_critic_score_na['critic_score'] = 1 #для удобного подсчёта по годам\n",
    "data_critic_score_na.pivot_table(index='year_of_release', values=['critic_score'], aggfunc={'sum'})"
   ]
  },
  {
   "cell_type": "markdown",
   "metadata": {},
   "source": [
    "Получается, что больше половины оценок критиков за 2012-2016 годы отсутсвуют. Тем не менее, заполнять данные было бы противоречиво некоторым целям исследования"
   ]
  },
  {
   "cell_type": "code",
   "execution_count": 8,
   "metadata": {},
   "outputs": [
    {
     "data": {
      "text/html": [
       "<div>\n",
       "<style scoped>\n",
       "    .dataframe tbody tr th:only-of-type {\n",
       "        vertical-align: middle;\n",
       "    }\n",
       "\n",
       "    .dataframe tbody tr th {\n",
       "        vertical-align: top;\n",
       "    }\n",
       "\n",
       "    .dataframe thead tr th {\n",
       "        text-align: left;\n",
       "    }\n",
       "\n",
       "    .dataframe thead tr:last-of-type th {\n",
       "        text-align: right;\n",
       "    }\n",
       "</style>\n",
       "<table border=\"1\" class=\"dataframe\">\n",
       "  <thead>\n",
       "    <tr>\n",
       "      <th></th>\n",
       "      <th>user_score</th>\n",
       "    </tr>\n",
       "    <tr>\n",
       "      <th></th>\n",
       "      <th>sum</th>\n",
       "    </tr>\n",
       "    <tr>\n",
       "      <th>year_of_release</th>\n",
       "      <th></th>\n",
       "    </tr>\n",
       "  </thead>\n",
       "  <tbody>\n",
       "    <tr>\n",
       "      <th>1980</th>\n",
       "      <td>9</td>\n",
       "    </tr>\n",
       "    <tr>\n",
       "      <th>1981</th>\n",
       "      <td>46</td>\n",
       "    </tr>\n",
       "    <tr>\n",
       "      <th>1982</th>\n",
       "      <td>36</td>\n",
       "    </tr>\n",
       "    <tr>\n",
       "      <th>1983</th>\n",
       "      <td>17</td>\n",
       "    </tr>\n",
       "    <tr>\n",
       "      <th>1984</th>\n",
       "      <td>14</td>\n",
       "    </tr>\n",
       "    <tr>\n",
       "      <th>1985</th>\n",
       "      <td>13</td>\n",
       "    </tr>\n",
       "    <tr>\n",
       "      <th>1986</th>\n",
       "      <td>21</td>\n",
       "    </tr>\n",
       "    <tr>\n",
       "      <th>1987</th>\n",
       "      <td>16</td>\n",
       "    </tr>\n",
       "    <tr>\n",
       "      <th>1988</th>\n",
       "      <td>14</td>\n",
       "    </tr>\n",
       "    <tr>\n",
       "      <th>1989</th>\n",
       "      <td>17</td>\n",
       "    </tr>\n",
       "    <tr>\n",
       "      <th>1990</th>\n",
       "      <td>16</td>\n",
       "    </tr>\n",
       "    <tr>\n",
       "      <th>1991</th>\n",
       "      <td>41</td>\n",
       "    </tr>\n",
       "    <tr>\n",
       "      <th>1992</th>\n",
       "      <td>42</td>\n",
       "    </tr>\n",
       "    <tr>\n",
       "      <th>1993</th>\n",
       "      <td>60</td>\n",
       "    </tr>\n",
       "    <tr>\n",
       "      <th>1994</th>\n",
       "      <td>120</td>\n",
       "    </tr>\n",
       "    <tr>\n",
       "      <th>1995</th>\n",
       "      <td>219</td>\n",
       "    </tr>\n",
       "    <tr>\n",
       "      <th>1996</th>\n",
       "      <td>255</td>\n",
       "    </tr>\n",
       "    <tr>\n",
       "      <th>1997</th>\n",
       "      <td>270</td>\n",
       "    </tr>\n",
       "    <tr>\n",
       "      <th>1998</th>\n",
       "      <td>348</td>\n",
       "    </tr>\n",
       "    <tr>\n",
       "      <th>1999</th>\n",
       "      <td>299</td>\n",
       "    </tr>\n",
       "    <tr>\n",
       "      <th>2000</th>\n",
       "      <td>200</td>\n",
       "    </tr>\n",
       "    <tr>\n",
       "      <th>2001</th>\n",
       "      <td>143</td>\n",
       "    </tr>\n",
       "    <tr>\n",
       "      <th>2002</th>\n",
       "      <td>173</td>\n",
       "    </tr>\n",
       "    <tr>\n",
       "      <th>2003</th>\n",
       "      <td>164</td>\n",
       "    </tr>\n",
       "    <tr>\n",
       "      <th>2004</th>\n",
       "      <td>166</td>\n",
       "    </tr>\n",
       "    <tr>\n",
       "      <th>2005</th>\n",
       "      <td>235</td>\n",
       "    </tr>\n",
       "    <tr>\n",
       "      <th>2006</th>\n",
       "      <td>330</td>\n",
       "    </tr>\n",
       "    <tr>\n",
       "      <th>2007</th>\n",
       "      <td>376</td>\n",
       "    </tr>\n",
       "    <tr>\n",
       "      <th>2008</th>\n",
       "      <td>440</td>\n",
       "    </tr>\n",
       "    <tr>\n",
       "      <th>2009</th>\n",
       "      <td>407</td>\n",
       "    </tr>\n",
       "    <tr>\n",
       "      <th>2010</th>\n",
       "      <td>457</td>\n",
       "    </tr>\n",
       "    <tr>\n",
       "      <th>2011</th>\n",
       "      <td>418</td>\n",
       "    </tr>\n",
       "    <tr>\n",
       "      <th>2012</th>\n",
       "      <td>290</td>\n",
       "    </tr>\n",
       "    <tr>\n",
       "      <th>2013</th>\n",
       "      <td>225</td>\n",
       "    </tr>\n",
       "    <tr>\n",
       "      <th>2014</th>\n",
       "      <td>231</td>\n",
       "    </tr>\n",
       "    <tr>\n",
       "      <th>2015</th>\n",
       "      <td>271</td>\n",
       "    </tr>\n",
       "    <tr>\n",
       "      <th>2016</th>\n",
       "      <td>206</td>\n",
       "    </tr>\n",
       "  </tbody>\n",
       "</table>\n",
       "</div>"
      ],
      "text/plain": [
       "                user_score\n",
       "                       sum\n",
       "year_of_release           \n",
       "1980                     9\n",
       "1981                    46\n",
       "1982                    36\n",
       "1983                    17\n",
       "1984                    14\n",
       "1985                    13\n",
       "1986                    21\n",
       "1987                    16\n",
       "1988                    14\n",
       "1989                    17\n",
       "1990                    16\n",
       "1991                    41\n",
       "1992                    42\n",
       "1993                    60\n",
       "1994                   120\n",
       "1995                   219\n",
       "1996                   255\n",
       "1997                   270\n",
       "1998                   348\n",
       "1999                   299\n",
       "2000                   200\n",
       "2001                   143\n",
       "2002                   173\n",
       "2003                   164\n",
       "2004                   166\n",
       "2005                   235\n",
       "2006                   330\n",
       "2007                   376\n",
       "2008                   440\n",
       "2009                   407\n",
       "2010                   457\n",
       "2011                   418\n",
       "2012                   290\n",
       "2013                   225\n",
       "2014                   231\n",
       "2015                   271\n",
       "2016                   206"
      ]
     },
     "execution_count": 8,
     "metadata": {},
     "output_type": "execute_result"
    }
   ],
   "source": [
    "data_user_score_na = data[data['user_score'].isna()].sort_values(by = 'year_of_release')\n",
    "data_user_score_na['user_score'] = 1\n",
    "data_user_score_na.pivot_table(index='year_of_release', values=['user_score'], aggfunc={'sum'})"
   ]
  },
  {
   "cell_type": "markdown",
   "metadata": {},
   "source": [
    "Оценок от пользователей несколько больше, но всё ещё примерно пополам присутсвие и отсутсвие данных.\n",
    "\n",
    "Для составления анализа на 2017 год вряд ли акутальны данные старше 2012 года (рынок игр за 5 лет мог полностью поменяться)"
   ]
  },
  {
   "cell_type": "markdown",
   "metadata": {},
   "source": [
    "**Суммарные продажи по регионам**"
   ]
  },
  {
   "cell_type": "code",
   "execution_count": 9,
   "metadata": {},
   "outputs": [],
   "source": [
    "data['sum_sales'] = data['na_sales'] + data['eu_sales'] + data['jp_sales'] + data['other_sales']"
   ]
  },
  {
   "cell_type": "code",
   "execution_count": 10,
   "metadata": {
    "scrolled": true
   },
   "outputs": [
    {
     "data": {
      "text/html": [
       "<div>\n",
       "<style scoped>\n",
       "    .dataframe tbody tr th:only-of-type {\n",
       "        vertical-align: middle;\n",
       "    }\n",
       "\n",
       "    .dataframe tbody tr th {\n",
       "        vertical-align: top;\n",
       "    }\n",
       "\n",
       "    .dataframe thead th {\n",
       "        text-align: right;\n",
       "    }\n",
       "</style>\n",
       "<table border=\"1\" class=\"dataframe\">\n",
       "  <thead>\n",
       "    <tr style=\"text-align: right;\">\n",
       "      <th></th>\n",
       "      <th>name</th>\n",
       "      <th>platform</th>\n",
       "      <th>year_of_release</th>\n",
       "      <th>genre</th>\n",
       "      <th>na_sales</th>\n",
       "      <th>eu_sales</th>\n",
       "      <th>jp_sales</th>\n",
       "      <th>other_sales</th>\n",
       "      <th>critic_score</th>\n",
       "      <th>user_score</th>\n",
       "      <th>rating</th>\n",
       "      <th>sum_sales</th>\n",
       "    </tr>\n",
       "  </thead>\n",
       "  <tbody>\n",
       "    <tr>\n",
       "      <th>0</th>\n",
       "      <td>wii sports</td>\n",
       "      <td>wii</td>\n",
       "      <td>2006</td>\n",
       "      <td>sports</td>\n",
       "      <td>41.36</td>\n",
       "      <td>28.96</td>\n",
       "      <td>3.77</td>\n",
       "      <td>8.45</td>\n",
       "      <td>76.0</td>\n",
       "      <td>8</td>\n",
       "      <td>E</td>\n",
       "      <td>82.54</td>\n",
       "    </tr>\n",
       "    <tr>\n",
       "      <th>1</th>\n",
       "      <td>super mario bros.</td>\n",
       "      <td>nes</td>\n",
       "      <td>1985</td>\n",
       "      <td>platform</td>\n",
       "      <td>29.08</td>\n",
       "      <td>3.58</td>\n",
       "      <td>6.81</td>\n",
       "      <td>0.77</td>\n",
       "      <td>NaN</td>\n",
       "      <td>NaN</td>\n",
       "      <td>NaN</td>\n",
       "      <td>40.24</td>\n",
       "    </tr>\n",
       "    <tr>\n",
       "      <th>2</th>\n",
       "      <td>mario kart wii</td>\n",
       "      <td>wii</td>\n",
       "      <td>2008</td>\n",
       "      <td>racing</td>\n",
       "      <td>15.68</td>\n",
       "      <td>12.76</td>\n",
       "      <td>3.79</td>\n",
       "      <td>3.29</td>\n",
       "      <td>82.0</td>\n",
       "      <td>8.3</td>\n",
       "      <td>E</td>\n",
       "      <td>35.52</td>\n",
       "    </tr>\n",
       "    <tr>\n",
       "      <th>3</th>\n",
       "      <td>wii sports resort</td>\n",
       "      <td>wii</td>\n",
       "      <td>2009</td>\n",
       "      <td>sports</td>\n",
       "      <td>15.61</td>\n",
       "      <td>10.93</td>\n",
       "      <td>3.28</td>\n",
       "      <td>2.95</td>\n",
       "      <td>80.0</td>\n",
       "      <td>8</td>\n",
       "      <td>E</td>\n",
       "      <td>32.77</td>\n",
       "    </tr>\n",
       "    <tr>\n",
       "      <th>4</th>\n",
       "      <td>pokemon red/pokemon blue</td>\n",
       "      <td>gb</td>\n",
       "      <td>1996</td>\n",
       "      <td>role-playing</td>\n",
       "      <td>11.27</td>\n",
       "      <td>8.89</td>\n",
       "      <td>10.22</td>\n",
       "      <td>1.00</td>\n",
       "      <td>NaN</td>\n",
       "      <td>NaN</td>\n",
       "      <td>NaN</td>\n",
       "      <td>31.38</td>\n",
       "    </tr>\n",
       "    <tr>\n",
       "      <th>...</th>\n",
       "      <td>...</td>\n",
       "      <td>...</td>\n",
       "      <td>...</td>\n",
       "      <td>...</td>\n",
       "      <td>...</td>\n",
       "      <td>...</td>\n",
       "      <td>...</td>\n",
       "      <td>...</td>\n",
       "      <td>...</td>\n",
       "      <td>...</td>\n",
       "      <td>...</td>\n",
       "      <td>...</td>\n",
       "    </tr>\n",
       "    <tr>\n",
       "      <th>16710</th>\n",
       "      <td>samurai warriors: sanada maru</td>\n",
       "      <td>ps3</td>\n",
       "      <td>2016</td>\n",
       "      <td>action</td>\n",
       "      <td>0.00</td>\n",
       "      <td>0.00</td>\n",
       "      <td>0.01</td>\n",
       "      <td>0.00</td>\n",
       "      <td>NaN</td>\n",
       "      <td>NaN</td>\n",
       "      <td>NaN</td>\n",
       "      <td>0.01</td>\n",
       "    </tr>\n",
       "    <tr>\n",
       "      <th>16711</th>\n",
       "      <td>lma manager 2007</td>\n",
       "      <td>x360</td>\n",
       "      <td>2006</td>\n",
       "      <td>sports</td>\n",
       "      <td>0.00</td>\n",
       "      <td>0.01</td>\n",
       "      <td>0.00</td>\n",
       "      <td>0.00</td>\n",
       "      <td>NaN</td>\n",
       "      <td>NaN</td>\n",
       "      <td>NaN</td>\n",
       "      <td>0.01</td>\n",
       "    </tr>\n",
       "    <tr>\n",
       "      <th>16712</th>\n",
       "      <td>haitaka no psychedelica</td>\n",
       "      <td>psv</td>\n",
       "      <td>2016</td>\n",
       "      <td>adventure</td>\n",
       "      <td>0.00</td>\n",
       "      <td>0.00</td>\n",
       "      <td>0.01</td>\n",
       "      <td>0.00</td>\n",
       "      <td>NaN</td>\n",
       "      <td>NaN</td>\n",
       "      <td>NaN</td>\n",
       "      <td>0.01</td>\n",
       "    </tr>\n",
       "    <tr>\n",
       "      <th>16713</th>\n",
       "      <td>spirits &amp; spells</td>\n",
       "      <td>gba</td>\n",
       "      <td>2003</td>\n",
       "      <td>platform</td>\n",
       "      <td>0.01</td>\n",
       "      <td>0.00</td>\n",
       "      <td>0.00</td>\n",
       "      <td>0.00</td>\n",
       "      <td>NaN</td>\n",
       "      <td>NaN</td>\n",
       "      <td>NaN</td>\n",
       "      <td>0.01</td>\n",
       "    </tr>\n",
       "    <tr>\n",
       "      <th>16714</th>\n",
       "      <td>winning post 8 2016</td>\n",
       "      <td>psv</td>\n",
       "      <td>2016</td>\n",
       "      <td>simulation</td>\n",
       "      <td>0.00</td>\n",
       "      <td>0.00</td>\n",
       "      <td>0.01</td>\n",
       "      <td>0.00</td>\n",
       "      <td>NaN</td>\n",
       "      <td>NaN</td>\n",
       "      <td>NaN</td>\n",
       "      <td>0.01</td>\n",
       "    </tr>\n",
       "  </tbody>\n",
       "</table>\n",
       "<p>16444 rows × 12 columns</p>\n",
       "</div>"
      ],
      "text/plain": [
       "                                name platform  year_of_release         genre  \\\n",
       "0                         wii sports      wii             2006        sports   \n",
       "1                  super mario bros.      nes             1985      platform   \n",
       "2                     mario kart wii      wii             2008        racing   \n",
       "3                  wii sports resort      wii             2009        sports   \n",
       "4           pokemon red/pokemon blue       gb             1996  role-playing   \n",
       "...                              ...      ...              ...           ...   \n",
       "16710  samurai warriors: sanada maru      ps3             2016        action   \n",
       "16711               lma manager 2007     x360             2006        sports   \n",
       "16712        haitaka no psychedelica      psv             2016     adventure   \n",
       "16713               spirits & spells      gba             2003      platform   \n",
       "16714            winning post 8 2016      psv             2016    simulation   \n",
       "\n",
       "       na_sales  eu_sales  jp_sales  other_sales  critic_score user_score  \\\n",
       "0         41.36     28.96      3.77         8.45          76.0          8   \n",
       "1         29.08      3.58      6.81         0.77           NaN        NaN   \n",
       "2         15.68     12.76      3.79         3.29          82.0        8.3   \n",
       "3         15.61     10.93      3.28         2.95          80.0          8   \n",
       "4         11.27      8.89     10.22         1.00           NaN        NaN   \n",
       "...         ...       ...       ...          ...           ...        ...   \n",
       "16710      0.00      0.00      0.01         0.00           NaN        NaN   \n",
       "16711      0.00      0.01      0.00         0.00           NaN        NaN   \n",
       "16712      0.00      0.00      0.01         0.00           NaN        NaN   \n",
       "16713      0.01      0.00      0.00         0.00           NaN        NaN   \n",
       "16714      0.00      0.00      0.01         0.00           NaN        NaN   \n",
       "\n",
       "      rating  sum_sales  \n",
       "0          E      82.54  \n",
       "1        NaN      40.24  \n",
       "2          E      35.52  \n",
       "3          E      32.77  \n",
       "4        NaN      31.38  \n",
       "...      ...        ...  \n",
       "16710    NaN       0.01  \n",
       "16711    NaN       0.01  \n",
       "16712    NaN       0.01  \n",
       "16713    NaN       0.01  \n",
       "16714    NaN       0.01  \n",
       "\n",
       "[16444 rows x 12 columns]"
      ]
     },
     "execution_count": 10,
     "metadata": {},
     "output_type": "execute_result"
    }
   ],
   "source": [
    "data #проверка"
   ]
  },
  {
   "cell_type": "code",
   "execution_count": 11,
   "metadata": {},
   "outputs": [
    {
     "data": {
      "text/plain": [
       "array(['E', nan, 'M', 'T', 'E10+', 'K-A', 'AO', 'EC', 'RP'], dtype=object)"
      ]
     },
     "execution_count": 11,
     "metadata": {},
     "output_type": "execute_result"
    }
   ],
   "source": [
    "data['rating'].unique()"
   ]
  },
  {
   "cell_type": "markdown",
   "metadata": {},
   "source": [
    "В системе Entertainment Software Rating Board существуют следующие варианты оценки: Early childhood, Everyone, Everyone +10, Teen, Matur, Adults Only. В рейтинге рассматрваемых данных K-A (kids to adults) и E - одно и то же."
   ]
  },
  {
   "cell_type": "code",
   "execution_count": 12,
   "metadata": {},
   "outputs": [],
   "source": [
    "data['rating'] = data['rating'].str.replace('K-A', 'E')"
   ]
  },
  {
   "cell_type": "code",
   "execution_count": 13,
   "metadata": {},
   "outputs": [
    {
     "name": "stdout",
     "output_type": "stream",
     "text": [
      "<class 'pandas.core.frame.DataFrame'>\n",
      "Int64Index: 16444 entries, 0 to 16714\n",
      "Data columns (total 12 columns):\n",
      " #   Column           Non-Null Count  Dtype  \n",
      "---  ------           --------------  -----  \n",
      " 0   name             16444 non-null  object \n",
      " 1   platform         16444 non-null  object \n",
      " 2   year_of_release  16444 non-null  int64  \n",
      " 3   genre            16444 non-null  object \n",
      " 4   na_sales         16444 non-null  float64\n",
      " 5   eu_sales         16444 non-null  float64\n",
      " 6   jp_sales         16444 non-null  float64\n",
      " 7   other_sales      16444 non-null  float64\n",
      " 8   critic_score     7983 non-null   float64\n",
      " 9   user_score       7463 non-null   float64\n",
      " 10  rating           9768 non-null   object \n",
      " 11  sum_sales        16444 non-null  float64\n",
      "dtypes: float64(7), int64(1), object(4)\n",
      "memory usage: 2.1+ MB\n"
     ]
    }
   ],
   "source": [
    "data['user_score'] = data['user_score'].replace('tbd', np.NaN) #без замены не приветси к вещественному виду, чтобы можно было\n",
    "                                                               #анализировать как число в случае необходимости\n",
    "data['user_score'] = data['user_score'].astype(float) \n",
    "#в оценках критиков есть пропуски, поэтому тип не изменить\n",
    "data.info()"
   ]
  },
  {
   "cell_type": "code",
   "execution_count": 14,
   "metadata": {},
   "outputs": [
    {
     "name": "stdout",
     "output_type": "stream",
     "text": [
      "<class 'pandas.core.frame.DataFrame'>\n",
      "Int64Index: 16444 entries, 0 to 16714\n",
      "Data columns (total 12 columns):\n",
      " #   Column           Non-Null Count  Dtype  \n",
      "---  ------           --------------  -----  \n",
      " 0   name             16444 non-null  object \n",
      " 1   platform         16444 non-null  object \n",
      " 2   year_of_release  16444 non-null  int64  \n",
      " 3   genre            16444 non-null  object \n",
      " 4   na_sales         16444 non-null  float64\n",
      " 5   eu_sales         16444 non-null  float64\n",
      " 6   jp_sales         16444 non-null  float64\n",
      " 7   other_sales      16444 non-null  float64\n",
      " 8   critic_score     7983 non-null   float64\n",
      " 9   user_score       7463 non-null   float64\n",
      " 10  rating           9768 non-null   object \n",
      " 11  sum_sales        16444 non-null  float64\n",
      "dtypes: float64(7), int64(1), object(4)\n",
      "memory usage: 2.1+ MB\n",
      "None\n",
      "-------------------------\n",
      "name [' beyblade burst' ' fire emblem fates' \" frozen: olaf's quest\" ...\n",
      " 'zwei!!' 'zyuden sentai kyoryuger: game de gaburincho!!'\n",
      " '¡shin chan flipa en colores!']\n",
      "name  : кол-во 0 0 , процент 0 0.0 %\n",
      "name : кол-во NaN 0 , процент NaN 0.0 %\n",
      "-------------------------\n",
      "platform ['2600' '3do' '3ds' 'dc' 'ds' 'gb' 'gba' 'gc' 'gen' 'gg' 'n64' 'nes' 'ng'\n",
      " 'pc' 'pcfx' 'ps' 'ps2' 'ps3' 'ps4' 'psp' 'psv' 'sat' 'scd' 'snes' 'tg16'\n",
      " 'wii' 'wiiu' 'ws' 'x360' 'xb' 'xone']\n",
      "platform  : кол-во 0 0 , процент 0 0.0 %\n",
      "platform : кол-во NaN 0 , процент NaN 0.0 %\n",
      "-------------------------\n",
      "year_of_release [1980 1981 1982 1983 1984 1985 1986 1987 1988 1989 1990 1991 1992 1993\n",
      " 1994 1995 1996 1997 1998 1999 2000 2001 2002 2003 2004 2005 2006 2007\n",
      " 2008 2009 2010 2011 2012 2013 2014 2015 2016]\n",
      "year_of_release  : кол-во 0 0 , процент 0 0.0 %\n",
      "year_of_release : кол-во NaN 0 , процент NaN 0.0 %\n",
      "-------------------------\n",
      "genre ['action' 'adventure' 'fighting' 'misc' 'platform' 'puzzle' 'racing'\n",
      " 'role-playing' 'shooter' 'simulation' 'sports' 'strategy']\n",
      "genre  : кол-во 0 0 , процент 0 0.0 %\n",
      "genre : кол-во NaN 0 , процент NaN 0.0 %\n",
      "-------------------------\n",
      "critic_score [13. 17. 19. 20. 21. 23. 24. 25. 26. 27. 28. 29. 30. 31. 32. 33. 34. 35.\n",
      " 36. 37. 38. 39. 40. 41. 42. 43. 44. 45. 46. 47. 48. 49. 50. 51. 52. 53.\n",
      " 54. 55. 56. 57. 58. 59. 60. 61. 62. 63. 64. 65. 66. 67. 68. 69. 70. 71.\n",
      " 72. 73. 74. 75. 76. 77. 78. 79. 80. 81. 82. 83. 84. 85. 86. 87. 88. 89.\n",
      " 90. 91. 92. 93. 94. 95. 96. 97. 98. nan]\n",
      "critic_score  : кол-во 0 0 , процент 0 0.0 %\n",
      "critic_score : кол-во NaN 8461 , процент NaN 51.45 %\n",
      "-------------------------\n",
      "user_score [0.  0.2 0.3 0.5 0.6 0.7 0.9 1.  1.1 1.2 1.3 1.4 1.5 1.6 1.7 1.8 1.9 2.\n",
      " 2.1 2.2 2.3 2.4 2.5 2.6 2.7 2.8 2.9 3.  3.1 3.2 3.3 3.4 3.5 3.6 3.7 3.8\n",
      " 3.9 4.  4.1 4.2 4.3 4.4 4.5 4.6 4.7 4.8 4.9 5.  5.1 5.2 5.3 5.4 5.5 5.6\n",
      " 5.7 5.8 5.9 6.  6.1 6.2 6.3 6.4 6.5 6.6 6.7 6.8 6.9 7.  7.1 7.2 7.3 7.4\n",
      " 7.5 7.6 7.7 7.8 7.9 8.  8.1 8.2 8.3 8.4 8.5 8.6 8.7 8.8 8.9 9.  9.1 9.2\n",
      " 9.3 9.4 9.5 9.6 9.7 nan]\n",
      "user_score  : кол-во 0 1 , процент 0 0.01 %\n",
      "user_score : кол-во NaN 8981 , процент NaN 54.62 %\n",
      "-------------------------\n",
      "rating ['AO' 'E' 'E10+' 'EC' 'M' 'RP' 'T' nan]\n",
      "rating  : кол-во 0 0 , процент 0 0.0 %\n",
      "rating : кол-во NaN 6676 , процент NaN 40.6 %\n"
     ]
    }
   ],
   "source": [
    "# Комментарий ревьюера 0\n",
    "# Посмотрим, что у нас осталось\n",
    "temp = data.copy() \n",
    "list_c = ['name', 'platform', 'year_of_release', 'genre', 'critic_score', 'user_score', 'rating']\n",
    "print(temp.info())\n",
    "for col_l in list_c:\n",
    "  print('-'* 25)\n",
    "  print(col_l, temp[col_l].sort_values().unique())\n",
    "  print(col_l,' : кол-во 0', temp[temp[col_l] == 0][col_l].count(),\n",
    "        ', процент 0', round(temp[temp[col_l] == 0][col_l].count()/len(temp)*100, 2),'%')\n",
    "  print(col_l,': кол-во NaN',temp[col_l].isna().sum(),\n",
    "        ', процент NaN', round(temp[col_l].isna().sum()/len(temp)*100, 2),'%')"
   ]
  },
  {
   "cell_type": "code",
   "execution_count": 15,
   "metadata": {},
   "outputs": [
    {
     "data": {
      "text/plain": [
       "(2, 16444, 0.01)"
      ]
     },
     "execution_count": 15,
     "metadata": {},
     "output_type": "execute_result"
    }
   ],
   "source": [
    "# Комментарий ревьюера 0\n",
    "a, b = len(data[data.sum_sales == 0]), len(data)\n",
    "a, b, round(a/b*100, 2)"
   ]
  },
  {
   "cell_type": "markdown",
   "metadata": {},
   "source": [
    "# **Исследовательский анализ данных**"
   ]
  },
  {
   "cell_type": "markdown",
   "metadata": {},
   "source": [
    "**3.1 Анализ игр по годам** Требуется определить, важны ли данные за все периоды и динамику изменения продаж."
   ]
  },
  {
   "cell_type": "markdown",
   "metadata": {},
   "source": [
    "Как уже было сказано ранее, данные за все периоды рассматривать на этом этапе не обязательно (в случае рассмотрения продаж по платформам лучше рассматривать данные за все года, чтобы иметь лучшее представление)"
   ]
  },
  {
   "cell_type": "code",
   "execution_count": 16,
   "metadata": {},
   "outputs": [
    {
     "data": {
      "text/plain": [
       "Text(0.5, 0, 'Год выпуска')"
      ]
     },
     "execution_count": 16,
     "metadata": {},
     "output_type": "execute_result"
    },
    {
     "data": {
      "image/png": "[encoded data removed]",
      "text/plain": [
       "<Figure size 576x576 with 1 Axes>"
      ]
     },
     "metadata": {
      "needs_background": "light"
     },
     "output_type": "display_data"
    }
   ],
   "source": [
    "(\n",
    "    data.pivot_table(index='year_of_release', values=['sum_sales'], aggfunc='sum')\n",
    "    .plot(kind='bar', figsize=(8, 8), title='Количество продаж по годам')\n",
    ")\n",
    "plt.ylabel('Объём продаж')\n",
    "plt.xlabel('Год выпуска')"
   ]
  },
  {
   "cell_type": "markdown",
   "metadata": {},
   "source": [
    "Пик зафиксированных продаж пришёлся на 2008 год, при этом далее происходит постепенный спад. Так же нужно помнить о том, что на период 2008-2010 года приходится появление в общем доступе и распространение торрент-файлов, то есть покупки игр могли снизиться и \"благодаря\" этому. За 2016 год, скорее всего, ещё доступны не все данные (особенно если считать, что сейчас декабрь 2016)"
   ]
  },
  {
   "cell_type": "markdown",
   "metadata": {},
   "source": [
    "**3.2 Просмотр продаж игр по платформам** Выбираются платформы с наибольшими суммарными продажами и строится распределение по годам. Необходимо определить характерный срок для появления и исчезания платформы."
   ]
  },
  {
   "cell_type": "code",
   "execution_count": 17,
   "metadata": {},
   "outputs": [
    {
     "data": {
      "text/plain": [
       "(0.0, 2.0)"
      ]
     },
     "execution_count": 17,
     "metadata": {},
     "output_type": "execute_result"
    },
    {
     "data": {
      "image/png": "[encoded data removed]",
      "text/plain": [
       "<Figure size 2160x1080 with 1 Axes>"
      ]
     },
     "metadata": {
      "needs_background": "light"
     },
     "output_type": "display_data"
    }
   ],
   "source": [
    "data_platform_1 = (\n",
    "    data.pivot_table(index=['platform'], values='sum_sales', aggfunc='sum')\n",
    "    .sort_values('sum_sales', ascending=False)\n",
    "    .head(10)\n",
    ")\n",
    "data_platform_1 = data_platform_1.merge(data, on='platform')[['platform', 'year_of_release' ,'sum_sales_y']]\n",
    "data_platform_1['sum_sales_y'] = data_platform_1[data_platform_1['sum_sales_y'] > 0]['sum_sales_y']\n",
    "#data_platform_1['year_of_release'] = data_platform_1[data_platform_1['year_of_release'] >= 2000]['year_of_release']\n",
    "data_platform_1 = data_platform_1.dropna()\n",
    "data_platform_1['year_of_release'] = data_platform_1['year_of_release'].astype(int)\n",
    "sns.barplot(data=data_platform_1, x='year_of_release', y='sum_sales_y', hue='platform')\n",
    "plt.gcf().set_size_inches(30,15)\n",
    "plt.ylim(0, 2)"
   ]
  },
  {
   "cell_type": "markdown",
   "metadata": {},
   "source": [
    "Из графика видно, что появилось множество конкурентных платформ появилось только с 2006 года. При этом, новые популярные платформы появляются в среднем раз в 5 лет и набирают максимум своей популярности на 1-2 год после выпуска. Платформы начинают терять популярность с выходом нового поколения (что логично). За рассматриваемый период многие популярные платформы исчезли, заменившись новым поколением или потеряв популярность по другим причинам."
   ]
  },
  {
   "cell_type": "markdown",
   "metadata": {},
   "source": [
    "**3.3 Определение актуального периода** Актуальный период - позволяющий построить прогноз на 2017 год. "
   ]
  },
  {
   "cell_type": "markdown",
   "metadata": {},
   "source": [
    "Возьмём как актуальный период - период с 2012, так как это год, имеющий большое количество платформ, всё ещё актуальных в 2016 и продажи за 2012-2015 примерно равны."
   ]
  },
  {
   "cell_type": "code",
   "execution_count": 18,
   "metadata": {},
   "outputs": [
    {
     "name": "stdout",
     "output_type": "stream",
     "text": [
      "<class 'pandas.core.frame.DataFrame'>\n",
      "Int64Index: 2886 entries, 16 to 16714\n",
      "Data columns (total 12 columns):\n",
      " #   Column           Non-Null Count  Dtype  \n",
      "---  ------           --------------  -----  \n",
      " 0   name             2886 non-null   object \n",
      " 1   platform         2886 non-null   object \n",
      " 2   year_of_release  2886 non-null   int64  \n",
      " 3   genre            2886 non-null   object \n",
      " 4   na_sales         2886 non-null   float64\n",
      " 5   eu_sales         2886 non-null   float64\n",
      " 6   jp_sales         2886 non-null   float64\n",
      " 7   other_sales      2886 non-null   float64\n",
      " 8   critic_score     1312 non-null   float64\n",
      " 9   user_score       1531 non-null   float64\n",
      " 10  rating           1611 non-null   object \n",
      " 11  sum_sales        2886 non-null   float64\n",
      "dtypes: float64(7), int64(1), object(4)\n",
      "memory usage: 293.1+ KB\n"
     ]
    }
   ],
   "source": [
    "data_scores = data.loc[data['year_of_release'] > 2011].copy()\n",
    "#без .copy() выдавал ошибку \"A value is trying to be set on a copy of a slice from a DataFrame.\"\n",
    "data_scores['critic_score'] = data_scores['critic_score'].astype(int, errors='ignore')\n",
    "data_scores['user_score'] = data_scores['user_score'].astype(float, errors='ignore') \n",
    "data_scores.info()"
   ]
  },
  {
   "cell_type": "code",
   "execution_count": 19,
   "metadata": {},
   "outputs": [
    {
     "name": "stdout",
     "output_type": "stream",
     "text": [
      "action 1031\n",
      "shooter 235\n",
      "role-playing 370\n",
      "platform 85\n",
      "misc 192\n",
      "simulation 80\n",
      "sports 268\n",
      "fighting 109\n",
      "racing 115\n",
      "strategy 71\n",
      "adventure 302\n",
      "puzzle 28\n"
     ]
    }
   ],
   "source": [
    "for v in data_scores['genre'].unique():\n",
    "    print(v, data_scores[data_scores['genre'] == v]['genre'].count())"
   ]
  },
  {
   "cell_type": "code",
   "execution_count": 20,
   "metadata": {},
   "outputs": [
    {
     "data": {
      "text/plain": [
       "(2886, 2886)"
      ]
     },
     "execution_count": 20,
     "metadata": {},
     "output_type": "execute_result"
    }
   ],
   "source": [
    "# Комментарий ревьюера\n",
    "len(data[data['year_of_release'] > 2011]), len(data_scores)"
   ]
  },
  {
   "cell_type": "markdown",
   "metadata": {},
   "source": [
    "В полученной выборке представлены все типы жанров игр."
   ]
  },
  {
   "cell_type": "code",
   "execution_count": 21,
   "metadata": {
    "scrolled": true
   },
   "outputs": [
    {
     "name": "stdout",
     "output_type": "stream",
     "text": [
      "<class 'pandas.core.frame.DataFrame'>\n",
      "Int64Index: 2886 entries, 16 to 16714\n",
      "Data columns (total 12 columns):\n",
      " #   Column           Non-Null Count  Dtype  \n",
      "---  ------           --------------  -----  \n",
      " 0   name             2886 non-null   object \n",
      " 1   platform         2886 non-null   object \n",
      " 2   year_of_release  2886 non-null   int64  \n",
      " 3   genre            2886 non-null   object \n",
      " 4   na_sales         2886 non-null   float64\n",
      " 5   eu_sales         2886 non-null   float64\n",
      " 6   jp_sales         2886 non-null   float64\n",
      " 7   other_sales      2886 non-null   float64\n",
      " 8   critic_score     1312 non-null   float64\n",
      " 9   user_score       1531 non-null   float64\n",
      " 10  rating           1611 non-null   object \n",
      " 11  sum_sales        2886 non-null   float64\n",
      "dtypes: float64(7), int64(1), object(4)\n",
      "memory usage: 293.1+ KB\n",
      "None\n",
      "-------------------------\n",
      "name [' beyblade burst' ' fire emblem fates' \" frozen: olaf's quest\" ...\n",
      " 'zumba fitness rush' 'zumba fitness: world party'\n",
      " 'zyuden sentai kyoryuger: game de gaburincho!!']\n",
      "name : кол-во NaN 0 , процент NaN 0.0 %\n",
      "-------------------------\n",
      "platform ['3ds' 'ds' 'pc' 'ps3' 'ps4' 'psp' 'psv' 'wii' 'wiiu' 'x360' 'xone']\n",
      "platform : кол-во NaN 0 , процент NaN 0.0 %\n",
      "-------------------------\n",
      "year_of_release [2012 2013 2014 2015 2016]\n",
      "year_of_release : кол-во NaN 0 , процент NaN 0.0 %\n",
      "-------------------------\n",
      "genre ['action' 'adventure' 'fighting' 'misc' 'platform' 'puzzle' 'racing'\n",
      " 'role-playing' 'shooter' 'simulation' 'sports' 'strategy']\n",
      "genre : кол-во NaN 0 , процент NaN 0.0 %\n",
      "-------------------------\n",
      "critic_score [13. 19. 20. 23. 24. 25. 26. 31. 32. 33. 34. 35. 36. 37. 38. 39. 40. 42.\n",
      " 43. 44. 45. 46. 47. 48. 49. 50. 51. 52. 53. 54. 55. 56. 57. 58. 59. 60.\n",
      " 61. 62. 63. 64. 65. 66. 67. 68. 69. 70. 71. 72. 73. 74. 75. 76. 77. 78.\n",
      " 79. 80. 81. 82. 83. 84. 85. 86. 87. 88. 89. 90. 91. 92. 93. 94. 95. 96.\n",
      " 97. nan]\n",
      "critic_score : кол-во NaN 1574 , процент NaN 54.54 %\n",
      "-------------------------\n",
      "user_score [0.2 0.7 1.  1.3 1.4 1.5 1.6 1.7 1.8 1.9 2.  2.1 2.2 2.3 2.4 2.5 2.6 2.7\n",
      " 2.8 2.9 3.  3.1 3.2 3.3 3.4 3.5 3.6 3.7 3.8 3.9 4.  4.1 4.2 4.3 4.4 4.5\n",
      " 4.6 4.7 4.8 4.9 5.  5.1 5.2 5.3 5.4 5.5 5.6 5.7 5.8 5.9 6.  6.1 6.2 6.3\n",
      " 6.4 6.5 6.6 6.7 6.8 6.9 7.  7.1 7.2 7.3 7.4 7.5 7.6 7.7 7.8 7.9 8.  8.1\n",
      " 8.2 8.3 8.4 8.5 8.6 8.7 8.8 8.9 9.  9.1 9.2 9.3 nan]\n",
      "user_score : кол-во NaN 1355 , процент NaN 46.95 %\n",
      "-------------------------\n",
      "rating ['E' 'E10+' 'M' 'T' nan]\n",
      "rating : кол-во NaN 1275 , процент NaN 44.18 %\n"
     ]
    }
   ],
   "source": [
    "# Комментарий ревьюера 00\n",
    "# Посмотрим, что осталось в сокращенном датасете\n",
    "temp = data_scores.copy() \n",
    "list_c = ['name', 'platform', 'year_of_release', 'genre', 'critic_score', 'user_score', 'rating']\n",
    "print(temp.info())\n",
    "for col_l in list_c:\n",
    "  print('-'* 25)\n",
    "  print(col_l, temp[col_l].sort_values().unique())\n",
    "  print(col_l,': кол-во NaN',temp[col_l].isna().sum(),\n",
    "        ', процент NaN', round(temp[col_l].isna().mean()*100,2),'%') "
   ]
  },
  {
   "cell_type": "markdown",
   "metadata": {},
   "source": [
    "**3.4 Определение лидирующий платформ:** Лидирующие платформы - имеющие наибольшее количество продаж, то есть они приносят (потенциально) наибольшую прибыль."
   ]
  },
  {
   "cell_type": "code",
   "execution_count": 22,
   "metadata": {},
   "outputs": [
    {
     "data": {
      "image/png": "[encoded data removed]",
      "text/plain": [
       "<Figure size 2160x720 with 1 Axes>"
      ]
     },
     "metadata": {
      "needs_background": "light"
     },
     "output_type": "display_data"
    }
   ],
   "source": [
    "data_platform_2 = (\n",
    "    data.pivot_table(index=['platform'], values='sum_sales', aggfunc='sum')\n",
    "    .sort_values('sum_sales', ascending=False)\n",
    "    .head(20)\n",
    ")\n",
    "data_platform_2 = data_platform_2.merge(data, on='platform')[['platform', 'year_of_release' ,'sum_sales_y']]\n",
    "data_platform_2['sum_sales_y'] = data_platform_2[data_platform_2['sum_sales_y'] > 0]['sum_sales_y']\n",
    "data_platform_2['year_of_release'] = data_platform_2[data_platform_2['year_of_release'] >= 2012]['year_of_release']\n",
    "data_platform_2 = data_platform_2.dropna()\n",
    "data_platform_2['year_of_release'] = data_platform_2['year_of_release'].astype(int)\n",
    "sns.barplot(data=data_platform_2, x='year_of_release', y='sum_sales_y', hue='platform')\n",
    "plt.gcf().set_size_inches(30,10)"
   ]
  },
  {
   "cell_type": "markdown",
   "metadata": {},
   "source": [
    "**Потенциальные платформы:** К концу 2016 года самые популярные платформы: Xbox One, PS4 (появившаяся в 2013 году) и Nintendo 3DS (вышедшая в 2011 году), Wiiu (выпуск - 2012). Все три платформы уже какое-то время существуют на рынке и постепенно падают в продажах, тем не менее, могут оказаться прибыльными, поскольку на рынке находятся только 4-5 лет, а \"держатся\" платформы на рынке больше этого времени (из предыдущего графика). Xbox 360, wii и PS3 ещё используются, но в горащдо меньшей степени."
   ]
  },
  {
   "cell_type": "markdown",
   "metadata": {},
   "source": [
    "**3.5 Построение диаграммы размаха.** Необходимо построит \"ящик с усами\" для определение платформ с наибольшими медианными значениями, обозначения квантилей. Это позволит более точно определить самые продаваемые платформы."
   ]
  },
  {
   "cell_type": "code",
   "execution_count": 23,
   "metadata": {},
   "outputs": [
    {
     "data": {
      "image/png": "[encoded data removed]",
      "text/plain": [
       "<Figure size 2160x720 with 1 Axes>"
      ]
     },
     "metadata": {
      "needs_background": "light"
     },
     "output_type": "display_data"
    }
   ],
   "source": [
    "sns.boxplot(data=data_platform_2, x='sum_sales_y', y='platform', orient='h')\n",
    "plt.xlim(0, 10)\n",
    "plt.gcf().set_size_inches(30,10)"
   ]
  },
  {
   "cell_type": "code",
   "execution_count": 24,
   "metadata": {},
   "outputs": [
    {
     "data": {
      "image/png": "[encoded data removed]",
      "text/plain": [
       "<Figure size 2160x720 with 1 Axes>"
      ]
     },
     "metadata": {
      "needs_background": "light"
     },
     "output_type": "display_data"
    }
   ],
   "source": [
    "sns.boxplot(data=data_platform_2, x='sum_sales_y', y='platform', orient='h')\n",
    "plt.xlim(0, 2)\n",
    "plt.gcf().set_size_inches(30,10)"
   ]
  },
  {
   "cell_type": "markdown",
   "metadata": {},
   "source": [
    "**На графике видно**, у wiiu, Xbox One, Xbox 360 (наибольшее значение) и  за рассматриваемый период медианное количество покупок наибольшее, далее на примерно равных местах PS3 и Wii. В целом, консоли имеют больше продаж, чем другие виды платформ. Довольно длинные \"хвосты\" имеют PS4, Xbox One, Xbox 360 и Wii. Это означает, что эти платформы за рассматриваемый период принесли бы больше всего прибыли. \n",
    "\n",
    "Так же стоит отметить, что несмотря на то, что Wii имеет больший \"хвост\", чем Wiiu, медианое значение у последнего выше. К тому же, Wii - устаревшая модель и продажи игр на неё будут снижаться.\n",
    "\n",
    "Стабильно высокие продажи за рассматриваемый период у: Xbox 360 (с большим отрывом), Xbox One, Wiiu, PS4, PS3"
   ]
  },
  {
   "cell_type": "markdown",
   "metadata": {},
   "source": [
    "**3.6 Построение диаграммы рассеения.** Определение связи между продажами на платформе и оценками пользователей и критиков. Это позволит определить, нужно ли опираться на эти оценки при выборе игры для продажи в магазине."
   ]
  },
  {
   "cell_type": "code",
   "execution_count": 25,
   "metadata": {
    "scrolled": false
   },
   "outputs": [
    {
     "name": "stdout",
     "output_type": "stream",
     "text": [
      "Корреляция между оценкой критиков и суммой продаж x360: 0.36057348885073365\n",
      "Корреляция между оценкой пользователей и суммой продаж x360: 0.0061639786462133256\n"
     ]
    },
    {
     "data": {
      "image/png": "[encoded data removed]",
      "text/plain": [
       "<Figure size 432x288 with 1 Axes>"
      ]
     },
     "metadata": {
      "needs_background": "light"
     },
     "output_type": "display_data"
    },
    {
     "data": {
      "image/png": "[encoded data removed]",
      "text/plain": [
       "<Figure size 432x288 with 1 Axes>"
      ]
     },
     "metadata": {
      "needs_background": "light"
     },
     "output_type": "display_data"
    },
    {
     "name": "stdout",
     "output_type": "stream",
     "text": [
      "Корреляция между оценкой критиков и суммой продаж xone: 0.41699832800840175\n",
      "Корреляция между оценкой пользователей и суммой продаж xone: -0.06892505328279412\n"
     ]
    },
    {
     "data": {
      "image/png": "[encoded data removed]",
      "text/plain": [
       "<Figure size 432x288 with 1 Axes>"
      ]
     },
     "metadata": {
      "needs_background": "light"
     },
     "output_type": "display_data"
    },
    {
     "data": {
      "image/png": "[encoded data removed]",
      "text/plain": [
       "<Figure size 432x288 with 1 Axes>"
      ]
     },
     "metadata": {
      "needs_background": "light"
     },
     "output_type": "display_data"
    },
    {
     "name": "stdout",
     "output_type": "stream",
     "text": [
      "Корреляция между оценкой критиков и суммой продаж wiiu: 0.3483797601201749\n",
      "Корреляция между оценкой пользователей и суммой продаж wiiu: 0.4002190202148617\n"
     ]
    },
    {
     "data": {
      "image/png": "[encoded data removed]",
      "text/plain": [
       "<Figure size 432x288 with 1 Axes>"
      ]
     },
     "metadata": {
      "needs_background": "light"
     },
     "output_type": "display_data"
    },
    {
     "data": {
      "image/png": "[encoded data removed]",
      "text/plain": [
       "<Figure size 432x288 with 1 Axes>"
      ]
     },
     "metadata": {
      "needs_background": "light"
     },
     "output_type": "display_data"
    },
    {
     "name": "stdout",
     "output_type": "stream",
     "text": [
      "Корреляция между оценкой критиков и суммой продаж ps4: 0.406567902061781\n",
      "Корреляция между оценкой пользователей и суммой продаж ps4: -0.031957110204556376\n"
     ]
    },
    {
     "data": {
      "image/png": "[encoded data removed]",
      "text/plain": [
       "<Figure size 432x288 with 1 Axes>"
      ]
     },
     "metadata": {
      "needs_background": "light"
     },
     "output_type": "display_data"
    },
    {
     "data": {
      "image/png": "[encoded data removed]",
      "text/plain": [
       "<Figure size 432x288 with 1 Axes>"
      ]
     },
     "metadata": {
      "needs_background": "light"
     },
     "output_type": "display_data"
    },
    {
     "name": "stdout",
     "output_type": "stream",
     "text": [
      "Корреляция между оценкой критиков и суммой продаж ps3: 0.3314972592629587\n",
      "Корреляция между оценкой пользователей и суммой продаж ps3: -0.005143522887113828\n"
     ]
    },
    {
     "data": {
      "image/png": "[encoded data removed]",
      "text/plain": [
       "<Figure size 432x288 with 1 Axes>"
      ]
     },
     "metadata": {
      "needs_background": "light"
     },
     "output_type": "display_data"
    },
    {
     "data": {
      "image/png": "[encoded data removed]",
      "text/plain": [
       "<Figure size 432x288 with 1 Axes>"
      ]
     },
     "metadata": {
      "needs_background": "light"
     },
     "output_type": "display_data"
    },
    {
     "name": "stdout",
     "output_type": "stream",
     "text": [
      "Корреляция между оценкой критиков и суммой продаж 3ds: 0.32080286953607845\n",
      "Корреляция между оценкой пользователей и суммой продаж 3ds: 0.19758263411038596\n"
     ]
    },
    {
     "data": {
      "image/png": "[encoded data removed]",
      "text/plain": [
       "<Figure size 432x288 with 1 Axes>"
      ]
     },
     "metadata": {
      "needs_background": "light"
     },
     "output_type": "display_data"
    },
    {
     "data": {
      "image/png": "[encoded data removed]",
      "text/plain": [
       "<Figure size 432x288 with 1 Axes>"
      ]
     },
     "metadata": {
      "needs_background": "light"
     },
     "output_type": "display_data"
    }
   ],
   "source": [
    "data_scores_corr = data_scores[data_scores['sum_sales'] > 0]\n",
    "data_platform = ['x360', 'xone', 'wiiu', 'ps4', 'ps3', '3ds']\n",
    "for v in data_platform:\n",
    "    data_scores[data_scores['platform']==v].plot(x='user_score', y='sum_sales', kind='scatter', \n",
    "                 title=f'Д/с между пользовательской оценкой и продажами {v}',  alpha=0.4) \n",
    "    data_scores[data_scores['platform']==v].plot(x='critic_score', y='sum_sales', kind='scatter', \n",
    "                 title=f'Д/с между оценкой критиков и продажами {v}',  alpha=0.4)\n",
    "    print(f'Корреляция между оценкой критиков и суммой продаж {v}:', data_scores_corr[data_scores_corr['platform']==v]['sum_sales']\n",
    "          .corr(data_scores_corr[data_scores_corr['platform']==v]['critic_score']))\n",
    "    print(f'Корреляция между оценкой пользователей и суммой продаж {v}:', data_scores_corr[data_scores_corr['platform']==v]['sum_sales']\n",
    "          .corr(data_scores_corr[data_scores_corr['platform']==v]['user_score']))\n",
    "    plt.show()"
   ]
  },
  {
   "cell_type": "markdown",
   "metadata": {},
   "source": [
    "*3.6.1 Зависимость между оценкой и продажами игр на PS4*"
   ]
  },
  {
   "cell_type": "markdown",
   "metadata": {},
   "source": [
    "Выбросы с максимальными продажами на графике соответсвуют очень высоким оценкам как пользователей, так и критиков. При этом, на графике связь оценок от критиков и продаж более явная, чем связь между оценками пользователей и продажами. обе группы имеют низкое количество продаж при больших оценках. Похоже, что здесь связь хоть и есть, но не явно - из-за высоких оценок большие продажи или большие продажи ведут к высоким оценкам.\n",
    "Для расчёта корреляции лучше удалить данные от \"нулевых\" продаж."
   ]
  },
  {
   "cell_type": "markdown",
   "metadata": {},
   "source": [
    "Корреляция вышла такая, что связь между оценкой критиков и суммой продаж и между оценкой пользователей и суммой продаж - слабая и отрицательная. Что касается оценки пользователей, корреляция не только слабая, но и отрицательная. Возможно, пользователи, покупая игру, ожидали нечто большего и по итогу поставили низкую оценку. Критики же ставят оценки более объективно."
   ]
  },
  {
   "cell_type": "markdown",
   "metadata": {},
   "source": [
    "*3.6.2 Зависимость между оценкой и продажами игр на 3DS*"
   ]
  },
  {
   "cell_type": "markdown",
   "metadata": {},
   "source": [
    "Здесь графики более схожи друг с другом. Некоторые крупные продажи связаны с более высокими оценками."
   ]
  },
  {
   "cell_type": "markdown",
   "metadata": {},
   "source": [
    "Корреляция между оценкой критиков и суммой продаж - умеренная. Корреляция между оценкой пользователей и объёмами продаж опять ниже, но прямая."
   ]
  },
  {
   "cell_type": "markdown",
   "metadata": {},
   "source": [
    "*3.6.3 Зависимость между оценкой и продажами игр на Wiiu*"
   ]
  },
  {
   "cell_type": "markdown",
   "metadata": {},
   "source": [
    "Из рассмотренных вариантов здесь пока что представляется наиболее четкая картина о присутсвии корреляции (анализ значительно портит множество нулевых показателей в суммарных продажах)"
   ]
  },
  {
   "cell_type": "markdown",
   "metadata": {},
   "source": [
    "Это же касается и корреляции - здесь она выше, чем в остальных случаях, но всё равно не превышает умеренную."
   ]
  },
  {
   "cell_type": "markdown",
   "metadata": {},
   "source": [
    "*3.6.4 Зависимость между оценкой и продажами игр на Xbox 360*"
   ]
  },
  {
   "cell_type": "markdown",
   "metadata": {},
   "source": [
    "На графике пользовательских оценок видно, что высокие оценки бывают связаны с низкими продажами и наоборот. На графике оценок от критиков же видно, что с оценками выше 90 продажи практически не бывают минимальными."
   ]
  },
  {
   "cell_type": "markdown",
   "metadata": {},
   "source": [
    "Вывод по графикам подтверждает корреляция: между оценкой критиков и продажами она умеренная в то время как между оценками пользователей и продажами - практически нулевая."
   ]
  },
  {
   "cell_type": "markdown",
   "metadata": {},
   "source": [
    "*3.6.5 Зависимость между оценкой и продажами игр на Xbox One*"
   ]
  },
  {
   "cell_type": "markdown",
   "metadata": {},
   "source": [
    "На графике оценки критиков и продаж высокие продажи в основном связаны с высокими оценками (график имеет \"приподнятый\" вид). В это же время на графике пользовательских оценок точки распределены более равномерно (с несколькими \"выбросами\" высоких продаж при оценке 5-6 баллов из 10)."
   ]
  },
  {
   "cell_type": "markdown",
   "metadata": {},
   "source": [
    "Корреляция между оценками критиков и продажами здесь самая выоская из рассматриваемых платформ, тем не менее всё ещё умеренная. При этом корреляция между пользовательскими оценками и продажами отрицательная и не значительная (как в случае с PS4)"
   ]
  },
  {
   "cell_type": "markdown",
   "metadata": {},
   "source": [
    "*3.6.6 Зависимость между оценкой и продажами игр на PS3*"
   ]
  },
  {
   "cell_type": "markdown",
   "metadata": {},
   "source": [
    "Графики двух оценок достаточно пологие, тем не менее в случае с оценками от критиков к концу графика высокие оценки имеют высокие продажи."
   ]
  },
  {
   "cell_type": "markdown",
   "metadata": {},
   "source": [
    "Выводы о корреляции схожи с выводами о корреляции для PS4 и Xbox One."
   ]
  },
  {
   "cell_type": "markdown",
   "metadata": {},
   "source": [
    "**3.7 Соотнесение выводов о корреляции между оценкой и объёмом продаж по платформам** Определение общей зависимости позволит понять, какое правило работает для платформ в целом."
   ]
  },
  {
   "cell_type": "markdown",
   "metadata": {},
   "source": [
    "**Итого**, корреляция между оценкой критиков и продаж очевидна на всех платформах, что нельзя сказать об оценках пользователей. При этом невозможно делать выводы, что на что влияет - объём продаж на оценки или же оценки на объём продаж. Опираться на оценки пользователей по рассмотренным платформам смысла нет - они более субъективны и не показывают даже умеренной корреляции."
   ]
  },
  {
   "cell_type": "markdown",
   "metadata": {},
   "source": [
    "**3.8 Распределение игр по жанрам.** Требуется определить, какой жанр может стать самым прибыльным на основании того, какой продается больше всего."
   ]
  },
  {
   "cell_type": "code",
   "execution_count": 32,
   "metadata": {},
   "outputs": [
    {
     "data": {
      "text/plain": [
       "Text(0.5, 0, 'Жанр')"
      ]
     },
     "execution_count": 32,
     "metadata": {},
     "output_type": "execute_result"
    },
    {
     "data": {
      "image/png": "[encoded data removed]",
      "text/plain": [
       "<Figure size 576x576 with 1 Axes>"
      ]
     },
     "metadata": {
      "needs_background": "light"
     },
     "output_type": "display_data"
    }
   ],
   "source": [
    "(\n",
    "    data_scores.pivot_table(index='genre', values=['sum_sales'], aggfunc='sum')\n",
    "    .sort_values(by = 'sum_sales', ascending=False)\n",
    "    .plot(kind='bar', figsize=(8, 8), title='Количество продаж по жанрам')\n",
    ")\n",
    "plt.ylabel('Объём продаж')\n",
    "plt.xlabel('Жанр')"
   ]
  },
  {
   "cell_type": "markdown",
   "metadata": {},
   "source": [
    "За актуальный период больше всего продаж было у экшн-игр, шутеров и ролплея, немного ниже - спортивных игр. Остальные жанры - примерно на одном уровне (стратегии и пазлы-загадки имеют продажи значительно ниже). При этом жанр экшн - значительно превышает остальные жанры."
   ]
  },
  {
   "cell_type": "code",
   "execution_count": 33,
   "metadata": {},
   "outputs": [
    {
     "name": "stdout",
     "output_type": "stream",
     "text": [
      "Для жанра action примерное медианное значение продаж в тыс. шт: 120\n",
      "Для жанра sports примерное медианное значение продаж в тыс. шт: 240\n",
      "Для жанра shooter примерное медианное значение продаж в тыс. шт: 440\n",
      "Для жанра role-playing примерное медианное значение продаж в тыс. шт: 140\n",
      "Для жанра platform примерное медианное значение продаж в тыс. шт: 210\n",
      "Для жанра misc примерное медианное значение продаж в тыс. шт: 120\n",
      "Для жанра racing примерное медианное значение продаж в тыс. шт: 139\n",
      "Для жанра fighting примерное медианное значение продаж в тыс. шт: 130\n",
      "Для жанра simulation примерное медианное значение продаж в тыс. шт: 120\n",
      "Для жанра puzzle примерное медианное значение продаж в тыс. шт: 45\n",
      "Для жанра adventure примерное медианное значение продаж в тыс. шт: 30\n",
      "Для жанра strategy примерное медианное значение продаж в тыс. шт: 80\n"
     ]
    },
    {
     "data": {
      "image/png": "[encoded data removed]",
      "text/plain": [
       "<Figure size 2160x720 with 1 Axes>"
      ]
     },
     "metadata": {
      "needs_background": "light"
     },
     "output_type": "display_data"
    }
   ],
   "source": [
    "data_genre = (\n",
    "    data.pivot_table(index='genre', values='sum_sales', aggfunc='sum')\n",
    "    .sort_values('sum_sales', ascending=False)\n",
    "    .head(20)\n",
    ")\n",
    "data_genre = data_genre.merge(data, on='genre')[['genre', 'year_of_release' ,'sum_sales_y']]\n",
    "data_genre['sum_sales_y'] = data_genre[data_genre['sum_sales_y'] > 0]['sum_sales_y']\n",
    "data_genre['year_of_release'] = data_genre[data_genre['year_of_release'] >= 2012]['year_of_release']\n",
    "data_genre = data_genre.dropna()\n",
    "data_genre['year_of_release'] = data_genre['year_of_release'].astype(int)\n",
    "sns.boxplot(data=data_genre, x='sum_sales_y', y='genre', orient='h')\n",
    "plt.xlim(0, 1.5)\n",
    "plt.gcf().set_size_inches(30,10)\n",
    "for v in data_genre['genre'].unique():\n",
    "    print(f'Для жанра {v} примерное медианное значение продаж в тыс. шт:', \n",
    "          int(data_genre[data_genre['genre'] == v]['sum_sales_y'].median()*1000))"
   ]
  },
  {
   "cell_type": "markdown",
   "metadata": {},
   "source": [
    "Если смотреть по графику размаха, количество список топовых медианных продаж отличается от списка общих продаж. Наибольшее значение - у шутеров (порядка 440 тысяч продаж), на втором месте - спорт и на 3 - платформеры (с большим отрывом, 240 и 210 тыс. продаж соответсвенно). Следовательно, в среднем больше всего продаются шутеры."
   ]
  },
  {
   "cell_type": "markdown",
   "metadata": {},
   "source": [
    "# Портрет пользователя"
   ]
  },
  {
   "cell_type": "markdown",
   "metadata": {},
   "source": [
    "Портрет пользователя позволяет понять, на какой географический рынок нужно ориентироваться бизнесу и можно ли сочетать несколько рынков, поскольку обычно специфика таких рынков различается."
   ]
  },
  {
   "cell_type": "markdown",
   "metadata": {},
   "source": [
    "**4.1 Определение самых популярных платформ по регионам** Рассматриваются Северная Америка (СА), Япония, Европа."
   ]
  },
  {
   "cell_type": "markdown",
   "metadata": {},
   "source": [
    "*4.1.1* Северная Америка"
   ]
  },
  {
   "cell_type": "code",
   "execution_count": 34,
   "metadata": {},
   "outputs": [
    {
     "data": {
      "text/html": [
       "<div>\n",
       "<style scoped>\n",
       "    .dataframe tbody tr th:only-of-type {\n",
       "        vertical-align: middle;\n",
       "    }\n",
       "\n",
       "    .dataframe tbody tr th {\n",
       "        vertical-align: top;\n",
       "    }\n",
       "\n",
       "    .dataframe thead th {\n",
       "        text-align: right;\n",
       "    }\n",
       "</style>\n",
       "<table border=\"1\" class=\"dataframe\">\n",
       "  <thead>\n",
       "    <tr style=\"text-align: right;\">\n",
       "      <th></th>\n",
       "      <th>na_sales</th>\n",
       "      <th>share_na</th>\n",
       "    </tr>\n",
       "    <tr>\n",
       "      <th>platform</th>\n",
       "      <th></th>\n",
       "      <th></th>\n",
       "    </tr>\n",
       "  </thead>\n",
       "  <tbody>\n",
       "    <tr>\n",
       "      <th>x360</th>\n",
       "      <td>140.05</td>\n",
       "      <td>0.22</td>\n",
       "    </tr>\n",
       "    <tr>\n",
       "      <th>ps4</th>\n",
       "      <td>108.74</td>\n",
       "      <td>0.17</td>\n",
       "    </tr>\n",
       "    <tr>\n",
       "      <th>ps3</th>\n",
       "      <td>103.38</td>\n",
       "      <td>0.16</td>\n",
       "    </tr>\n",
       "    <tr>\n",
       "      <th>xone</th>\n",
       "      <td>93.12</td>\n",
       "      <td>0.14</td>\n",
       "    </tr>\n",
       "    <tr>\n",
       "      <th>3ds</th>\n",
       "      <td>55.31</td>\n",
       "      <td>0.09</td>\n",
       "    </tr>\n",
       "    <tr>\n",
       "      <th>other</th>\n",
       "      <td>145.68</td>\n",
       "      <td>0.23</td>\n",
       "    </tr>\n",
       "  </tbody>\n",
       "</table>\n",
       "</div>"
      ],
      "text/plain": [
       "          na_sales  share_na\n",
       "platform                    \n",
       "x360        140.05      0.22\n",
       "ps4         108.74      0.17\n",
       "ps3         103.38      0.16\n",
       "xone         93.12      0.14\n",
       "3ds          55.31      0.09\n",
       "other       145.68      0.23"
      ]
     },
     "execution_count": 34,
     "metadata": {},
     "output_type": "execute_result"
    },
    {
     "data": {
      "image/png": "[encoded data removed]",
      "text/plain": [
       "<Figure size 720x720 with 1 Axes>"
      ]
     },
     "metadata": {},
     "output_type": "display_data"
    }
   ],
   "source": [
    "data_na_platform = data_scores.groupby('platform').agg({'na_sales':'sum'}) \\\n",
    "    .sort_values(by='na_sales', ascending=False)\n",
    "data_na_platform.reset_index(inplace=True)\n",
    "data_na_platform_1 = {'platform': 'other', 'na_sales': sum(data_na_platform['na_sales'].tail(7))}\n",
    "data_na_platform = data_na_platform.head()\n",
    "data_na_platform = data_na_platform.append(data_na_platform_1, ignore_index=True)\n",
    "data_na_platform['share_na'] = round(data_na_platform['na_sales'] / data_na_platform['na_sales'].sum(), 2)\n",
    "data_na_platform.set_index('platform',inplace=True)\n",
    "data_na_platform.plot(kind='pie', figsize=(10,10), y= 'na_sales', title='Количество продаж по платформам')\n",
    "data_na_platform"
   ]
  },
  {
   "cell_type": "markdown",
   "metadata": {},
   "source": [
    "На рынке Северной Америки самую большую часть занимает Xbox 360 (за период 2012-2016 гг.), на втором месте - PS4, далее с небольшим различием Xbox One и PS3. 3ds имеет небольшую долю рынка (около 9%)."
   ]
  },
  {
   "cell_type": "markdown",
   "metadata": {},
   "source": [
    "*4.1.2 Европа*"
   ]
  },
  {
   "cell_type": "code",
   "execution_count": 35,
   "metadata": {},
   "outputs": [
    {
     "data": {
      "text/html": [
       "<div>\n",
       "<style scoped>\n",
       "    .dataframe tbody tr th:only-of-type {\n",
       "        vertical-align: middle;\n",
       "    }\n",
       "\n",
       "    .dataframe tbody tr th {\n",
       "        vertical-align: top;\n",
       "    }\n",
       "\n",
       "    .dataframe thead th {\n",
       "        text-align: right;\n",
       "    }\n",
       "</style>\n",
       "<table border=\"1\" class=\"dataframe\">\n",
       "  <thead>\n",
       "    <tr style=\"text-align: right;\">\n",
       "      <th></th>\n",
       "      <th>eu_sales</th>\n",
       "      <th>share_eu</th>\n",
       "    </tr>\n",
       "    <tr>\n",
       "      <th>platform</th>\n",
       "      <th></th>\n",
       "      <th></th>\n",
       "    </tr>\n",
       "  </thead>\n",
       "  <tbody>\n",
       "    <tr>\n",
       "      <th>ps4</th>\n",
       "      <td>141.09</td>\n",
       "      <td>0.26</td>\n",
       "    </tr>\n",
       "    <tr>\n",
       "      <th>ps3</th>\n",
       "      <td>106.86</td>\n",
       "      <td>0.19</td>\n",
       "    </tr>\n",
       "    <tr>\n",
       "      <th>x360</th>\n",
       "      <td>74.52</td>\n",
       "      <td>0.14</td>\n",
       "    </tr>\n",
       "    <tr>\n",
       "      <th>xone</th>\n",
       "      <td>51.59</td>\n",
       "      <td>0.09</td>\n",
       "    </tr>\n",
       "    <tr>\n",
       "      <th>3ds</th>\n",
       "      <td>42.64</td>\n",
       "      <td>0.08</td>\n",
       "    </tr>\n",
       "    <tr>\n",
       "      <th>other</th>\n",
       "      <td>132.76</td>\n",
       "      <td>0.24</td>\n",
       "    </tr>\n",
       "  </tbody>\n",
       "</table>\n",
       "</div>"
      ],
      "text/plain": [
       "          eu_sales  share_eu\n",
       "platform                    \n",
       "ps4         141.09      0.26\n",
       "ps3         106.86      0.19\n",
       "x360         74.52      0.14\n",
       "xone         51.59      0.09\n",
       "3ds          42.64      0.08\n",
       "other       132.76      0.24"
      ]
     },
     "execution_count": 35,
     "metadata": {},
     "output_type": "execute_result"
    },
    {
     "data": {
      "image/png": "[encoded data removed]",
      "text/plain": [
       "<Figure size 720x720 with 1 Axes>"
      ]
     },
     "metadata": {},
     "output_type": "display_data"
    }
   ],
   "source": [
    "data_eu_platform = data_scores.groupby('platform').agg({'eu_sales':'sum'}) \\\n",
    "    .sort_values(by='eu_sales', ascending=False)\n",
    "data_eu_platform.reset_index(inplace=True)\n",
    "data_eu_platform_1 = {'platform': 'other', 'eu_sales': sum(data_eu_platform['eu_sales'].tail(7))}\n",
    "data_eu_platform = data_eu_platform.head()\n",
    "data_eu_platform = data_eu_platform.append(data_eu_platform_1, ignore_index=True)\n",
    "data_eu_platform['share_eu'] = round(data_eu_platform['eu_sales'] / data_eu_platform['eu_sales'].sum(), 2)\n",
    "data_eu_platform.set_index('platform',inplace=True)\n",
    "data_eu_platform.plot(kind='pie', figsize=(10,10), y= 'eu_sales', title='Количество продаж по платформам')\n",
    "data_eu_platform"
   ]
  },
  {
   "cell_type": "markdown",
   "metadata": {},
   "source": [
    "На европейском рынке большую долю имеет PS4 (26%) и PS3 (19%), и только затем два поколения Xbox (суммарно 23%). То есть, здесь около половины рынка занимают PS."
   ]
  },
  {
   "cell_type": "markdown",
   "metadata": {},
   "source": [
    "*4.1.3 Япония*"
   ]
  },
  {
   "cell_type": "code",
   "execution_count": 36,
   "metadata": {},
   "outputs": [
    {
     "data": {
      "text/html": [
       "<div>\n",
       "<style scoped>\n",
       "    .dataframe tbody tr th:only-of-type {\n",
       "        vertical-align: middle;\n",
       "    }\n",
       "\n",
       "    .dataframe tbody tr th {\n",
       "        vertical-align: top;\n",
       "    }\n",
       "\n",
       "    .dataframe thead th {\n",
       "        text-align: right;\n",
       "    }\n",
       "</style>\n",
       "<table border=\"1\" class=\"dataframe\">\n",
       "  <thead>\n",
       "    <tr style=\"text-align: right;\">\n",
       "      <th></th>\n",
       "      <th>jp_sales</th>\n",
       "      <th>share_jp</th>\n",
       "    </tr>\n",
       "    <tr>\n",
       "      <th>platform</th>\n",
       "      <th></th>\n",
       "      <th></th>\n",
       "    </tr>\n",
       "  </thead>\n",
       "  <tbody>\n",
       "    <tr>\n",
       "      <th>3ds</th>\n",
       "      <td>87.79</td>\n",
       "      <td>0.43</td>\n",
       "    </tr>\n",
       "    <tr>\n",
       "      <th>ps3</th>\n",
       "      <td>35.29</td>\n",
       "      <td>0.17</td>\n",
       "    </tr>\n",
       "    <tr>\n",
       "      <th>psv</th>\n",
       "      <td>21.04</td>\n",
       "      <td>0.10</td>\n",
       "    </tr>\n",
       "    <tr>\n",
       "      <th>ps4</th>\n",
       "      <td>15.96</td>\n",
       "      <td>0.08</td>\n",
       "    </tr>\n",
       "    <tr>\n",
       "      <th>wiiu</th>\n",
       "      <td>13.01</td>\n",
       "      <td>0.06</td>\n",
       "    </tr>\n",
       "    <tr>\n",
       "      <th>other</th>\n",
       "      <td>32.50</td>\n",
       "      <td>0.16</td>\n",
       "    </tr>\n",
       "  </tbody>\n",
       "</table>\n",
       "</div>"
      ],
      "text/plain": [
       "          jp_sales  share_jp\n",
       "platform                    \n",
       "3ds          87.79      0.43\n",
       "ps3          35.29      0.17\n",
       "psv          21.04      0.10\n",
       "ps4          15.96      0.08\n",
       "wiiu         13.01      0.06\n",
       "other        32.50      0.16"
      ]
     },
     "execution_count": 36,
     "metadata": {},
     "output_type": "execute_result"
    },
    {
     "data": {
      "image/png": "[encoded data removed]",
      "text/plain": [
       "<Figure size 720x720 with 1 Axes>"
      ]
     },
     "metadata": {},
     "output_type": "display_data"
    }
   ],
   "source": [
    "data_jp_platform = data_scores.groupby('platform').agg({'jp_sales':'sum'}) \\\n",
    "    .sort_values(by='jp_sales', ascending=False)\n",
    "data_jp_platform.reset_index(inplace=True)\n",
    "data_jp_platform_1 = {'platform': 'other', 'jp_sales': sum(data_jp_platform['jp_sales'].tail(7))}\n",
    "data_jp_platform = data_jp_platform.head()\n",
    "data_jp_platform = data_jp_platform.append(data_jp_platform_1, ignore_index=True)\n",
    "data_jp_platform['share_jp'] = round(data_jp_platform['jp_sales'] / data_jp_platform['jp_sales'].sum(), 2)\n",
    "data_jp_platform.set_index('platform',inplace=True)\n",
    "data_jp_platform.plot(kind='pie', figsize=(10,10), y= 'jp_sales', title='Количество продаж по платформам')\n",
    "data_jp_platform"
   ]
  },
  {
   "cell_type": "markdown",
   "metadata": {},
   "source": [
    "Самая популярная платформа в Японии - 3DS, около 43% от всех покупаемых игр. Вторая по популярности - PS3, 17%.  На 3 месте - PSV (портативная консоль). Далее - примерно с равным количеством продаж - PS4, Wiiu (8% и 6% соответсвенно). 3 из 5 платформ являются, либо напоминают портативную приставку."
   ]
  },
  {
   "cell_type": "markdown",
   "metadata": {},
   "source": [
    "**4.2 Определение самых популярных жанров по регионам** Рассматриваются те же самые регионы."
   ]
  },
  {
   "cell_type": "markdown",
   "metadata": {},
   "source": [
    "*4.2.1 Северная Америка*"
   ]
  },
  {
   "cell_type": "code",
   "execution_count": 37,
   "metadata": {},
   "outputs": [
    {
     "data": {
      "text/plain": [
       "12"
      ]
     },
     "execution_count": 37,
     "metadata": {},
     "output_type": "execute_result"
    }
   ],
   "source": [
    "len(data['genre'].unique())"
   ]
  },
  {
   "cell_type": "code",
   "execution_count": 38,
   "metadata": {},
   "outputs": [
    {
     "data": {
      "text/html": [
       "<div>\n",
       "<style scoped>\n",
       "    .dataframe tbody tr th:only-of-type {\n",
       "        vertical-align: middle;\n",
       "    }\n",
       "\n",
       "    .dataframe tbody tr th {\n",
       "        vertical-align: top;\n",
       "    }\n",
       "\n",
       "    .dataframe thead th {\n",
       "        text-align: right;\n",
       "    }\n",
       "</style>\n",
       "<table border=\"1\" class=\"dataframe\">\n",
       "  <thead>\n",
       "    <tr style=\"text-align: right;\">\n",
       "      <th></th>\n",
       "      <th>na_sales</th>\n",
       "      <th>share_na</th>\n",
       "    </tr>\n",
       "    <tr>\n",
       "      <th>genre</th>\n",
       "      <th></th>\n",
       "      <th></th>\n",
       "    </tr>\n",
       "  </thead>\n",
       "  <tbody>\n",
       "    <tr>\n",
       "      <th>action</th>\n",
       "      <td>177.84</td>\n",
       "      <td>0.30</td>\n",
       "    </tr>\n",
       "    <tr>\n",
       "      <th>shooter</th>\n",
       "      <td>144.77</td>\n",
       "      <td>0.24</td>\n",
       "    </tr>\n",
       "    <tr>\n",
       "      <th>sports</th>\n",
       "      <td>81.53</td>\n",
       "      <td>0.14</td>\n",
       "    </tr>\n",
       "    <tr>\n",
       "      <th>role-playing</th>\n",
       "      <td>64.00</td>\n",
       "      <td>0.11</td>\n",
       "    </tr>\n",
       "    <tr>\n",
       "      <th>misc</th>\n",
       "      <td>38.19</td>\n",
       "      <td>0.06</td>\n",
       "    </tr>\n",
       "    <tr>\n",
       "      <th>other</th>\n",
       "      <td>84.64</td>\n",
       "      <td>0.14</td>\n",
       "    </tr>\n",
       "  </tbody>\n",
       "</table>\n",
       "</div>"
      ],
      "text/plain": [
       "              na_sales  share_na\n",
       "genre                           \n",
       "action          177.84      0.30\n",
       "shooter         144.77      0.24\n",
       "sports           81.53      0.14\n",
       "role-playing     64.00      0.11\n",
       "misc             38.19      0.06\n",
       "other            84.64      0.14"
      ]
     },
     "execution_count": 38,
     "metadata": {},
     "output_type": "execute_result"
    },
    {
     "data": {
      "image/png": "[encoded data removed]",
      "text/plain": [
       "<Figure size 720x720 with 1 Axes>"
      ]
     },
     "metadata": {},
     "output_type": "display_data"
    }
   ],
   "source": [
    "data_na_genre = data_scores.groupby('genre').agg({'na_sales':'sum'}) \\\n",
    "    .sort_values(by='na_sales', ascending=False)\n",
    "data_na_genre.reset_index(inplace=True)\n",
    "data_na_genre_1 = {'genre': 'other', 'na_sales': sum(data_na_genre['na_sales'].tail(7))}\n",
    "data_na_genre = data_na_genre.head()\n",
    "data_na_genre = data_na_genre.append(data_na_genre_1, ignore_index=True)\n",
    "data_na_genre['share_na'] = round(data_na_genre['na_sales'] / data_na_genre['na_sales'].sum(), 2)\n",
    "data_na_genre.set_index('genre',inplace=True)\n",
    "data_na_genre.plot(kind='pie', figsize=(10,10), y= 'na_sales', title='Количество продаж по жанрам')\n",
    "data_na_genre"
   ]
  },
  {
   "cell_type": "markdown",
   "metadata": {},
   "source": [
    "Самый популярный жанр в рынке СА - экшн, около 30% и следом - шутеры, 24%. Далее происходит резкий спад - спорт около 14%, и ролевые игры 11%, другие - 6%."
   ]
  },
  {
   "cell_type": "markdown",
   "metadata": {},
   "source": [
    "*4.2.2 Европа*"
   ]
  },
  {
   "cell_type": "code",
   "execution_count": 39,
   "metadata": {},
   "outputs": [
    {
     "data": {
      "text/html": [
       "<div>\n",
       "<style scoped>\n",
       "    .dataframe tbody tr th:only-of-type {\n",
       "        vertical-align: middle;\n",
       "    }\n",
       "\n",
       "    .dataframe tbody tr th {\n",
       "        vertical-align: top;\n",
       "    }\n",
       "\n",
       "    .dataframe thead th {\n",
       "        text-align: right;\n",
       "    }\n",
       "</style>\n",
       "<table border=\"1\" class=\"dataframe\">\n",
       "  <thead>\n",
       "    <tr style=\"text-align: right;\">\n",
       "      <th></th>\n",
       "      <th>eu_sales</th>\n",
       "      <th>share_eu</th>\n",
       "    </tr>\n",
       "    <tr>\n",
       "      <th>genre</th>\n",
       "      <th></th>\n",
       "      <th></th>\n",
       "    </tr>\n",
       "  </thead>\n",
       "  <tbody>\n",
       "    <tr>\n",
       "      <th>action</th>\n",
       "      <td>159.34</td>\n",
       "      <td>0.31</td>\n",
       "    </tr>\n",
       "    <tr>\n",
       "      <th>shooter</th>\n",
       "      <td>113.47</td>\n",
       "      <td>0.22</td>\n",
       "    </tr>\n",
       "    <tr>\n",
       "      <th>sports</th>\n",
       "      <td>69.09</td>\n",
       "      <td>0.14</td>\n",
       "    </tr>\n",
       "    <tr>\n",
       "      <th>role-playing</th>\n",
       "      <td>48.53</td>\n",
       "      <td>0.10</td>\n",
       "    </tr>\n",
       "    <tr>\n",
       "      <th>racing</th>\n",
       "      <td>27.29</td>\n",
       "      <td>0.05</td>\n",
       "    </tr>\n",
       "    <tr>\n",
       "      <th>other</th>\n",
       "      <td>89.10</td>\n",
       "      <td>0.18</td>\n",
       "    </tr>\n",
       "  </tbody>\n",
       "</table>\n",
       "</div>"
      ],
      "text/plain": [
       "              eu_sales  share_eu\n",
       "genre                           \n",
       "action          159.34      0.31\n",
       "shooter         113.47      0.22\n",
       "sports           69.09      0.14\n",
       "role-playing     48.53      0.10\n",
       "racing           27.29      0.05\n",
       "other            89.10      0.18"
      ]
     },
     "execution_count": 39,
     "metadata": {},
     "output_type": "execute_result"
    },
    {
     "data": {
      "image/png": "[encoded data removed]",
      "text/plain": [
       "<Figure size 720x720 with 1 Axes>"
      ]
     },
     "metadata": {},
     "output_type": "display_data"
    }
   ],
   "source": [
    "data_eu_genre = data_scores.groupby('genre').agg({'eu_sales':'sum'}) \\\n",
    "    .sort_values(by='eu_sales', ascending=False)\n",
    "data_eu_genre.reset_index(inplace=True)\n",
    "data_eu_genre_1 = {'genre': 'other', 'eu_sales': sum(data_eu_genre['eu_sales'].tail(7))}\n",
    "data_eu_genre = data_eu_genre.head()\n",
    "data_eu_genre = data_eu_genre.append(data_eu_genre_1, ignore_index=True)\n",
    "data_eu_genre['share_eu'] = round(data_eu_genre['eu_sales'] / data_eu_genre['eu_sales'].sum(), 2)\n",
    "data_eu_genre.set_index('genre',inplace=True)\n",
    "data_eu_genre.plot(kind='pie', figsize=(10,10), y= 'eu_sales', title='Количество продаж по жанрам')\n",
    "data_eu_genre"
   ]
  },
  {
   "cell_type": "markdown",
   "metadata": {},
   "source": [
    "На Европейском рынке схожее распределение с Северной Америкой, разница лишь в порядке наличии типа \"другие\". Здесь на 5 месте - гонки (5%)."
   ]
  },
  {
   "cell_type": "markdown",
   "metadata": {},
   "source": [
    "*4.2.3 Япония*"
   ]
  },
  {
   "cell_type": "code",
   "execution_count": 40,
   "metadata": {},
   "outputs": [
    {
     "data": {
      "text/html": [
       "<div>\n",
       "<style scoped>\n",
       "    .dataframe tbody tr th:only-of-type {\n",
       "        vertical-align: middle;\n",
       "    }\n",
       "\n",
       "    .dataframe tbody tr th {\n",
       "        vertical-align: top;\n",
       "    }\n",
       "\n",
       "    .dataframe thead th {\n",
       "        text-align: right;\n",
       "    }\n",
       "</style>\n",
       "<table border=\"1\" class=\"dataframe\">\n",
       "  <thead>\n",
       "    <tr style=\"text-align: right;\">\n",
       "      <th></th>\n",
       "      <th>jp_sales</th>\n",
       "      <th>share_jp</th>\n",
       "    </tr>\n",
       "    <tr>\n",
       "      <th>genre</th>\n",
       "      <th></th>\n",
       "      <th></th>\n",
       "    </tr>\n",
       "  </thead>\n",
       "  <tbody>\n",
       "    <tr>\n",
       "      <th>role-playing</th>\n",
       "      <td>65.44</td>\n",
       "      <td>0.34</td>\n",
       "    </tr>\n",
       "    <tr>\n",
       "      <th>action</th>\n",
       "      <td>52.80</td>\n",
       "      <td>0.27</td>\n",
       "    </tr>\n",
       "    <tr>\n",
       "      <th>misc</th>\n",
       "      <td>12.86</td>\n",
       "      <td>0.07</td>\n",
       "    </tr>\n",
       "    <tr>\n",
       "      <th>simulation</th>\n",
       "      <td>10.41</td>\n",
       "      <td>0.05</td>\n",
       "    </tr>\n",
       "    <tr>\n",
       "      <th>fighting</th>\n",
       "      <td>9.44</td>\n",
       "      <td>0.05</td>\n",
       "    </tr>\n",
       "    <tr>\n",
       "      <th>other</th>\n",
       "      <td>41.63</td>\n",
       "      <td>0.22</td>\n",
       "    </tr>\n",
       "  </tbody>\n",
       "</table>\n",
       "</div>"
      ],
      "text/plain": [
       "              jp_sales  share_jp\n",
       "genre                           \n",
       "role-playing     65.44      0.34\n",
       "action           52.80      0.27\n",
       "misc             12.86      0.07\n",
       "simulation       10.41      0.05\n",
       "fighting          9.44      0.05\n",
       "other            41.63      0.22"
      ]
     },
     "execution_count": 40,
     "metadata": {},
     "output_type": "execute_result"
    },
    {
     "data": {
      "image/png": "[encoded data removed]",
      "text/plain": [
       "<Figure size 720x720 with 1 Axes>"
      ]
     },
     "metadata": {},
     "output_type": "display_data"
    }
   ],
   "source": [
    "data_jp_genre = data_scores.groupby('genre').agg({'jp_sales':'sum'}) \\\n",
    "    .sort_values(by='jp_sales', ascending=False)\n",
    "data_jp_genre.reset_index(inplace=True)\n",
    "data_jp_genre_1 = {'genre': 'other', 'jp_sales': sum(data_jp_genre['jp_sales'].tail(7))}\n",
    "data_jp_genre = data_jp_genre.head()\n",
    "data_jp_genre = data_jp_genre.append(data_jp_genre_1, ignore_index=True)\n",
    "data_jp_genre['share_jp'] = round(data_jp_genre['jp_sales'] / data_jp_genre['jp_sales'].sum(), 2)\n",
    "data_jp_genre.set_index('genre',inplace=True)\n",
    "data_jp_genre.plot(kind='pie', figsize=(10,10), y= 'jp_sales', title='Количество продаж по жанрам')\n",
    "data_jp_genre"
   ]
  },
  {
   "cell_type": "markdown",
   "metadata": {},
   "source": [
    "Рынок в Японии сильно отличается от двух предыдущих: здесь на первом месте и ролплей, затем экшн и другие. Шутеры не присутствуют вообще. Вместо этого - симуляции (5%) и игры с борьбой - 5%."
   ]
  },
  {
   "cell_type": "markdown",
   "metadata": {},
   "source": [
    "**Таким образом**, пользователь на американском рынке предпочитает консольные игры (в основном, как платформа используется более старый Xbox 360 и более новый PS4), при этом шутеры, экшн и спорт. Пользователь с европейского рынка так же предпочитает консоль, но уже PS 4 и 3 поколения, игры такие же, как и предыдущий пользователь.\n",
    "\n",
    "Пользователь с японского рынка предпочитает портативную приставку и, соответсвенно, другой тип игр: ролплей, симуляции. Но и здесь экшн имеет высокую долю он продаж."
   ]
  },
  {
   "cell_type": "markdown",
   "metadata": {},
   "source": [
    "**4.3 Влияние рейтинга ESRB на продажи.** Стоит принимать во внимание, что рейтинг выдается только оффлайн играм с американским или канадским происхождением."
   ]
  },
  {
   "cell_type": "code",
   "execution_count": 41,
   "metadata": {},
   "outputs": [],
   "source": [
    "data_scores['rating'] = data_scores['rating'].fillna('NA')"
   ]
  },
  {
   "cell_type": "markdown",
   "metadata": {},
   "source": [
    "Так можно учесть то, как на японском и европейском рынке влияет рейтинг, выдаваемый американской компанией на продажи игр."
   ]
  },
  {
   "cell_type": "markdown",
   "metadata": {},
   "source": [
    "*4.3.1 Северная Америка*"
   ]
  },
  {
   "cell_type": "code",
   "execution_count": 42,
   "metadata": {},
   "outputs": [
    {
     "data": {
      "text/plain": [
       "Text(0.5, 0, 'Рейтинг ESRB')"
      ]
     },
     "execution_count": 42,
     "metadata": {},
     "output_type": "execute_result"
    },
    {
     "data": {
      "image/png": "[encoded data removed]",
      "text/plain": [
       "<Figure size 432x288 with 1 Axes>"
      ]
     },
     "metadata": {
      "needs_background": "light"
     },
     "output_type": "display_data"
    }
   ],
   "source": [
    "(\n",
    "    data_scores\n",
    "    .groupby('rating')['na_sales']\n",
    "    .sum().sort_values(ascending=False)\n",
    "    .plot(x='rating', y='na_sales', kind='bar', \n",
    "                 title='Влияние рейтинга на продажи в NA',  alpha=0.4) \n",
    ")\n",
    "plt.ylabel('Объём продаж')\n",
    "plt.xlabel('Рейтинг ESRB')"
   ]
  },
  {
   "cell_type": "markdown",
   "metadata": {},
   "source": [
    "В Северной Америке много игр с пометкой \"для взрослых\", игры других рейтингов продаются примерно в равном размере. Здесь видно, что отсутсвие рейтинга - не препятствие для покупки игры (такие игры продаются даже выше, чем игры \"для подростков\")"
   ]
  },
  {
   "cell_type": "markdown",
   "metadata": {},
   "source": [
    "*4.3.2 Европа*"
   ]
  },
  {
   "cell_type": "code",
   "execution_count": 43,
   "metadata": {},
   "outputs": [
    {
     "data": {
      "text/plain": [
       "Text(0.5, 0, 'Рейтинг ESRB')"
      ]
     },
     "execution_count": 43,
     "metadata": {},
     "output_type": "execute_result"
    },
    {
     "data": {
      "image/png": "[encoded data removed]",
      "text/plain": [
       "<Figure size 432x288 with 1 Axes>"
      ]
     },
     "metadata": {
      "needs_background": "light"
     },
     "output_type": "display_data"
    }
   ],
   "source": [
    "(\n",
    "    data_scores\n",
    "    .groupby('rating')['eu_sales']\n",
    "    .sum().sort_values(ascending=False)\n",
    "    .plot(x='rating', y='eu_sales', kind='bar', \n",
    "                 title='Влияние рейтинга на продажи в EU',  alpha=0.4) \n",
    ")\n",
    "plt.ylabel('Объём продаж')\n",
    "plt.xlabel('Рейтинг ESRB')"
   ]
  },
  {
   "cell_type": "markdown",
   "metadata": {},
   "source": [
    "В Европе график схож с предыдущим."
   ]
  },
  {
   "cell_type": "markdown",
   "metadata": {},
   "source": [
    "*4.3.3 Япония*"
   ]
  },
  {
   "cell_type": "code",
   "execution_count": 44,
   "metadata": {},
   "outputs": [
    {
     "data": {
      "text/plain": [
       "Text(0.5, 0, 'Рейтинг ESRB')"
      ]
     },
     "execution_count": 44,
     "metadata": {},
     "output_type": "execute_result"
    },
    {
     "data": {
      "image/png": "[encoded data removed]",
      "text/plain": [
       "<Figure size 432x288 with 1 Axes>"
      ]
     },
     "metadata": {
      "needs_background": "light"
     },
     "output_type": "display_data"
    }
   ],
   "source": [
    "(\n",
    "    data_scores\n",
    "    .groupby('rating')['jp_sales']\n",
    "    .sum().sort_values(ascending=False)\n",
    "    .plot(x='rating', y='jp_sales', kind='bar', \n",
    "                 title='Влияние рейтинга на продажи в JP',  alpha=0.4) \n",
    ")\n",
    "plt.ylabel('Объём продаж')\n",
    "plt.xlabel('Рейтинг ESRB')"
   ]
  },
  {
   "cell_type": "markdown",
   "metadata": {},
   "source": [
    "Из графика можно выделить, что игры \"для всех\" продаются лучше остальных рейтингов. Игры \"для подростков\" имеют примерно схожие продажи с предыдущим, и \"для взрослых\" продаются на чуть более низком уровне. К тому же, кажется, что для японцев наличие рейтинга - не особо важный показатель, очень много игр продаются и без него."
   ]
  },
  {
   "cell_type": "markdown",
   "metadata": {},
   "source": [
    "**Вывод:** можно говорить о том, что в каждом регионе своя специфика рынка, если магазин хочет работать на несколько рынков, то лучше объединять Северную Америку и Европу (это возможно, поскольку организация - интернет-магазин). Что касается рейтинга, он важнее на европейском и американском рынке, чем на японском."
   ]
  },
  {
   "cell_type": "markdown",
   "metadata": {},
   "source": [
    "# Проверка гипотез"
   ]
  },
  {
   "cell_type": "markdown",
   "metadata": {},
   "source": [
    "Для сравнения двух совокупностей используется метод scipy.stats.ttest_ind(). В нашем случае выборки хоть и взяты из одного датасета, их дисперсии скорее не равны (видно было в предыдущих заданиях на графиках, что их количество и параметры разные), при этом использование t-критерия возможно для двух нормальный совокупностей, в случае различия их дисперсий, добавляют параметр equal_var=False к описанному ранее методу.\n",
    "\n",
    "При этом стоит упомянуть, что рассматриваемые совокупности не зависят друг от друга. При этом, рассматрвиаемые выборки более нескольких десятков значений, а значит выборочные средние, которые можно получить из одной и той же генеральной совокупности, будут распределены нормально вокруг истинного среднего этой совокупности."
   ]
  },
  {
   "cell_type": "markdown",
   "metadata": {},
   "source": [
    "**5.1 Средние пользовательские рейтинги платформ Xbox One и PC - одинаковые?** Если они одинаковые, то для оценки игры важнее наполнение, чем одна или вторая платформа."
   ]
  },
  {
   "cell_type": "markdown",
   "metadata": {},
   "source": [
    "Гипотеза формируется исходя из задачи, здесь она - определить, средние пользовательские рейтинги платформ Xbox One и PC - одинаковые? Здесь мы сравниваем два срендих совокупностей. Сначала формулируется нулевая гипотеза (указана ниже), она формируется так, чтобы в ней присутствовал знак равенства. \n",
    "\n",
    "**H0:** Средние пользовательские рейтинги платформ Xbox One и PC одинаковые;\n",
    "\n",
    "**H1:** Средние пользовательские рейтинги платформ Xbox One и PC не одинаковые;"
   ]
  },
  {
   "cell_type": "code",
   "execution_count": 45,
   "metadata": {},
   "outputs": [
    {
     "name": "stdout",
     "output_type": "stream",
     "text": [
      "Дисперсия оценок Xbox One: 1.9069968429360695\n",
      "Дисперсия оценок ПК: 2.770443997158418\n"
     ]
    }
   ],
   "source": [
    "print('Дисперсия оценок Xbox One:', data_scores[(data_scores['platform'] == 'xone')]['user_score'].var())\n",
    "print('Дисперсия оценок ПК:', data_scores[(data_scores['platform'] == 'pc')]['user_score'].var())"
   ]
  },
  {
   "cell_type": "code",
   "execution_count": 46,
   "metadata": {},
   "outputs": [
    {
     "name": "stdout",
     "output_type": "stream",
     "text": [
      "p-значение: 0.5489537965134912\n",
      "Не получилось отвергнуть нулевую гипотезу\n"
     ]
    }
   ],
   "source": [
    "results = st.ttest_ind(data_scores[(data_scores['platform'] == 'xone') & (~data_scores['user_score'].isnull())]['user_score'],\n",
    "                       data_scores[(data_scores['platform'] == 'pc') & (~data_scores['user_score'].isnull())]['user_score'],\n",
    "                      equal_var=False) #выборки различаются и по количеству, и по дисперсии исходя из предыдущих заданий\n",
    "alpha = 0.05 #стандартное значение для альфа\n",
    "\n",
    "print('p-значение:', results.pvalue)\n",
    "# вывод значения p-value на экран \n",
    "if results.pvalue < alpha:\n",
    "    print('Отвергаем нулевую гипотезу')\n",
    "else:\n",
    "    print('Не получилось отвергнуть нулевую гипотезу')"
   ]
  },
  {
   "cell_type": "markdown",
   "metadata": {},
   "source": [
    "Для сравнения использованы средние значения пользовательских оценок по двум платформам. Выяснилось, что средние пользовательские рейтинги платформ Xbox One и PC одинаковые."
   ]
  },
  {
   "cell_type": "markdown",
   "metadata": {},
   "source": [
    "Даже при условии понижения значения альфа до 0,01 или повышения до 0,1, гипотеза не будет отвергнута."
   ]
  },
  {
   "cell_type": "markdown",
   "metadata": {},
   "source": [
    "**5.2 Средние пользовательские рейтинги жанров Action (англ. «действие», экшен-игры) и Sports (англ. «спортивные соревнования») - разные?** Если они разные, то пользователи в этих двух жанрах имеют в целом разное ожидание от игры и оценивают их по-разному."
   ]
  },
  {
   "cell_type": "markdown",
   "metadata": {},
   "source": [
    "Здесь задание такое, что два средних совокупностей - разные. Но нулевая гипотеза всегда формулируется, используя знак равенства.\n",
    "\n",
    "**H0:** Средние пользовательские рейтинги жанров Action и Sports одинаковые;\n",
    "\n",
    "**H1:** Средние пользовательские рейтинги жанров Action и Sports разные;\n"
   ]
  },
  {
   "cell_type": "code",
   "execution_count": 47,
   "metadata": {},
   "outputs": [
    {
     "name": "stdout",
     "output_type": "stream",
     "text": [
      "Дисперсия оценок Экшн: 1.8890840494348111\n",
      "Дисперсия оценок Спорт: 3.022890298704732\n"
     ]
    }
   ],
   "source": [
    "print('Дисперсия оценок Экшн:', data_scores[(data_scores['genre'] == 'action')]['user_score'].var())\n",
    "print('Дисперсия оценок Спорт:', data_scores[(data_scores['genre'] == 'sports')]['user_score'].var())"
   ]
  },
  {
   "cell_type": "code",
   "execution_count": 48,
   "metadata": {},
   "outputs": [
    {
     "name": "stdout",
     "output_type": "stream",
     "text": [
      "p-значение: 4.24307776572644e-20\n",
      "Отвергаем нулевую гипотезу\n",
      "Средний рейтинг экшн-игр: 7.1\n",
      "Средний рейтинг спортивных игр: 5.7\n"
     ]
    }
   ],
   "source": [
    "results = st.ttest_ind(data_scores[(data_scores['genre'] == 'action') & (~data_scores['user_score'].isnull())]['user_score'],\n",
    "                       data_scores[(data_scores['genre'] == 'sports') & (~data_scores['user_score'].isnull())]['user_score'],\n",
    "                      equal_var=False)\n",
    "alpha = 0.05 \n",
    "print('p-значение:', results.pvalue)\n",
    "# вывод значения p-value на экран \n",
    "if results.pvalue < alpha:\n",
    "    print('Отвергаем нулевую гипотезу')\n",
    "else:\n",
    "    print('Не получилось отвергнуть нулевую гипотезу')\n",
    "print('Средний рейтинг экшн-игр:', data_scores[data_scores['genre'] == 'action']['user_score'].median())\n",
    "print('Средний рейтинг спортивных игр:', data_scores[data_scores['genre'] == 'sports']['user_score'].median())"
   ]
  },
  {
   "cell_type": "markdown",
   "metadata": {},
   "source": [
    "Здесь сравнивалось, равны ли пользовательские оценки для двух жанров. Выяснилось, что невозможно принять нулевую гипотезу. Тогда пользуемся альтернативной: средние пользовательские рейтинги жанров Action и Sports разные. Если посмотреть на медианный рейтинг по двум жанрам, то он действительно различается."
   ]
  },
  {
   "cell_type": "markdown",
   "metadata": {},
   "source": [
    "**По итогу** проверки гипотез, было выявлено, что в среднем пользовательские рейтинги на платформах Xbox One и PC одинаковые; а рейтинги экшн- и спротивных игр разные."
   ]
  },
  {
   "cell_type": "markdown",
   "metadata": {},
   "source": [
    "# Вывод"
   ]
  },
  {
   "cell_type": "markdown",
   "metadata": {},
   "source": [
    "**Подготовка данных**\n",
    "\n",
    "В данных присутсвовали неявные дубликаты в разделе возрастного рейтинга, которые были удалены.\n",
    "\n",
    "Данные не за все периоды рекомендуются к анализу (был выбран период с 2012 по 2016 год - за это время не появилось новых консолей, рынок стабилен и вполне предсказуемо себя ведет)\n",
    "\n",
    "**Исследовательский анализ данных**\n",
    "\n",
    "Выявлена закономерность и описаны причины изменения продаж игр (пик на 2008 год, и дальнейшее падение из-за кризиса и способов получения \"пиратской\" версии игры, возможное отсутсвие полного количества данных за последний период)\n",
    "\n",
    "Определено, что на данный момент (конец 2016 года) лидирующие платформы - PS4, Xbox One, 3DS, то есть в основном консоли.\n",
    "\n",
    "Отзывы пользователей меньше связаны с количеством продаж, чем отзывы критиков.\n",
    "\n",
    "Самые прибыльные жанры - экшн, шутеры, спорт.\n",
    "\n",
    "**Пользовательский портрет**\n",
    "\n",
    "Портреты пользователя в Северной Америке и Европе схожи - игры на консолях с приоритетом экшн-играм и шутерам. Европейский рынок больше \"любит\" консоли PS, в то время как на американском первое место занимает Xbox360 (стоит учитывать то, что это уже устаревающая модель и скоро продажи игр на неё будут резко падать).\n",
    "\n",
    "В Японии люди в основном пользуются портативными игровыми системами и, соответсвенно, играют в более спокойные игры - симуляторы, платформеры, ролплей.\n",
    "\n",
    "**Гипотезы**\n",
    "\n",
    "Выявлено, что средние оценки для Xbox One и PC одинаковые. Это говорит о том, что люди в целом оценивают игру, не основываясь на то - консоль это или персональный компьютер. \n",
    "\n",
    "Рейтинги спортивных и экшн-игр оказались разными. Если смотреть по медиане, то рейтинг спортивных игр ниже (что интересно, ниже и их объём продаж, но здесь сложно говорить о том, что является причиной чего)\n",
    "\n",
    "**Рекомендация**\n",
    "\n",
    "Потенциально прибыльный продукт на 2017 год для Европейского и американского рынка - игра на консоль (если делать упор на одну - лучше PS4, она входит в топ-1 в двух рынках), шутер или экшн (лучше брать экшн, он самый популярный). \n",
    "\n",
    "Самые продаваемые игры для двух рынков - категория \"для взрослых\", также популярны \"для всех\". Несмотря на то, что кажется, что больше в игры играют подростки - категория \"для подростков\" не популярна, так что делать на неё упор не нужно.\n",
    "\n",
    "В целом, ориентироваться об успешности игры лучше по оценкам критиков, поскольку оценка пользователей происходит скорее постфактум и может быть занижена вследсвие завышенных ожиданий от игры.\n",
    "\n",
    "**Итого:**\n",
    "\n",
    "Рекомендуемые платформы: Xbox One (как замена очень популярной в прошлом, но не в 2016 году Xbox 360) и PS4.\n",
    "\n",
    "Самый популярный жанр - шутер (он более стабилен, хоть экшн и имеет больше очень популярных игр)\n",
    "\n",
    "Для рекламы на северо-американском и евпропейском игры лучше выпускать игры с рейтингом M (эти два региона можно объединить в один рынок, портреты пользователей очень схожи)\n",
    "\n",
    "Обращать внимание на отзывы покупателей нет особого смысла, в то время как отзывы критиков могут помочь принять решение."
   ]
  }
 ],
 "metadata": {
  "ExecuteTimeLog": [
   {
    "duration": 382,
    "start_time": "2023-03-13T17:10:21.253Z"
   },
   {
    "duration": 401,
    "start_time": "2023-03-13T17:10:48.689Z"
   },
   {
    "duration": 71,
    "start_time": "2023-03-13T17:11:02.187Z"
   },
   {
    "duration": 532,
    "start_time": "2023-03-13T17:11:08.594Z"
   },
   {
    "duration": 4,
    "start_time": "2023-03-13T17:11:30.618Z"
   },
   {
    "duration": 3,
    "start_time": "2023-03-13T17:12:20.794Z"
   },
   {
    "duration": 118,
    "start_time": "2023-03-13T17:12:51.551Z"
   },
   {
    "duration": 95,
    "start_time": "2023-03-13T17:13:41.705Z"
   },
   {
    "duration": 62,
    "start_time": "2023-03-13T17:14:18.078Z"
   },
   {
    "duration": 76,
    "start_time": "2023-03-13T17:16:31.718Z"
   },
   {
    "duration": 61,
    "start_time": "2023-03-13T17:16:47.101Z"
   },
   {
    "duration": 77,
    "start_time": "2023-03-13T17:18:14.475Z"
   },
   {
    "duration": 65,
    "start_time": "2023-03-13T17:18:38.979Z"
   },
   {
    "duration": 59,
    "start_time": "2023-03-13T17:18:43.707Z"
   },
   {
    "duration": 70,
    "start_time": "2023-03-13T17:18:53.221Z"
   },
   {
    "duration": 64,
    "start_time": "2023-03-13T17:19:09.731Z"
   },
   {
    "duration": 63,
    "start_time": "2023-03-13T17:19:32.773Z"
   },
   {
    "duration": 67,
    "start_time": "2023-03-13T17:23:19.809Z"
   },
   {
    "duration": 358,
    "start_time": "2023-03-13T17:23:35.599Z"
   },
   {
    "duration": 65,
    "start_time": "2023-03-13T17:23:41.055Z"
   },
   {
    "duration": 82,
    "start_time": "2023-03-13T17:24:21.391Z"
   },
   {
    "duration": 69,
    "start_time": "2023-03-13T17:24:58.590Z"
   },
   {
    "duration": 86,
    "start_time": "2023-03-13T17:25:04.183Z"
   },
   {
    "duration": 78,
    "start_time": "2023-03-13T17:25:36.822Z"
   },
   {
    "duration": 76,
    "start_time": "2023-03-13T17:26:19.056Z"
   },
   {
    "duration": 77,
    "start_time": "2023-03-13T17:26:23.676Z"
   },
   {
    "duration": 65,
    "start_time": "2023-03-13T17:28:32.122Z"
   },
   {
    "duration": 86,
    "start_time": "2023-03-13T17:30:08.548Z"
   },
   {
    "duration": 88,
    "start_time": "2023-03-13T17:30:31.009Z"
   },
   {
    "duration": 105,
    "start_time": "2023-03-13T17:31:14.720Z"
   },
   {
    "duration": 85,
    "start_time": "2023-03-13T17:35:21.930Z"
   },
   {
    "duration": 107,
    "start_time": "2023-03-13T17:35:32.386Z"
   },
   {
    "duration": 52,
    "start_time": "2023-03-15T18:57:36.430Z"
   },
   {
    "duration": 1463,
    "start_time": "2023-03-15T18:57:53.586Z"
   },
   {
    "duration": 2,
    "start_time": "2023-03-15T18:57:58.385Z"
   },
   {
    "duration": 180,
    "start_time": "2023-03-15T18:57:58.390Z"
   },
   {
    "duration": 6,
    "start_time": "2023-03-15T18:57:58.572Z"
   },
   {
    "duration": 20,
    "start_time": "2023-03-15T18:58:02.906Z"
   },
   {
    "duration": 17,
    "start_time": "2023-03-15T18:58:07.658Z"
   },
   {
    "duration": 6,
    "start_time": "2023-03-15T18:58:14.249Z"
   },
   {
    "duration": 17,
    "start_time": "2023-03-15T18:58:15.001Z"
   },
   {
    "duration": 7,
    "start_time": "2023-03-15T18:58:55.969Z"
   },
   {
    "duration": 14,
    "start_time": "2023-03-15T18:58:58.809Z"
   },
   {
    "duration": 15,
    "start_time": "2023-03-15T18:59:09.080Z"
   },
   {
    "duration": 7,
    "start_time": "2023-03-15T18:59:11.473Z"
   },
   {
    "duration": 77,
    "start_time": "2023-03-15T19:00:29.711Z"
   },
   {
    "duration": 4,
    "start_time": "2023-03-15T19:00:58.472Z"
   },
   {
    "duration": 15,
    "start_time": "2023-03-15T19:00:59.679Z"
   },
   {
    "duration": 6,
    "start_time": "2023-03-15T19:01:30.983Z"
   },
   {
    "duration": 15,
    "start_time": "2023-03-15T19:01:31.702Z"
   },
   {
    "duration": 380,
    "start_time": "2023-03-15T19:03:31.933Z"
   },
   {
    "duration": 15,
    "start_time": "2023-03-15T19:03:36.316Z"
   },
   {
    "duration": 17,
    "start_time": "2023-03-15T19:03:36.924Z"
   },
   {
    "duration": 11,
    "start_time": "2023-03-15T19:04:42.244Z"
   },
   {
    "duration": 15,
    "start_time": "2023-03-15T19:04:44.115Z"
   },
   {
    "duration": 22,
    "start_time": "2023-03-15T19:05:40.194Z"
   },
   {
    "duration": 9,
    "start_time": "2023-03-15T19:05:59.810Z"
   },
   {
    "duration": 8,
    "start_time": "2023-03-15T19:06:08.850Z"
   },
   {
    "duration": 10,
    "start_time": "2023-03-15T19:06:25.866Z"
   },
   {
    "duration": 14,
    "start_time": "2023-03-15T19:06:53.193Z"
   },
   {
    "duration": 10,
    "start_time": "2023-03-15T19:07:04.649Z"
   },
   {
    "duration": 10,
    "start_time": "2023-03-15T19:07:09.113Z"
   },
   {
    "duration": 8,
    "start_time": "2023-03-15T19:07:34.481Z"
   },
   {
    "duration": 8,
    "start_time": "2023-03-15T19:07:39.567Z"
   },
   {
    "duration": 12,
    "start_time": "2023-03-15T19:07:46.720Z"
   },
   {
    "duration": 12,
    "start_time": "2023-03-15T19:08:09.562Z"
   },
   {
    "duration": 15,
    "start_time": "2023-03-15T19:08:23.752Z"
   },
   {
    "duration": 22,
    "start_time": "2023-03-15T19:08:43.407Z"
   },
   {
    "duration": 24,
    "start_time": "2023-03-15T19:09:42.608Z"
   },
   {
    "duration": 27,
    "start_time": "2023-03-15T19:12:30.588Z"
   },
   {
    "duration": 28,
    "start_time": "2023-03-15T19:12:39.868Z"
   },
   {
    "duration": 25,
    "start_time": "2023-03-15T19:13:07.388Z"
   },
   {
    "duration": 27,
    "start_time": "2023-03-15T19:14:30.979Z"
   },
   {
    "duration": 9,
    "start_time": "2023-03-15T19:14:51.098Z"
   },
   {
    "duration": 24,
    "start_time": "2023-03-15T19:14:56.617Z"
   },
   {
    "duration": 26,
    "start_time": "2023-03-15T19:15:09.947Z"
   },
   {
    "duration": 27,
    "start_time": "2023-03-15T19:15:24.225Z"
   },
   {
    "duration": 78,
    "start_time": "2023-03-15T19:16:31.241Z"
   },
   {
    "duration": 69,
    "start_time": "2023-03-15T19:16:35.488Z"
   },
   {
    "duration": 33,
    "start_time": "2023-03-15T19:16:38.975Z"
   },
   {
    "duration": 13,
    "start_time": "2023-03-15T19:17:08.881Z"
   },
   {
    "duration": 24,
    "start_time": "2023-03-15T19:17:09.632Z"
   },
   {
    "duration": 35,
    "start_time": "2023-03-15T19:17:56.608Z"
   },
   {
    "duration": 40,
    "start_time": "2023-03-15T19:20:37.331Z"
   },
   {
    "duration": 43,
    "start_time": "2023-03-15T19:21:09.268Z"
   },
   {
    "duration": 39,
    "start_time": "2023-03-15T19:21:20.940Z"
   },
   {
    "duration": 54,
    "start_time": "2023-03-15T19:22:53.178Z"
   },
   {
    "duration": 39,
    "start_time": "2023-03-15T19:23:05.610Z"
   },
   {
    "duration": 50,
    "start_time": "2023-03-15T19:24:06.617Z"
   },
   {
    "duration": 48,
    "start_time": "2023-03-15T19:24:25.929Z"
   },
   {
    "duration": 45,
    "start_time": "2023-03-15T19:24:46.408Z"
   },
   {
    "duration": 46,
    "start_time": "2023-03-15T19:24:55.794Z"
   },
   {
    "duration": 41,
    "start_time": "2023-03-15T19:25:04.361Z"
   },
   {
    "duration": 37,
    "start_time": "2023-03-15T19:26:01.871Z"
   },
   {
    "duration": 19,
    "start_time": "2023-03-15T19:26:06.758Z"
   },
   {
    "duration": 25,
    "start_time": "2023-03-15T19:26:10.271Z"
   },
   {
    "duration": 25,
    "start_time": "2023-03-15T19:26:16.167Z"
   },
   {
    "duration": 20,
    "start_time": "2023-03-15T19:27:15.173Z"
   },
   {
    "duration": 18,
    "start_time": "2023-03-15T19:27:24.491Z"
   },
   {
    "duration": 20,
    "start_time": "2023-03-15T19:30:25.611Z"
   },
   {
    "duration": 23,
    "start_time": "2023-03-15T19:30:35.259Z"
   },
   {
    "duration": 18,
    "start_time": "2023-03-15T19:32:05.377Z"
   },
   {
    "duration": 9,
    "start_time": "2023-03-15T19:33:21.816Z"
   },
   {
    "duration": 21,
    "start_time": "2023-03-15T19:33:27.490Z"
   },
   {
    "duration": 12,
    "start_time": "2023-03-15T19:33:50.600Z"
   },
   {
    "duration": 10,
    "start_time": "2023-03-15T19:34:10.823Z"
   },
   {
    "duration": 13,
    "start_time": "2023-03-15T19:36:22.367Z"
   },
   {
    "duration": 12,
    "start_time": "2023-03-15T19:36:59.295Z"
   },
   {
    "duration": 8,
    "start_time": "2023-03-15T19:37:33.502Z"
   },
   {
    "duration": 21,
    "start_time": "2023-03-15T19:37:43.294Z"
   },
   {
    "duration": 578,
    "start_time": "2023-03-15T19:38:55.491Z"
   },
   {
    "duration": 22,
    "start_time": "2023-03-15T19:39:16.965Z"
   },
   {
    "duration": 10,
    "start_time": "2023-03-15T19:39:29.049Z"
   },
   {
    "duration": 5,
    "start_time": "2023-03-15T19:40:20.708Z"
   },
   {
    "duration": 20,
    "start_time": "2023-03-15T19:40:47.196Z"
   },
   {
    "duration": 22,
    "start_time": "2023-03-15T19:40:56.165Z"
   },
   {
    "duration": 24,
    "start_time": "2023-03-15T19:41:04.517Z"
   },
   {
    "duration": 25,
    "start_time": "2023-03-15T19:45:43.891Z"
   },
   {
    "duration": 18,
    "start_time": "2023-03-15T19:46:03.194Z"
   },
   {
    "duration": 30,
    "start_time": "2023-03-15T19:46:09.774Z"
   },
   {
    "duration": 24,
    "start_time": "2023-03-15T19:46:13.303Z"
   },
   {
    "duration": 23,
    "start_time": "2023-03-15T19:46:16.896Z"
   },
   {
    "duration": 7,
    "start_time": "2023-03-15T19:51:30.361Z"
   },
   {
    "duration": 31,
    "start_time": "2023-03-15T19:51:38.691Z"
   },
   {
    "duration": 15,
    "start_time": "2023-03-15T19:52:33.064Z"
   },
   {
    "duration": 17,
    "start_time": "2023-03-15T19:53:23.359Z"
   },
   {
    "duration": 17,
    "start_time": "2023-03-15T19:54:15.063Z"
   },
   {
    "duration": 3,
    "start_time": "2023-03-15T19:54:30.096Z"
   },
   {
    "duration": 17,
    "start_time": "2023-03-15T19:54:39.950Z"
   },
   {
    "duration": 17,
    "start_time": "2023-03-15T19:55:36.191Z"
   },
   {
    "duration": 78,
    "start_time": "2023-03-15T19:55:49.846Z"
   },
   {
    "duration": 19,
    "start_time": "2023-03-15T19:55:55.829Z"
   },
   {
    "duration": 30,
    "start_time": "2023-03-15T19:58:19.707Z"
   },
   {
    "duration": 43,
    "start_time": "2023-03-15T19:58:48.218Z"
   },
   {
    "duration": 17,
    "start_time": "2023-03-15T19:59:04.991Z"
   },
   {
    "duration": 17,
    "start_time": "2023-03-15T20:00:16.744Z"
   },
   {
    "duration": 4,
    "start_time": "2023-03-15T20:04:15.087Z"
   },
   {
    "duration": 21,
    "start_time": "2023-03-15T20:04:21.045Z"
   },
   {
    "duration": 5,
    "start_time": "2023-03-15T20:04:39.877Z"
   },
   {
    "duration": 20,
    "start_time": "2023-03-15T20:04:40.690Z"
   },
   {
    "duration": 25,
    "start_time": "2023-03-15T20:08:04.498Z"
   },
   {
    "duration": 20,
    "start_time": "2023-03-15T20:08:15.289Z"
   },
   {
    "duration": 18,
    "start_time": "2023-03-15T20:09:18.464Z"
   },
   {
    "duration": 22,
    "start_time": "2023-03-15T20:09:27.361Z"
   },
   {
    "duration": 18,
    "start_time": "2023-03-15T20:09:39.656Z"
   },
   {
    "duration": 21,
    "start_time": "2023-03-15T20:09:56.824Z"
   },
   {
    "duration": 20,
    "start_time": "2023-03-15T20:10:43.128Z"
   },
   {
    "duration": 18,
    "start_time": "2023-03-15T20:11:04.007Z"
   },
   {
    "duration": 18,
    "start_time": "2023-03-15T20:11:16.766Z"
   },
   {
    "duration": 20,
    "start_time": "2023-03-15T20:13:23.109Z"
   },
   {
    "duration": 17,
    "start_time": "2023-03-15T20:13:30.333Z"
   },
   {
    "duration": 129,
    "start_time": "2023-03-15T20:13:40.405Z"
   },
   {
    "duration": 119,
    "start_time": "2023-03-15T20:13:47.349Z"
   },
   {
    "duration": 18,
    "start_time": "2023-03-15T20:13:58.788Z"
   },
   {
    "duration": 21,
    "start_time": "2023-03-15T20:14:03.947Z"
   },
   {
    "duration": 23,
    "start_time": "2023-03-15T20:15:18.418Z"
   },
   {
    "duration": 27,
    "start_time": "2023-03-15T20:17:26.585Z"
   },
   {
    "duration": 21,
    "start_time": "2023-03-15T20:17:41.689Z"
   },
   {
    "duration": 20,
    "start_time": "2023-03-15T20:21:41.493Z"
   },
   {
    "duration": 19,
    "start_time": "2023-03-15T20:22:24.804Z"
   },
   {
    "duration": 17,
    "start_time": "2023-03-15T20:22:55.270Z"
   },
   {
    "duration": 295,
    "start_time": "2023-03-15T20:23:40.124Z"
   },
   {
    "duration": 23,
    "start_time": "2023-03-15T20:23:47.260Z"
   },
   {
    "duration": 23,
    "start_time": "2023-03-15T20:24:05.589Z"
   },
   {
    "duration": 20,
    "start_time": "2023-03-15T20:30:05.101Z"
   },
   {
    "duration": 18,
    "start_time": "2023-03-15T20:30:17.196Z"
   },
   {
    "duration": 7,
    "start_time": "2023-03-15T20:30:28.925Z"
   },
   {
    "duration": 11,
    "start_time": "2023-03-15T20:32:26.227Z"
   },
   {
    "duration": 15,
    "start_time": "2023-03-15T20:32:42.587Z"
   },
   {
    "duration": 7,
    "start_time": "2023-03-15T20:33:02.395Z"
   },
   {
    "duration": 9,
    "start_time": "2023-03-15T20:33:18.994Z"
   },
   {
    "duration": 1407,
    "start_time": "2023-03-16T10:18:15.804Z"
   },
   {
    "duration": 164,
    "start_time": "2023-03-16T10:18:17.213Z"
   },
   {
    "duration": 12,
    "start_time": "2023-03-16T10:18:17.379Z"
   },
   {
    "duration": 20,
    "start_time": "2023-03-16T10:18:17.393Z"
   },
   {
    "duration": 20,
    "start_time": "2023-03-16T10:18:17.415Z"
   },
   {
    "duration": 51,
    "start_time": "2023-03-16T10:18:17.436Z"
   },
   {
    "duration": 25,
    "start_time": "2023-03-16T10:18:17.489Z"
   },
   {
    "duration": 22,
    "start_time": "2023-03-16T10:18:17.516Z"
   },
   {
    "duration": 53,
    "start_time": "2023-03-16T10:18:17.540Z"
   },
   {
    "duration": 26,
    "start_time": "2023-03-16T10:18:17.595Z"
   },
   {
    "duration": 18,
    "start_time": "2023-03-16T10:18:17.623Z"
   },
   {
    "duration": 43,
    "start_time": "2023-03-16T10:18:17.643Z"
   },
   {
    "duration": 21,
    "start_time": "2023-03-16T10:18:17.688Z"
   },
   {
    "duration": 11,
    "start_time": "2023-03-16T10:18:17.711Z"
   },
   {
    "duration": 26,
    "start_time": "2023-03-16T10:18:17.724Z"
   },
   {
    "duration": 5,
    "start_time": "2023-03-16T10:18:17.752Z"
   },
   {
    "duration": 40,
    "start_time": "2023-03-16T10:18:17.758Z"
   },
   {
    "duration": 21,
    "start_time": "2023-03-16T10:21:16.280Z"
   },
   {
    "duration": 20,
    "start_time": "2023-03-16T10:21:20.751Z"
   },
   {
    "duration": 20,
    "start_time": "2023-03-16T10:21:56.928Z"
   },
   {
    "duration": 4,
    "start_time": "2023-03-16T10:23:07.684Z"
   },
   {
    "duration": 21,
    "start_time": "2023-03-16T10:23:08.126Z"
   },
   {
    "duration": 30,
    "start_time": "2023-03-16T10:23:11.524Z"
   },
   {
    "duration": 27,
    "start_time": "2023-03-16T10:23:12.012Z"
   },
   {
    "duration": 21,
    "start_time": "2023-03-16T10:23:12.430Z"
   },
   {
    "duration": 18,
    "start_time": "2023-03-16T10:23:13.143Z"
   },
   {
    "duration": 6,
    "start_time": "2023-03-16T10:23:15.496Z"
   },
   {
    "duration": 6,
    "start_time": "2023-03-16T10:23:16.183Z"
   },
   {
    "duration": 14,
    "start_time": "2023-03-16T10:23:17.567Z"
   },
   {
    "duration": 19,
    "start_time": "2023-03-16T10:25:50.736Z"
   },
   {
    "duration": 118,
    "start_time": "2023-03-16T10:26:37.711Z"
   },
   {
    "duration": 15,
    "start_time": "2023-03-16T10:27:45.296Z"
   },
   {
    "duration": 17,
    "start_time": "2023-03-16T10:30:11.551Z"
   },
   {
    "duration": 18,
    "start_time": "2023-03-16T10:30:16.320Z"
   },
   {
    "duration": 23,
    "start_time": "2023-03-16T10:30:24.611Z"
   },
   {
    "duration": 12,
    "start_time": "2023-03-16T10:30:38.444Z"
   },
   {
    "duration": 28,
    "start_time": "2023-03-16T10:30:42.944Z"
   },
   {
    "duration": 20,
    "start_time": "2023-03-16T10:30:53.764Z"
   },
   {
    "duration": 21,
    "start_time": "2023-03-16T10:31:14.155Z"
   },
   {
    "duration": 17,
    "start_time": "2023-03-16T10:31:53.603Z"
   },
   {
    "duration": 29,
    "start_time": "2023-03-16T10:32:20.153Z"
   },
   {
    "duration": 21,
    "start_time": "2023-03-16T10:32:29.784Z"
   },
   {
    "duration": 1349,
    "start_time": "2023-03-16T10:33:56.618Z"
   },
   {
    "duration": 18,
    "start_time": "2023-03-16T10:34:33.213Z"
   },
   {
    "duration": 34,
    "start_time": "2023-03-16T10:34:45.508Z"
   },
   {
    "duration": 20,
    "start_time": "2023-03-16T10:34:50.183Z"
   },
   {
    "duration": 15,
    "start_time": "2023-03-16T10:35:20.168Z"
   },
   {
    "duration": 15,
    "start_time": "2023-03-16T10:35:23.849Z"
   },
   {
    "duration": 16,
    "start_time": "2023-03-16T10:35:28.263Z"
   },
   {
    "duration": 20,
    "start_time": "2023-03-16T10:36:01.957Z"
   },
   {
    "duration": 388,
    "start_time": "2023-03-16T10:37:37.775Z"
   },
   {
    "duration": 118,
    "start_time": "2023-03-16T10:37:51.779Z"
   },
   {
    "duration": 364,
    "start_time": "2023-03-16T10:38:12.027Z"
   },
   {
    "duration": 25,
    "start_time": "2023-03-16T10:44:36.460Z"
   },
   {
    "duration": 4129,
    "start_time": "2023-03-16T10:46:06.820Z"
   },
   {
    "duration": 419,
    "start_time": "2023-03-16T10:47:22.392Z"
   },
   {
    "duration": 5,
    "start_time": "2023-03-16T10:48:41.580Z"
   },
   {
    "duration": 79,
    "start_time": "2023-03-16T10:48:46.305Z"
   },
   {
    "duration": 22,
    "start_time": "2023-03-16T10:48:56.554Z"
   },
   {
    "duration": 19,
    "start_time": "2023-03-16T10:49:04.041Z"
   },
   {
    "duration": 3892,
    "start_time": "2023-03-16T10:49:35.146Z"
   },
   {
    "duration": 18,
    "start_time": "2023-03-16T10:49:46.634Z"
   },
   {
    "duration": 17,
    "start_time": "2023-03-16T10:50:05.318Z"
   },
   {
    "duration": 13,
    "start_time": "2023-03-16T10:50:34.453Z"
   },
   {
    "duration": 17,
    "start_time": "2023-03-16T10:50:43.344Z"
   },
   {
    "duration": 20,
    "start_time": "2023-03-16T10:51:03.960Z"
   },
   {
    "duration": 20,
    "start_time": "2023-03-16T10:51:22.285Z"
   },
   {
    "duration": 14,
    "start_time": "2023-03-16T10:54:11.092Z"
   },
   {
    "duration": 320,
    "start_time": "2023-03-16T10:54:57.381Z"
   },
   {
    "duration": 204,
    "start_time": "2023-03-16T10:59:14.236Z"
   },
   {
    "duration": 196,
    "start_time": "2023-03-16T10:59:24.924Z"
   },
   {
    "duration": 215,
    "start_time": "2023-03-16T11:01:24.485Z"
   },
   {
    "duration": 15,
    "start_time": "2023-03-16T11:01:40.277Z"
   },
   {
    "duration": 19,
    "start_time": "2023-03-16T11:02:05.249Z"
   },
   {
    "duration": 16,
    "start_time": "2023-03-16T11:02:23.725Z"
   },
   {
    "duration": 17,
    "start_time": "2023-03-16T11:02:33.985Z"
   },
   {
    "duration": 16,
    "start_time": "2023-03-16T11:02:43.957Z"
   },
   {
    "duration": 2250,
    "start_time": "2023-03-16T11:03:50.362Z"
   },
   {
    "duration": 3545,
    "start_time": "2023-03-16T11:04:23.298Z"
   },
   {
    "duration": 40,
    "start_time": "2023-03-16T11:07:51.587Z"
   },
   {
    "duration": 3636,
    "start_time": "2023-03-16T11:10:02.326Z"
   },
   {
    "duration": 27,
    "start_time": "2023-03-16T11:10:20.378Z"
   },
   {
    "duration": 24,
    "start_time": "2023-03-16T11:10:32.781Z"
   },
   {
    "duration": 42,
    "start_time": "2023-03-16T11:10:37.742Z"
   },
   {
    "duration": 42,
    "start_time": "2023-03-16T11:11:29.518Z"
   },
   {
    "duration": 32,
    "start_time": "2023-03-16T11:11:38.921Z"
   },
   {
    "duration": 25,
    "start_time": "2023-03-16T11:11:54.150Z"
   },
   {
    "duration": 31,
    "start_time": "2023-03-16T11:12:00.977Z"
   },
   {
    "duration": 266,
    "start_time": "2023-03-16T11:12:09.153Z"
   },
   {
    "duration": 83,
    "start_time": "2023-03-16T11:13:13.481Z"
   },
   {
    "duration": 109166,
    "start_time": "2023-03-16T11:16:02.405Z"
   },
   {
    "duration": 18463,
    "start_time": "2023-03-16T11:18:14.987Z"
   },
   {
    "duration": 368,
    "start_time": "2023-03-16T11:18:38.413Z"
   },
   {
    "duration": 288,
    "start_time": "2023-03-16T11:18:54.714Z"
   },
   {
    "duration": 291,
    "start_time": "2023-03-16T11:18:59.335Z"
   },
   {
    "duration": 39,
    "start_time": "2023-03-16T11:22:58.830Z"
   },
   {
    "duration": 33,
    "start_time": "2023-03-16T11:23:08.051Z"
   },
   {
    "duration": 14189,
    "start_time": "2023-03-16T11:23:37.410Z"
   },
   {
    "duration": 10650,
    "start_time": "2023-03-16T11:23:54.814Z"
   },
   {
    "duration": 32,
    "start_time": "2023-03-16T11:24:08.059Z"
   },
   {
    "duration": 43,
    "start_time": "2023-03-16T11:24:23.406Z"
   },
   {
    "duration": 41,
    "start_time": "2023-03-16T11:24:32.090Z"
   },
   {
    "duration": 111879,
    "start_time": "2023-03-16T11:25:30.619Z"
   },
   {
    "duration": 40,
    "start_time": "2023-03-16T11:29:01.533Z"
   },
   {
    "duration": 30,
    "start_time": "2023-03-16T11:29:08.712Z"
   },
   {
    "duration": 32,
    "start_time": "2023-03-16T11:29:24.096Z"
   },
   {
    "duration": 34,
    "start_time": "2023-03-16T11:29:29.684Z"
   },
   {
    "duration": 34,
    "start_time": "2023-03-16T11:29:33.843Z"
   },
   {
    "duration": 27,
    "start_time": "2023-03-16T11:31:07.625Z"
   },
   {
    "duration": 40,
    "start_time": "2023-03-16T11:31:13.089Z"
   },
   {
    "duration": 36,
    "start_time": "2023-03-16T11:31:16.258Z"
   },
   {
    "duration": 36,
    "start_time": "2023-03-16T11:31:27.216Z"
   },
   {
    "duration": 41,
    "start_time": "2023-03-16T11:31:35.337Z"
   },
   {
    "duration": 866,
    "start_time": "2023-03-16T11:32:04.508Z"
   },
   {
    "duration": 844,
    "start_time": "2023-03-16T11:32:20.930Z"
   },
   {
    "duration": 34,
    "start_time": "2023-03-16T11:32:31.265Z"
   },
   {
    "duration": 41,
    "start_time": "2023-03-16T11:32:41.124Z"
   },
   {
    "duration": 61,
    "start_time": "2023-03-16T11:33:37.120Z"
   },
   {
    "duration": 39,
    "start_time": "2023-03-16T11:33:57.588Z"
   },
   {
    "duration": 46,
    "start_time": "2023-03-16T11:34:04.266Z"
   },
   {
    "duration": 37,
    "start_time": "2023-03-16T11:34:52.799Z"
   },
   {
    "duration": 47,
    "start_time": "2023-03-16T11:35:16.435Z"
   },
   {
    "duration": 39,
    "start_time": "2023-03-16T11:35:20.209Z"
   },
   {
    "duration": 37,
    "start_time": "2023-03-16T11:35:31.032Z"
   },
   {
    "duration": 8577,
    "start_time": "2023-03-16T11:35:55.856Z"
   },
   {
    "duration": 8202,
    "start_time": "2023-03-16T11:37:20.288Z"
   },
   {
    "duration": 5718,
    "start_time": "2023-03-16T11:37:59.012Z"
   },
   {
    "duration": 5508,
    "start_time": "2023-03-16T11:38:20.435Z"
   },
   {
    "duration": 35,
    "start_time": "2023-03-16T11:38:46.129Z"
   },
   {
    "duration": 5749,
    "start_time": "2023-03-16T11:38:54.436Z"
   },
   {
    "duration": 230,
    "start_time": "2023-03-16T11:39:24.605Z"
   },
   {
    "duration": 213,
    "start_time": "2023-03-16T11:39:39.804Z"
   },
   {
    "duration": 5697,
    "start_time": "2023-03-16T11:41:11.195Z"
   },
   {
    "duration": 302,
    "start_time": "2023-03-16T11:41:57.350Z"
   },
   {
    "duration": 5667,
    "start_time": "2023-03-16T11:42:11.849Z"
   },
   {
    "duration": 52,
    "start_time": "2023-03-16T11:47:00.100Z"
   },
   {
    "duration": 1223,
    "start_time": "2023-03-16T11:47:09.430Z"
   },
   {
    "duration": 163,
    "start_time": "2023-03-16T11:47:10.656Z"
   },
   {
    "duration": 14,
    "start_time": "2023-03-16T11:47:10.821Z"
   },
   {
    "duration": 22,
    "start_time": "2023-03-16T11:47:10.836Z"
   },
   {
    "duration": 34,
    "start_time": "2023-03-16T11:47:10.860Z"
   },
   {
    "duration": 21,
    "start_time": "2023-03-16T11:47:10.896Z"
   },
   {
    "duration": 24,
    "start_time": "2023-03-16T11:47:10.919Z"
   },
   {
    "duration": 52,
    "start_time": "2023-03-16T11:47:10.944Z"
   },
   {
    "duration": 5,
    "start_time": "2023-03-16T11:47:10.998Z"
   },
   {
    "duration": 23,
    "start_time": "2023-03-16T11:47:11.004Z"
   },
   {
    "duration": 23,
    "start_time": "2023-03-16T11:47:11.029Z"
   },
   {
    "duration": 40,
    "start_time": "2023-03-16T11:47:11.054Z"
   },
   {
    "duration": 20,
    "start_time": "2023-03-16T11:47:11.095Z"
   },
   {
    "duration": 17,
    "start_time": "2023-03-16T11:47:11.118Z"
   },
   {
    "duration": 41,
    "start_time": "2023-03-16T11:47:11.138Z"
   },
   {
    "duration": 10,
    "start_time": "2023-03-16T11:47:11.181Z"
   },
   {
    "duration": 24,
    "start_time": "2023-03-16T11:47:11.194Z"
   },
   {
    "duration": 395,
    "start_time": "2023-03-16T11:47:11.220Z"
   },
   {
    "duration": 30,
    "start_time": "2023-03-16T11:47:11.617Z"
   },
   {
    "duration": 35,
    "start_time": "2023-03-16T11:53:27.710Z"
   },
   {
    "duration": 37,
    "start_time": "2023-03-16T11:53:34.971Z"
   },
   {
    "duration": 39,
    "start_time": "2023-03-16T11:54:44.587Z"
   },
   {
    "duration": 98,
    "start_time": "2023-03-16T11:55:15.826Z"
   },
   {
    "duration": 3517,
    "start_time": "2023-03-16T11:55:19.049Z"
   },
   {
    "duration": 2063,
    "start_time": "2023-03-16T11:55:35.210Z"
   },
   {
    "duration": 286,
    "start_time": "2023-03-16T11:55:50.909Z"
   },
   {
    "duration": 344,
    "start_time": "2023-03-16T11:56:06.088Z"
   },
   {
    "duration": 336,
    "start_time": "2023-03-16T11:56:44.921Z"
   },
   {
    "duration": 34,
    "start_time": "2023-03-16T11:57:13.980Z"
   },
   {
    "duration": 38,
    "start_time": "2023-03-16T11:57:33.951Z"
   },
   {
    "duration": 45,
    "start_time": "2023-03-16T11:58:04.655Z"
   },
   {
    "duration": 287,
    "start_time": "2023-03-16T11:58:08.312Z"
   },
   {
    "duration": 148,
    "start_time": "2023-03-16T11:59:31.357Z"
   },
   {
    "duration": 386,
    "start_time": "2023-03-16T11:59:37.549Z"
   },
   {
    "duration": 474,
    "start_time": "2023-03-16T11:59:55.525Z"
   },
   {
    "duration": 357,
    "start_time": "2023-03-16T12:00:05.372Z"
   },
   {
    "duration": 680,
    "start_time": "2023-03-16T12:00:15.892Z"
   },
   {
    "duration": 1354,
    "start_time": "2023-03-16T12:00:25.883Z"
   },
   {
    "duration": 2785,
    "start_time": "2023-03-16T12:01:16.587Z"
   },
   {
    "duration": 2778,
    "start_time": "2023-03-16T12:01:26.909Z"
   },
   {
    "duration": 1192,
    "start_time": "2023-03-16T12:02:17.176Z"
   },
   {
    "duration": 39,
    "start_time": "2023-03-16T12:03:01.715Z"
   },
   {
    "duration": 44,
    "start_time": "2023-03-16T12:03:30.754Z"
   },
   {
    "duration": 205,
    "start_time": "2023-03-16T12:03:40.553Z"
   },
   {
    "duration": 41,
    "start_time": "2023-03-16T12:04:03.041Z"
   },
   {
    "duration": 211,
    "start_time": "2023-03-16T12:04:12.313Z"
   },
   {
    "duration": 782,
    "start_time": "2023-03-16T12:04:18.598Z"
   },
   {
    "duration": 987,
    "start_time": "2023-03-16T12:04:25.692Z"
   },
   {
    "duration": 219,
    "start_time": "2023-03-16T12:04:40.896Z"
   },
   {
    "duration": 301,
    "start_time": "2023-03-16T12:04:45.090Z"
   },
   {
    "duration": 290,
    "start_time": "2023-03-16T12:05:55.303Z"
   },
   {
    "duration": 1059,
    "start_time": "2023-03-16T12:06:49.046Z"
   },
   {
    "duration": 751,
    "start_time": "2023-03-16T12:06:56.398Z"
   },
   {
    "duration": 938,
    "start_time": "2023-03-16T12:07:16.182Z"
   },
   {
    "duration": 961,
    "start_time": "2023-03-16T12:07:44.550Z"
   },
   {
    "duration": 1229,
    "start_time": "2023-03-16T12:08:45.002Z"
   },
   {
    "duration": 1253,
    "start_time": "2023-03-16T12:09:01.452Z"
   },
   {
    "duration": 1387,
    "start_time": "2023-03-16T12:10:02.175Z"
   },
   {
    "duration": 1569,
    "start_time": "2023-03-16T12:10:57.954Z"
   },
   {
    "duration": 1380,
    "start_time": "2023-03-16T12:11:09.011Z"
   },
   {
    "duration": 1804,
    "start_time": "2023-03-16T12:11:18.826Z"
   },
   {
    "duration": 1475,
    "start_time": "2023-03-16T12:11:25.210Z"
   },
   {
    "duration": 1198,
    "start_time": "2023-03-16T12:11:39.554Z"
   },
   {
    "duration": 1530,
    "start_time": "2023-03-16T12:11:45.538Z"
   },
   {
    "duration": 903,
    "start_time": "2023-03-16T12:16:21.487Z"
   },
   {
    "duration": 1212,
    "start_time": "2023-03-16T12:16:32.132Z"
   },
   {
    "duration": 1637,
    "start_time": "2023-03-16T12:25:13.924Z"
   },
   {
    "duration": 1152,
    "start_time": "2023-03-16T12:25:17.768Z"
   },
   {
    "duration": 1490,
    "start_time": "2023-03-16T12:25:30.895Z"
   },
   {
    "duration": 928,
    "start_time": "2023-03-16T12:25:39.690Z"
   },
   {
    "duration": 1226,
    "start_time": "2023-03-16T12:25:42.526Z"
   },
   {
    "duration": 1415,
    "start_time": "2023-03-16T12:25:55.516Z"
   },
   {
    "duration": 136,
    "start_time": "2023-03-16T12:26:25.499Z"
   },
   {
    "duration": 339,
    "start_time": "2023-03-16T12:28:09.015Z"
   },
   {
    "duration": 154,
    "start_time": "2023-03-16T12:30:05.952Z"
   },
   {
    "duration": 13,
    "start_time": "2023-03-16T12:30:41.855Z"
   },
   {
    "duration": 14,
    "start_time": "2023-03-16T12:30:48.950Z"
   },
   {
    "duration": 16,
    "start_time": "2023-03-16T12:31:08.654Z"
   },
   {
    "duration": 275,
    "start_time": "2023-03-16T12:31:57.184Z"
   },
   {
    "duration": 335,
    "start_time": "2023-03-16T12:32:08.053Z"
   },
   {
    "duration": 287,
    "start_time": "2023-03-16T12:33:03.716Z"
   },
   {
    "duration": 338,
    "start_time": "2023-03-16T12:36:29.209Z"
   },
   {
    "duration": 16,
    "start_time": "2023-03-16T13:33:34.323Z"
   },
   {
    "duration": 182,
    "start_time": "2023-03-16T13:33:49.388Z"
   },
   {
    "duration": 1301,
    "start_time": "2023-03-16T13:34:07.619Z"
   },
   {
    "duration": 160,
    "start_time": "2023-03-16T13:34:21.008Z"
   },
   {
    "duration": 143,
    "start_time": "2023-03-16T13:34:37.010Z"
   },
   {
    "duration": 281,
    "start_time": "2023-03-16T13:34:47.727Z"
   },
   {
    "duration": 314,
    "start_time": "2023-03-16T13:36:56.284Z"
   },
   {
    "duration": 303,
    "start_time": "2023-03-16T13:37:09.087Z"
   },
   {
    "duration": 309,
    "start_time": "2023-03-16T13:37:43.988Z"
   },
   {
    "duration": 322,
    "start_time": "2023-03-16T13:38:35.102Z"
   },
   {
    "duration": 300,
    "start_time": "2023-03-16T13:39:25.796Z"
   },
   {
    "duration": 5,
    "start_time": "2023-03-16T13:45:16.231Z"
   },
   {
    "duration": 33,
    "start_time": "2023-03-16T13:45:21.111Z"
   },
   {
    "duration": 7,
    "start_time": "2023-03-16T13:45:53.359Z"
   },
   {
    "duration": 8,
    "start_time": "2023-03-16T13:46:03.511Z"
   },
   {
    "duration": 8,
    "start_time": "2023-03-16T13:46:20.213Z"
   },
   {
    "duration": 16,
    "start_time": "2023-03-16T13:46:40.214Z"
   },
   {
    "duration": 7,
    "start_time": "2023-03-16T13:46:47.925Z"
   },
   {
    "duration": 9,
    "start_time": "2023-03-16T13:47:58.062Z"
   },
   {
    "duration": 334,
    "start_time": "2023-03-16T13:53:35.336Z"
   },
   {
    "duration": 319,
    "start_time": "2023-03-16T13:53:53.096Z"
   },
   {
    "duration": 9,
    "start_time": "2023-03-16T13:55:11.477Z"
   },
   {
    "duration": 12,
    "start_time": "2023-03-16T13:55:27.286Z"
   },
   {
    "duration": 326,
    "start_time": "2023-03-16T13:57:59.212Z"
   },
   {
    "duration": 9,
    "start_time": "2023-03-16T13:59:50.993Z"
   },
   {
    "duration": 320,
    "start_time": "2023-03-16T14:02:17.032Z"
   },
   {
    "duration": 8,
    "start_time": "2023-03-16T14:03:47.805Z"
   },
   {
    "duration": 10,
    "start_time": "2023-03-16T14:03:53.325Z"
   },
   {
    "duration": 305,
    "start_time": "2023-03-16T14:47:40.203Z"
   },
   {
    "duration": 185,
    "start_time": "2023-03-16T14:49:04.786Z"
   },
   {
    "duration": 190,
    "start_time": "2023-03-16T14:49:27.105Z"
   },
   {
    "duration": 19002,
    "start_time": "2023-03-16T14:49:48.869Z"
   },
   {
    "duration": 2177,
    "start_time": "2023-03-16T14:51:17.207Z"
   },
   {
    "duration": 221,
    "start_time": "2023-03-16T14:52:50.376Z"
   },
   {
    "duration": 251,
    "start_time": "2023-03-16T14:54:04.358Z"
   },
   {
    "duration": 19,
    "start_time": "2023-03-16T14:55:02.347Z"
   },
   {
    "duration": 240,
    "start_time": "2023-03-16T14:55:12.211Z"
   },
   {
    "duration": 212,
    "start_time": "2023-03-16T14:55:24.484Z"
   },
   {
    "duration": 6,
    "start_time": "2023-03-16T15:03:35.620Z"
   },
   {
    "duration": 9,
    "start_time": "2023-03-16T15:07:50.380Z"
   },
   {
    "duration": 12,
    "start_time": "2023-03-16T15:07:58.406Z"
   },
   {
    "duration": 11,
    "start_time": "2023-03-16T15:08:03.063Z"
   },
   {
    "duration": 12,
    "start_time": "2023-03-16T16:09:38.439Z"
   },
   {
    "duration": 13,
    "start_time": "2023-03-16T16:11:52.803Z"
   },
   {
    "duration": 16,
    "start_time": "2023-03-16T16:11:56.849Z"
   },
   {
    "duration": 14,
    "start_time": "2023-03-16T16:12:17.371Z"
   },
   {
    "duration": 2768,
    "start_time": "2023-03-16T16:17:20.286Z"
   },
   {
    "duration": 0,
    "start_time": "2023-03-16T16:17:23.056Z"
   },
   {
    "duration": 3222,
    "start_time": "2023-03-16T16:17:35.622Z"
   },
   {
    "duration": 15,
    "start_time": "2023-03-16T16:18:09.990Z"
   },
   {
    "duration": 17,
    "start_time": "2023-03-16T16:18:20.101Z"
   },
   {
    "duration": 13,
    "start_time": "2023-03-16T16:28:15.142Z"
   },
   {
    "duration": 14,
    "start_time": "2023-03-16T16:28:38.747Z"
   },
   {
    "duration": 14,
    "start_time": "2023-03-16T16:28:51.681Z"
   },
   {
    "duration": 14,
    "start_time": "2023-03-16T16:29:55.890Z"
   },
   {
    "duration": 15,
    "start_time": "2023-03-16T16:30:10.977Z"
   },
   {
    "duration": 141,
    "start_time": "2023-03-16T16:42:35.144Z"
   },
   {
    "duration": 134,
    "start_time": "2023-03-16T16:42:43.101Z"
   },
   {
    "duration": 123,
    "start_time": "2023-03-16T16:43:39.940Z"
   },
   {
    "duration": 127,
    "start_time": "2023-03-16T16:43:51.224Z"
   },
   {
    "duration": 123,
    "start_time": "2023-03-16T16:44:00.695Z"
   },
   {
    "duration": 131,
    "start_time": "2023-03-16T16:44:05.133Z"
   },
   {
    "duration": 119,
    "start_time": "2023-03-16T16:44:54.202Z"
   },
   {
    "duration": 125,
    "start_time": "2023-03-16T16:45:17.723Z"
   },
   {
    "duration": 141,
    "start_time": "2023-03-16T16:45:18.388Z"
   },
   {
    "duration": 92,
    "start_time": "2023-03-16T18:09:17.017Z"
   },
   {
    "duration": 72,
    "start_time": "2023-03-16T18:10:19.216Z"
   },
   {
    "duration": 93,
    "start_time": "2023-03-16T18:10:54.952Z"
   },
   {
    "duration": 11,
    "start_time": "2023-03-16T18:11:04.927Z"
   },
   {
    "duration": 10,
    "start_time": "2023-03-16T18:11:32.143Z"
   },
   {
    "duration": 7,
    "start_time": "2023-03-16T18:12:12.287Z"
   },
   {
    "duration": 7,
    "start_time": "2023-03-16T18:13:06.717Z"
   },
   {
    "duration": 8,
    "start_time": "2023-03-16T18:13:34.152Z"
   },
   {
    "duration": 7,
    "start_time": "2023-03-16T18:13:37.548Z"
   },
   {
    "duration": 10,
    "start_time": "2023-03-16T18:13:49.564Z"
   },
   {
    "duration": 9,
    "start_time": "2023-03-16T18:14:09.099Z"
   },
   {
    "duration": 6,
    "start_time": "2023-03-16T18:14:51.938Z"
   },
   {
    "duration": 6,
    "start_time": "2023-03-16T18:14:57.386Z"
   },
   {
    "duration": 17,
    "start_time": "2023-03-16T18:15:05.683Z"
   },
   {
    "duration": 11,
    "start_time": "2023-03-16T18:15:20.387Z"
   },
   {
    "duration": 7,
    "start_time": "2023-03-16T18:15:29.923Z"
   },
   {
    "duration": 9,
    "start_time": "2023-03-16T18:15:36.371Z"
   },
   {
    "duration": 9,
    "start_time": "2023-03-16T18:16:59.840Z"
   },
   {
    "duration": 9,
    "start_time": "2023-03-16T18:17:50.743Z"
   },
   {
    "duration": 9,
    "start_time": "2023-03-16T18:18:31.287Z"
   },
   {
    "duration": 11,
    "start_time": "2023-03-16T18:21:17.197Z"
   },
   {
    "duration": 16,
    "start_time": "2023-03-16T18:40:16.464Z"
   },
   {
    "duration": 19,
    "start_time": "2023-03-16T18:40:24.689Z"
   },
   {
    "duration": 16,
    "start_time": "2023-03-16T18:40:44.331Z"
   },
   {
    "duration": 1498,
    "start_time": "2023-03-16T18:52:05.942Z"
   },
   {
    "duration": 132,
    "start_time": "2023-03-16T18:52:07.442Z"
   },
   {
    "duration": 19,
    "start_time": "2023-03-16T18:52:07.576Z"
   },
   {
    "duration": 48,
    "start_time": "2023-03-16T18:52:07.598Z"
   },
   {
    "duration": 38,
    "start_time": "2023-03-16T18:52:07.648Z"
   },
   {
    "duration": 39,
    "start_time": "2023-03-16T18:52:07.688Z"
   },
   {
    "duration": 36,
    "start_time": "2023-03-16T18:52:07.729Z"
   },
   {
    "duration": 39,
    "start_time": "2023-03-16T18:52:07.768Z"
   },
   {
    "duration": 8,
    "start_time": "2023-03-16T18:52:07.810Z"
   },
   {
    "duration": 61,
    "start_time": "2023-03-16T18:52:07.822Z"
   },
   {
    "duration": 25,
    "start_time": "2023-03-16T18:52:07.886Z"
   },
   {
    "duration": 22,
    "start_time": "2023-03-16T18:52:07.913Z"
   },
   {
    "duration": 49,
    "start_time": "2023-03-16T18:52:07.937Z"
   },
   {
    "duration": 36,
    "start_time": "2023-03-16T18:52:07.989Z"
   },
   {
    "duration": 9,
    "start_time": "2023-03-16T18:52:08.028Z"
   },
   {
    "duration": 28,
    "start_time": "2023-03-16T18:52:08.039Z"
   },
   {
    "duration": 15,
    "start_time": "2023-03-16T18:52:08.070Z"
   },
   {
    "duration": 14,
    "start_time": "2023-03-16T18:52:08.088Z"
   },
   {
    "duration": 38,
    "start_time": "2023-03-16T18:52:08.104Z"
   },
   {
    "duration": 494,
    "start_time": "2023-03-16T18:52:08.144Z"
   },
   {
    "duration": 1548,
    "start_time": "2023-03-16T18:52:08.640Z"
   },
   {
    "duration": 178,
    "start_time": "2023-03-16T18:52:10.190Z"
   },
   {
    "duration": 0,
    "start_time": "2023-03-16T18:52:10.372Z"
   },
   {
    "duration": 0,
    "start_time": "2023-03-16T18:52:10.373Z"
   },
   {
    "duration": 0,
    "start_time": "2023-03-16T18:52:10.375Z"
   },
   {
    "duration": 0,
    "start_time": "2023-03-16T18:52:10.377Z"
   },
   {
    "duration": 0,
    "start_time": "2023-03-16T18:52:10.378Z"
   },
   {
    "duration": 0,
    "start_time": "2023-03-16T18:52:10.379Z"
   },
   {
    "duration": 0,
    "start_time": "2023-03-16T18:52:10.381Z"
   },
   {
    "duration": 0,
    "start_time": "2023-03-16T18:52:10.382Z"
   },
   {
    "duration": 0,
    "start_time": "2023-03-16T18:52:10.384Z"
   },
   {
    "duration": 1,
    "start_time": "2023-03-16T18:52:10.385Z"
   },
   {
    "duration": 0,
    "start_time": "2023-03-16T18:52:10.387Z"
   },
   {
    "duration": 0,
    "start_time": "2023-03-16T18:52:10.388Z"
   },
   {
    "duration": 0,
    "start_time": "2023-03-16T18:52:10.390Z"
   },
   {
    "duration": 0,
    "start_time": "2023-03-16T18:52:10.392Z"
   },
   {
    "duration": 0,
    "start_time": "2023-03-16T18:52:10.393Z"
   },
   {
    "duration": 0,
    "start_time": "2023-03-16T18:52:10.394Z"
   },
   {
    "duration": 0,
    "start_time": "2023-03-16T18:52:10.395Z"
   },
   {
    "duration": 0,
    "start_time": "2023-03-16T18:52:10.397Z"
   },
   {
    "duration": 0,
    "start_time": "2023-03-16T18:52:10.398Z"
   },
   {
    "duration": 139,
    "start_time": "2023-03-16T19:14:23.171Z"
   },
   {
    "duration": 22,
    "start_time": "2023-03-16T19:15:10.912Z"
   },
   {
    "duration": 22,
    "start_time": "2023-03-16T19:15:41.472Z"
   },
   {
    "duration": 8,
    "start_time": "2023-03-16T19:16:01.294Z"
   },
   {
    "duration": 7,
    "start_time": "2023-03-16T19:16:27.910Z"
   },
   {
    "duration": 8,
    "start_time": "2023-03-16T19:17:44.399Z"
   },
   {
    "duration": 60,
    "start_time": "2023-03-17T11:31:07.560Z"
   },
   {
    "duration": 1427,
    "start_time": "2023-03-17T11:31:12.292Z"
   },
   {
    "duration": 271,
    "start_time": "2023-03-17T11:31:13.722Z"
   },
   {
    "duration": 13,
    "start_time": "2023-03-17T11:31:13.995Z"
   },
   {
    "duration": 39,
    "start_time": "2023-03-17T11:31:14.010Z"
   },
   {
    "duration": 39,
    "start_time": "2023-03-17T11:31:14.052Z"
   },
   {
    "duration": 26,
    "start_time": "2023-03-17T11:31:14.093Z"
   },
   {
    "duration": 33,
    "start_time": "2023-03-17T11:31:14.121Z"
   },
   {
    "duration": 56,
    "start_time": "2023-03-17T11:31:14.155Z"
   },
   {
    "duration": 6,
    "start_time": "2023-03-17T11:31:14.214Z"
   },
   {
    "duration": 34,
    "start_time": "2023-03-17T11:31:14.223Z"
   },
   {
    "duration": 41,
    "start_time": "2023-03-17T11:31:14.259Z"
   },
   {
    "duration": 23,
    "start_time": "2023-03-17T11:31:14.302Z"
   },
   {
    "duration": 51,
    "start_time": "2023-03-17T11:31:14.328Z"
   },
   {
    "duration": 29,
    "start_time": "2023-03-17T11:31:14.388Z"
   },
   {
    "duration": 9,
    "start_time": "2023-03-17T11:31:14.421Z"
   },
   {
    "duration": 7,
    "start_time": "2023-03-17T11:31:14.432Z"
   },
   {
    "duration": 7,
    "start_time": "2023-03-17T11:31:14.440Z"
   },
   {
    "duration": 43,
    "start_time": "2023-03-17T11:31:14.449Z"
   },
   {
    "duration": 25,
    "start_time": "2023-03-17T11:31:14.495Z"
   },
   {
    "duration": 138,
    "start_time": "2023-03-17T11:31:14.522Z"
   },
   {
    "duration": 18,
    "start_time": "2023-03-17T11:31:14.662Z"
   },
   {
    "duration": 414,
    "start_time": "2023-03-17T11:31:14.682Z"
   },
   {
    "duration": 1934,
    "start_time": "2023-03-17T11:31:15.098Z"
   },
   {
    "duration": 107,
    "start_time": "2023-03-17T11:31:17.034Z"
   },
   {
    "duration": 0,
    "start_time": "2023-03-17T11:31:17.143Z"
   },
   {
    "duration": 0,
    "start_time": "2023-03-17T11:31:17.144Z"
   },
   {
    "duration": 0,
    "start_time": "2023-03-17T11:31:17.146Z"
   },
   {
    "duration": 0,
    "start_time": "2023-03-17T11:31:17.148Z"
   },
   {
    "duration": 0,
    "start_time": "2023-03-17T11:31:17.149Z"
   },
   {
    "duration": 0,
    "start_time": "2023-03-17T11:31:17.150Z"
   },
   {
    "duration": 0,
    "start_time": "2023-03-17T11:31:17.152Z"
   },
   {
    "duration": 0,
    "start_time": "2023-03-17T11:31:17.153Z"
   },
   {
    "duration": 0,
    "start_time": "2023-03-17T11:31:17.154Z"
   },
   {
    "duration": 0,
    "start_time": "2023-03-17T11:31:17.177Z"
   },
   {
    "duration": 0,
    "start_time": "2023-03-17T11:31:17.178Z"
   },
   {
    "duration": 0,
    "start_time": "2023-03-17T11:31:17.178Z"
   },
   {
    "duration": 0,
    "start_time": "2023-03-17T11:31:17.184Z"
   },
   {
    "duration": 0,
    "start_time": "2023-03-17T11:31:17.186Z"
   },
   {
    "duration": 0,
    "start_time": "2023-03-17T11:31:17.187Z"
   },
   {
    "duration": 0,
    "start_time": "2023-03-17T11:31:17.188Z"
   },
   {
    "duration": 0,
    "start_time": "2023-03-17T11:31:17.189Z"
   },
   {
    "duration": 1,
    "start_time": "2023-03-17T11:31:17.189Z"
   },
   {
    "duration": 0,
    "start_time": "2023-03-17T11:31:17.190Z"
   },
   {
    "duration": 1237,
    "start_time": "2023-03-17T11:43:27.199Z"
   },
   {
    "duration": 1211,
    "start_time": "2023-03-17T11:43:38.158Z"
   },
   {
    "duration": 105,
    "start_time": "2023-03-17T11:43:39.372Z"
   },
   {
    "duration": 12,
    "start_time": "2023-03-17T11:43:39.478Z"
   },
   {
    "duration": 32,
    "start_time": "2023-03-17T11:43:39.492Z"
   },
   {
    "duration": 27,
    "start_time": "2023-03-17T11:43:39.525Z"
   },
   {
    "duration": 23,
    "start_time": "2023-03-17T11:43:39.553Z"
   },
   {
    "duration": 23,
    "start_time": "2023-03-17T11:43:39.578Z"
   },
   {
    "duration": 23,
    "start_time": "2023-03-17T11:43:39.603Z"
   },
   {
    "duration": 5,
    "start_time": "2023-03-17T11:43:39.628Z"
   },
   {
    "duration": 50,
    "start_time": "2023-03-17T11:43:39.635Z"
   },
   {
    "duration": 25,
    "start_time": "2023-03-17T11:43:39.687Z"
   },
   {
    "duration": 17,
    "start_time": "2023-03-17T11:43:39.713Z"
   },
   {
    "duration": 44,
    "start_time": "2023-03-17T11:43:39.732Z"
   },
   {
    "duration": 17,
    "start_time": "2023-03-17T11:43:39.778Z"
   },
   {
    "duration": 7,
    "start_time": "2023-03-17T11:43:39.797Z"
   },
   {
    "duration": 6,
    "start_time": "2023-03-17T11:43:39.805Z"
   },
   {
    "duration": 18,
    "start_time": "2023-03-17T11:43:39.813Z"
   },
   {
    "duration": 14,
    "start_time": "2023-03-17T11:43:39.833Z"
   },
   {
    "duration": 45,
    "start_time": "2023-03-17T11:43:39.849Z"
   },
   {
    "duration": 116,
    "start_time": "2023-03-17T11:43:39.897Z"
   },
   {
    "duration": 8,
    "start_time": "2023-03-17T11:43:40.015Z"
   },
   {
    "duration": 395,
    "start_time": "2023-03-17T11:43:40.024Z"
   },
   {
    "duration": 1796,
    "start_time": "2023-03-17T11:43:40.422Z"
   },
   {
    "duration": 1219,
    "start_time": "2023-03-17T11:43:42.220Z"
   },
   {
    "duration": 388,
    "start_time": "2023-03-17T11:43:43.441Z"
   },
   {
    "duration": 329,
    "start_time": "2023-03-17T11:43:43.831Z"
   },
   {
    "duration": 20,
    "start_time": "2023-03-17T11:43:44.162Z"
   },
   {
    "duration": 326,
    "start_time": "2023-03-17T11:43:44.186Z"
   },
   {
    "duration": 10,
    "start_time": "2023-03-17T11:43:44.513Z"
   },
   {
    "duration": 308,
    "start_time": "2023-03-17T11:43:44.525Z"
   },
   {
    "duration": 11,
    "start_time": "2023-03-17T11:43:44.835Z"
   },
   {
    "duration": 228,
    "start_time": "2023-03-17T11:43:44.848Z"
   },
   {
    "duration": 13,
    "start_time": "2023-03-17T11:43:45.078Z"
   },
   {
    "duration": 26,
    "start_time": "2023-03-17T11:43:45.092Z"
   },
   {
    "duration": 21,
    "start_time": "2023-03-17T11:43:45.120Z"
   },
   {
    "duration": 21,
    "start_time": "2023-03-17T11:43:45.143Z"
   },
   {
    "duration": 24,
    "start_time": "2023-03-17T11:43:45.166Z"
   },
   {
    "duration": 22,
    "start_time": "2023-03-17T11:43:45.192Z"
   },
   {
    "duration": 141,
    "start_time": "2023-03-17T11:43:45.216Z"
   },
   {
    "duration": 134,
    "start_time": "2023-03-17T11:43:45.359Z"
   },
   {
    "duration": 126,
    "start_time": "2023-03-17T11:43:45.495Z"
   },
   {
    "duration": 7,
    "start_time": "2023-03-17T11:43:45.624Z"
   },
   {
    "duration": 28,
    "start_time": "2023-03-17T11:43:45.633Z"
   },
   {
    "duration": 63,
    "start_time": "2023-03-17T11:44:44.726Z"
   },
   {
    "duration": 16,
    "start_time": "2023-03-17T11:52:57.101Z"
   },
   {
    "duration": 1157,
    "start_time": "2023-03-17T11:54:30.542Z"
   },
   {
    "duration": 113,
    "start_time": "2023-03-17T11:54:31.701Z"
   },
   {
    "duration": 14,
    "start_time": "2023-03-17T11:54:31.815Z"
   },
   {
    "duration": 20,
    "start_time": "2023-03-17T11:54:31.831Z"
   },
   {
    "duration": 31,
    "start_time": "2023-03-17T11:54:31.853Z"
   },
   {
    "duration": 20,
    "start_time": "2023-03-17T11:54:31.885Z"
   },
   {
    "duration": 34,
    "start_time": "2023-03-17T11:54:31.907Z"
   },
   {
    "duration": 39,
    "start_time": "2023-03-17T11:54:31.943Z"
   },
   {
    "duration": 5,
    "start_time": "2023-03-17T11:54:31.984Z"
   },
   {
    "duration": 24,
    "start_time": "2023-03-17T11:54:31.992Z"
   },
   {
    "duration": 22,
    "start_time": "2023-03-17T11:54:32.018Z"
   },
   {
    "duration": 41,
    "start_time": "2023-03-17T11:54:32.042Z"
   },
   {
    "duration": 17,
    "start_time": "2023-03-17T11:54:32.085Z"
   },
   {
    "duration": 16,
    "start_time": "2023-03-17T11:54:32.103Z"
   },
   {
    "duration": 115,
    "start_time": "2023-03-17T11:54:32.120Z"
   },
   {
    "duration": 8,
    "start_time": "2023-03-17T11:54:32.236Z"
   },
   {
    "duration": 8,
    "start_time": "2023-03-17T11:54:32.245Z"
   },
   {
    "duration": 14,
    "start_time": "2023-03-17T11:54:32.254Z"
   },
   {
    "duration": 24,
    "start_time": "2023-03-17T11:54:32.270Z"
   },
   {
    "duration": 115,
    "start_time": "2023-03-17T11:54:32.296Z"
   },
   {
    "duration": 7,
    "start_time": "2023-03-17T11:54:32.414Z"
   },
   {
    "duration": 390,
    "start_time": "2023-03-17T11:54:32.423Z"
   },
   {
    "duration": 1790,
    "start_time": "2023-03-17T11:54:32.815Z"
   },
   {
    "duration": 1184,
    "start_time": "2023-03-17T11:54:34.607Z"
   },
   {
    "duration": 401,
    "start_time": "2023-03-17T11:54:35.793Z"
   },
   {
    "duration": 307,
    "start_time": "2023-03-17T11:54:36.197Z"
   },
   {
    "duration": 12,
    "start_time": "2023-03-17T11:54:36.506Z"
   },
   {
    "duration": 294,
    "start_time": "2023-03-17T11:54:36.522Z"
   },
   {
    "duration": 12,
    "start_time": "2023-03-17T11:54:36.818Z"
   },
   {
    "duration": 321,
    "start_time": "2023-03-17T11:54:36.831Z"
   },
   {
    "duration": 20,
    "start_time": "2023-03-17T11:54:37.154Z"
   },
   {
    "duration": 227,
    "start_time": "2023-03-17T11:54:37.177Z"
   },
   {
    "duration": 14,
    "start_time": "2023-03-17T11:54:37.406Z"
   },
   {
    "duration": 32,
    "start_time": "2023-03-17T11:54:37.422Z"
   },
   {
    "duration": 21,
    "start_time": "2023-03-17T11:54:37.455Z"
   },
   {
    "duration": 20,
    "start_time": "2023-03-17T11:54:37.478Z"
   },
   {
    "duration": 13,
    "start_time": "2023-03-17T11:54:37.500Z"
   },
   {
    "duration": 14,
    "start_time": "2023-03-17T11:54:37.515Z"
   },
   {
    "duration": 228,
    "start_time": "2023-03-17T11:54:37.530Z"
   },
   {
    "duration": 0,
    "start_time": "2023-03-17T11:54:37.760Z"
   },
   {
    "duration": 0,
    "start_time": "2023-03-17T11:54:37.761Z"
   },
   {
    "duration": 0,
    "start_time": "2023-03-17T11:54:37.762Z"
   },
   {
    "duration": 0,
    "start_time": "2023-03-17T11:54:37.763Z"
   },
   {
    "duration": 132,
    "start_time": "2023-03-17T11:56:24.974Z"
   },
   {
    "duration": 125,
    "start_time": "2023-03-17T11:56:48.458Z"
   },
   {
    "duration": 125,
    "start_time": "2023-03-17T11:57:05.234Z"
   },
   {
    "duration": 44,
    "start_time": "2023-03-17T11:57:27.929Z"
   },
   {
    "duration": 6,
    "start_time": "2023-03-17T11:57:31.024Z"
   },
   {
    "duration": 27,
    "start_time": "2023-03-17T11:57:36.160Z"
   },
   {
    "duration": 14,
    "start_time": "2023-03-17T11:58:01.152Z"
   },
   {
    "duration": 18,
    "start_time": "2023-03-17T11:59:05.839Z"
   },
   {
    "duration": 131,
    "start_time": "2023-03-17T11:59:12.998Z"
   },
   {
    "duration": 130,
    "start_time": "2023-03-17T11:59:33.560Z"
   },
   {
    "duration": 131,
    "start_time": "2023-03-17T12:00:52.647Z"
   },
   {
    "duration": 129,
    "start_time": "2023-03-17T12:00:59.437Z"
   },
   {
    "duration": 1199,
    "start_time": "2023-03-17T12:01:07.428Z"
   },
   {
    "duration": 109,
    "start_time": "2023-03-17T12:01:08.629Z"
   },
   {
    "duration": 12,
    "start_time": "2023-03-17T12:01:08.740Z"
   },
   {
    "duration": 37,
    "start_time": "2023-03-17T12:01:08.754Z"
   },
   {
    "duration": 16,
    "start_time": "2023-03-17T12:01:08.793Z"
   },
   {
    "duration": 17,
    "start_time": "2023-03-17T12:01:08.812Z"
   },
   {
    "duration": 44,
    "start_time": "2023-03-17T12:01:08.831Z"
   },
   {
    "duration": 27,
    "start_time": "2023-03-17T12:01:08.877Z"
   },
   {
    "duration": 5,
    "start_time": "2023-03-17T12:01:08.905Z"
   },
   {
    "duration": 25,
    "start_time": "2023-03-17T12:01:08.913Z"
   },
   {
    "duration": 51,
    "start_time": "2023-03-17T12:01:08.939Z"
   },
   {
    "duration": 18,
    "start_time": "2023-03-17T12:01:08.991Z"
   },
   {
    "duration": 27,
    "start_time": "2023-03-17T12:01:09.010Z"
   },
   {
    "duration": 14,
    "start_time": "2023-03-17T12:01:09.039Z"
   },
   {
    "duration": 22,
    "start_time": "2023-03-17T12:01:09.055Z"
   },
   {
    "duration": 8,
    "start_time": "2023-03-17T12:01:09.079Z"
   },
   {
    "duration": 8,
    "start_time": "2023-03-17T12:01:09.088Z"
   },
   {
    "duration": 11,
    "start_time": "2023-03-17T12:01:09.098Z"
   },
   {
    "duration": 21,
    "start_time": "2023-03-17T12:01:09.111Z"
   },
   {
    "duration": 168,
    "start_time": "2023-03-17T12:01:09.134Z"
   },
   {
    "duration": 7,
    "start_time": "2023-03-17T12:01:09.303Z"
   },
   {
    "duration": 382,
    "start_time": "2023-03-17T12:01:09.312Z"
   },
   {
    "duration": 1932,
    "start_time": "2023-03-17T12:01:09.696Z"
   },
   {
    "duration": 1360,
    "start_time": "2023-03-17T12:01:11.629Z"
   },
   {
    "duration": 407,
    "start_time": "2023-03-17T12:01:12.991Z"
   },
   {
    "duration": 307,
    "start_time": "2023-03-17T12:01:13.400Z"
   },
   {
    "duration": 12,
    "start_time": "2023-03-17T12:01:13.709Z"
   },
   {
    "duration": 331,
    "start_time": "2023-03-17T12:01:13.726Z"
   },
   {
    "duration": 20,
    "start_time": "2023-03-17T12:01:14.060Z"
   },
   {
    "duration": 374,
    "start_time": "2023-03-17T12:01:14.083Z"
   },
   {
    "duration": 21,
    "start_time": "2023-03-17T12:01:14.459Z"
   },
   {
    "duration": 215,
    "start_time": "2023-03-17T12:01:14.482Z"
   },
   {
    "duration": 13,
    "start_time": "2023-03-17T12:01:14.699Z"
   },
   {
    "duration": 13,
    "start_time": "2023-03-17T12:01:14.714Z"
   },
   {
    "duration": 13,
    "start_time": "2023-03-17T12:01:14.729Z"
   },
   {
    "duration": 46,
    "start_time": "2023-03-17T12:01:14.744Z"
   },
   {
    "duration": 12,
    "start_time": "2023-03-17T12:01:14.792Z"
   },
   {
    "duration": 12,
    "start_time": "2023-03-17T12:01:14.805Z"
   },
   {
    "duration": 244,
    "start_time": "2023-03-17T12:01:14.819Z"
   },
   {
    "duration": 0,
    "start_time": "2023-03-17T12:01:15.076Z"
   },
   {
    "duration": 0,
    "start_time": "2023-03-17T12:01:15.077Z"
   },
   {
    "duration": 0,
    "start_time": "2023-03-17T12:01:15.079Z"
   },
   {
    "duration": 0,
    "start_time": "2023-03-17T12:01:15.082Z"
   },
   {
    "duration": 131,
    "start_time": "2023-03-17T12:04:10.403Z"
   },
   {
    "duration": 53,
    "start_time": "2023-03-17T12:04:13.403Z"
   },
   {
    "duration": 16,
    "start_time": "2023-03-17T12:04:16.394Z"
   },
   {
    "duration": 16007,
    "start_time": "2023-03-17T12:05:21.555Z"
   },
   {
    "duration": 174,
    "start_time": "2023-03-17T12:05:51.128Z"
   },
   {
    "duration": 14,
    "start_time": "2023-03-17T12:06:41.193Z"
   },
   {
    "duration": 124,
    "start_time": "2023-03-17T12:06:46.592Z"
   },
   {
    "duration": 109,
    "start_time": "2023-03-17T12:07:35.999Z"
   },
   {
    "duration": 121,
    "start_time": "2023-03-17T12:07:59.392Z"
   },
   {
    "duration": 125,
    "start_time": "2023-03-17T12:08:17.423Z"
   },
   {
    "duration": 135,
    "start_time": "2023-03-17T12:09:02.521Z"
   },
   {
    "duration": 1186,
    "start_time": "2023-03-17T12:11:07.413Z"
   },
   {
    "duration": 109,
    "start_time": "2023-03-17T12:11:08.601Z"
   },
   {
    "duration": 12,
    "start_time": "2023-03-17T12:11:08.712Z"
   },
   {
    "duration": 19,
    "start_time": "2023-03-17T12:11:08.726Z"
   },
   {
    "duration": 48,
    "start_time": "2023-03-17T12:11:08.746Z"
   },
   {
    "duration": 21,
    "start_time": "2023-03-17T12:11:08.797Z"
   },
   {
    "duration": 23,
    "start_time": "2023-03-17T12:11:08.820Z"
   },
   {
    "duration": 52,
    "start_time": "2023-03-17T12:11:08.845Z"
   },
   {
    "duration": 5,
    "start_time": "2023-03-17T12:11:08.899Z"
   },
   {
    "duration": 22,
    "start_time": "2023-03-17T12:11:08.907Z"
   },
   {
    "duration": 19,
    "start_time": "2023-03-17T12:11:08.932Z"
   },
   {
    "duration": 44,
    "start_time": "2023-03-17T12:11:08.952Z"
   },
   {
    "duration": 20,
    "start_time": "2023-03-17T12:11:08.999Z"
   },
   {
    "duration": 16,
    "start_time": "2023-03-17T12:11:09.021Z"
   },
   {
    "duration": 36,
    "start_time": "2023-03-17T12:11:09.040Z"
   },
   {
    "duration": 10,
    "start_time": "2023-03-17T12:11:09.082Z"
   },
   {
    "duration": 9,
    "start_time": "2023-03-17T12:11:09.094Z"
   },
   {
    "duration": 12,
    "start_time": "2023-03-17T12:11:09.105Z"
   },
   {
    "duration": 18,
    "start_time": "2023-03-17T12:11:09.119Z"
   },
   {
    "duration": 157,
    "start_time": "2023-03-17T12:11:09.138Z"
   },
   {
    "duration": 7,
    "start_time": "2023-03-17T12:11:09.298Z"
   },
   {
    "duration": 395,
    "start_time": "2023-03-17T12:11:09.307Z"
   },
   {
    "duration": 2017,
    "start_time": "2023-03-17T12:11:09.704Z"
   },
   {
    "duration": 1364,
    "start_time": "2023-03-17T12:11:11.723Z"
   },
   {
    "duration": 412,
    "start_time": "2023-03-17T12:11:13.089Z"
   },
   {
    "duration": 306,
    "start_time": "2023-03-17T12:11:13.506Z"
   },
   {
    "duration": 10,
    "start_time": "2023-03-17T12:11:13.814Z"
   },
   {
    "duration": 377,
    "start_time": "2023-03-17T12:11:13.828Z"
   },
   {
    "duration": 17,
    "start_time": "2023-03-17T12:11:14.207Z"
   },
   {
    "duration": 399,
    "start_time": "2023-03-17T12:11:14.226Z"
   },
   {
    "duration": 10,
    "start_time": "2023-03-17T12:11:14.627Z"
   },
   {
    "duration": 241,
    "start_time": "2023-03-17T12:11:14.639Z"
   },
   {
    "duration": 17,
    "start_time": "2023-03-17T12:11:14.882Z"
   },
   {
    "duration": 14,
    "start_time": "2023-03-17T12:11:14.901Z"
   },
   {
    "duration": 16,
    "start_time": "2023-03-17T12:11:14.918Z"
   },
   {
    "duration": 46,
    "start_time": "2023-03-17T12:11:14.936Z"
   },
   {
    "duration": 18,
    "start_time": "2023-03-17T12:11:14.984Z"
   },
   {
    "duration": 50,
    "start_time": "2023-03-17T12:11:15.004Z"
   },
   {
    "duration": 141,
    "start_time": "2023-03-17T12:11:15.056Z"
   },
   {
    "duration": 161,
    "start_time": "2023-03-17T12:11:15.199Z"
   },
   {
    "duration": 138,
    "start_time": "2023-03-17T12:11:15.362Z"
   },
   {
    "duration": 8,
    "start_time": "2023-03-17T12:11:15.502Z"
   },
   {
    "duration": 11,
    "start_time": "2023-03-17T12:11:15.512Z"
   },
   {
    "duration": 252,
    "start_time": "2023-03-17T12:25:40.993Z"
   },
   {
    "duration": 367,
    "start_time": "2023-03-17T12:25:49.943Z"
   },
   {
    "duration": 318,
    "start_time": "2023-03-17T12:33:25.446Z"
   },
   {
    "duration": 12,
    "start_time": "2023-03-17T12:34:01.966Z"
   },
   {
    "duration": 14,
    "start_time": "2023-03-17T12:34:07.545Z"
   },
   {
    "duration": 305,
    "start_time": "2023-03-17T12:36:42.555Z"
   },
   {
    "duration": 11,
    "start_time": "2023-03-17T12:37:21.138Z"
   },
   {
    "duration": 10,
    "start_time": "2023-03-17T12:38:52.289Z"
   },
   {
    "duration": 1211,
    "start_time": "2023-03-17T12:53:26.092Z"
   },
   {
    "duration": 111,
    "start_time": "2023-03-17T12:53:27.305Z"
   },
   {
    "duration": 12,
    "start_time": "2023-03-17T12:53:27.418Z"
   },
   {
    "duration": 33,
    "start_time": "2023-03-17T12:53:27.431Z"
   },
   {
    "duration": 22,
    "start_time": "2023-03-17T12:53:27.465Z"
   },
   {
    "duration": 20,
    "start_time": "2023-03-17T12:53:27.492Z"
   },
   {
    "duration": 26,
    "start_time": "2023-03-17T12:53:27.514Z"
   },
   {
    "duration": 51,
    "start_time": "2023-03-17T12:53:27.542Z"
   },
   {
    "duration": 5,
    "start_time": "2023-03-17T12:53:27.595Z"
   },
   {
    "duration": 26,
    "start_time": "2023-03-17T12:53:27.603Z"
   },
   {
    "duration": 21,
    "start_time": "2023-03-17T12:53:27.631Z"
   },
   {
    "duration": 48,
    "start_time": "2023-03-17T12:53:27.654Z"
   },
   {
    "duration": 19,
    "start_time": "2023-03-17T12:53:27.704Z"
   },
   {
    "duration": 16,
    "start_time": "2023-03-17T12:53:27.725Z"
   },
   {
    "duration": 7,
    "start_time": "2023-03-17T12:53:27.742Z"
   },
   {
    "duration": 50,
    "start_time": "2023-03-17T12:53:27.751Z"
   },
   {
    "duration": 6,
    "start_time": "2023-03-17T12:53:27.803Z"
   },
   {
    "duration": 16,
    "start_time": "2023-03-17T12:53:27.811Z"
   },
   {
    "duration": 22,
    "start_time": "2023-03-17T12:53:27.829Z"
   },
   {
    "duration": 138,
    "start_time": "2023-03-17T12:53:27.853Z"
   },
   {
    "duration": 6,
    "start_time": "2023-03-17T12:53:27.993Z"
   },
   {
    "duration": 404,
    "start_time": "2023-03-17T12:53:28.001Z"
   },
   {
    "duration": 1893,
    "start_time": "2023-03-17T12:53:28.408Z"
   },
   {
    "duration": 1384,
    "start_time": "2023-03-17T12:53:30.303Z"
   },
   {
    "duration": 425,
    "start_time": "2023-03-17T12:53:31.691Z"
   },
   {
    "duration": 354,
    "start_time": "2023-03-17T12:53:32.118Z"
   },
   {
    "duration": 21,
    "start_time": "2023-03-17T12:53:32.475Z"
   },
   {
    "duration": 331,
    "start_time": "2023-03-17T12:53:32.499Z"
   },
   {
    "duration": 10,
    "start_time": "2023-03-17T12:53:32.832Z"
   },
   {
    "duration": 324,
    "start_time": "2023-03-17T12:53:32.843Z"
   },
   {
    "duration": 16,
    "start_time": "2023-03-17T12:53:33.175Z"
   },
   {
    "duration": 223,
    "start_time": "2023-03-17T12:53:33.193Z"
   },
   {
    "duration": 13,
    "start_time": "2023-03-17T12:53:33.417Z"
   },
   {
    "duration": 18,
    "start_time": "2023-03-17T12:53:33.432Z"
   },
   {
    "duration": 36,
    "start_time": "2023-03-17T12:53:33.452Z"
   },
   {
    "duration": 13,
    "start_time": "2023-03-17T12:53:33.491Z"
   },
   {
    "duration": 18,
    "start_time": "2023-03-17T12:53:33.506Z"
   },
   {
    "duration": 15,
    "start_time": "2023-03-17T12:53:33.526Z"
   },
   {
    "duration": 140,
    "start_time": "2023-03-17T12:53:33.543Z"
   },
   {
    "duration": 138,
    "start_time": "2023-03-17T12:53:33.689Z"
   },
   {
    "duration": 131,
    "start_time": "2023-03-17T12:53:33.828Z"
   },
   {
    "duration": 20,
    "start_time": "2023-03-17T12:53:33.961Z"
   },
   {
    "duration": 29,
    "start_time": "2023-03-17T12:53:33.983Z"
   },
   {
    "duration": 1044,
    "start_time": "2023-03-18T00:46:52.236Z"
   },
   {
    "duration": 88,
    "start_time": "2023-03-18T00:46:53.282Z"
   },
   {
    "duration": 9,
    "start_time": "2023-03-18T00:46:53.372Z"
   },
   {
    "duration": 14,
    "start_time": "2023-03-18T00:46:53.382Z"
   },
   {
    "duration": 28,
    "start_time": "2023-03-18T00:46:53.398Z"
   },
   {
    "duration": 14,
    "start_time": "2023-03-18T00:46:53.427Z"
   },
   {
    "duration": 28,
    "start_time": "2023-03-18T00:46:53.443Z"
   },
   {
    "duration": 18,
    "start_time": "2023-03-18T00:46:53.472Z"
   },
   {
    "duration": 4,
    "start_time": "2023-03-18T00:46:53.491Z"
   },
   {
    "duration": 36,
    "start_time": "2023-03-18T00:46:53.496Z"
   },
   {
    "duration": 21,
    "start_time": "2023-03-18T00:46:53.534Z"
   },
   {
    "duration": 15,
    "start_time": "2023-03-18T00:46:53.556Z"
   },
   {
    "duration": 15,
    "start_time": "2023-03-18T00:46:53.572Z"
   },
   {
    "duration": 13,
    "start_time": "2023-03-18T00:46:53.590Z"
   },
   {
    "duration": 7,
    "start_time": "2023-03-18T00:46:53.624Z"
   },
   {
    "duration": 16,
    "start_time": "2023-03-18T00:46:53.633Z"
   },
   {
    "duration": 8,
    "start_time": "2023-03-18T00:46:53.650Z"
   },
   {
    "duration": 15,
    "start_time": "2023-03-18T00:46:53.659Z"
   },
   {
    "duration": 15,
    "start_time": "2023-03-18T00:46:53.675Z"
   },
   {
    "duration": 92,
    "start_time": "2023-03-18T00:46:53.691Z"
   },
   {
    "duration": 5,
    "start_time": "2023-03-18T00:46:53.785Z"
   },
   {
    "duration": 317,
    "start_time": "2023-03-18T00:46:53.791Z"
   },
   {
    "duration": 1464,
    "start_time": "2023-03-18T00:46:54.109Z"
   },
   {
    "duration": 999,
    "start_time": "2023-03-18T00:46:55.575Z"
   },
   {
    "duration": 319,
    "start_time": "2023-03-18T00:46:56.575Z"
   },
   {
    "duration": 253,
    "start_time": "2023-03-18T00:46:56.896Z"
   },
   {
    "duration": 10,
    "start_time": "2023-03-18T00:46:57.150Z"
   },
   {
    "duration": 236,
    "start_time": "2023-03-18T00:46:57.161Z"
   },
   {
    "duration": 9,
    "start_time": "2023-03-18T00:46:57.398Z"
   },
   {
    "duration": 271,
    "start_time": "2023-03-18T00:46:57.408Z"
   },
   {
    "duration": 7,
    "start_time": "2023-03-18T00:46:57.681Z"
   },
   {
    "duration": 174,
    "start_time": "2023-03-18T00:46:57.689Z"
   },
   {
    "duration": 12,
    "start_time": "2023-03-18T00:46:57.864Z"
   },
   {
    "duration": 28,
    "start_time": "2023-03-18T00:46:57.877Z"
   },
   {
    "duration": 28,
    "start_time": "2023-03-18T00:46:57.906Z"
   },
   {
    "duration": 17,
    "start_time": "2023-03-18T00:46:57.935Z"
   },
   {
    "duration": 12,
    "start_time": "2023-03-18T00:46:57.953Z"
   },
   {
    "duration": 10,
    "start_time": "2023-03-18T00:46:57.967Z"
   },
   {
    "duration": 99,
    "start_time": "2023-03-18T00:46:57.979Z"
   },
   {
    "duration": 109,
    "start_time": "2023-03-18T00:46:58.079Z"
   },
   {
    "duration": 105,
    "start_time": "2023-03-18T00:46:58.192Z"
   },
   {
    "duration": 6,
    "start_time": "2023-03-18T00:46:58.298Z"
   },
   {
    "duration": 23,
    "start_time": "2023-03-18T00:46:58.306Z"
   },
   {
    "duration": 5,
    "start_time": "2023-03-18T01:23:02.557Z"
   },
   {
    "duration": 5,
    "start_time": "2023-03-18T01:23:23.758Z"
   },
   {
    "duration": 28,
    "start_time": "2023-03-18T01:37:26.728Z"
   },
   {
    "duration": 9,
    "start_time": "2023-03-18T01:44:14.827Z"
   },
   {
    "duration": 6,
    "start_time": "2023-03-18T01:44:49.548Z"
   },
   {
    "duration": 48,
    "start_time": "2023-03-18T08:02:20.679Z"
   },
   {
    "duration": 1282,
    "start_time": "2023-03-18T08:02:28.489Z"
   },
   {
    "duration": 240,
    "start_time": "2023-03-18T08:02:29.773Z"
   },
   {
    "duration": 13,
    "start_time": "2023-03-18T08:02:30.014Z"
   },
   {
    "duration": 35,
    "start_time": "2023-03-18T08:02:30.029Z"
   },
   {
    "duration": 18,
    "start_time": "2023-03-18T08:02:30.066Z"
   },
   {
    "duration": 19,
    "start_time": "2023-03-18T08:02:30.086Z"
   },
   {
    "duration": 37,
    "start_time": "2023-03-18T08:02:30.107Z"
   },
   {
    "duration": 36,
    "start_time": "2023-03-18T08:02:30.146Z"
   },
   {
    "duration": 40,
    "start_time": "2023-03-18T08:02:30.184Z"
   },
   {
    "duration": 83,
    "start_time": "2023-03-18T08:02:30.227Z"
   },
   {
    "duration": 119,
    "start_time": "2023-03-18T08:02:30.312Z"
   },
   {
    "duration": 0,
    "start_time": "2023-03-18T08:02:30.434Z"
   },
   {
    "duration": 0,
    "start_time": "2023-03-18T08:02:30.435Z"
   },
   {
    "duration": 0,
    "start_time": "2023-03-18T08:02:30.436Z"
   },
   {
    "duration": 1,
    "start_time": "2023-03-18T08:02:30.437Z"
   },
   {
    "duration": 0,
    "start_time": "2023-03-18T08:02:30.438Z"
   },
   {
    "duration": 0,
    "start_time": "2023-03-18T08:02:30.439Z"
   },
   {
    "duration": 0,
    "start_time": "2023-03-18T08:02:30.440Z"
   },
   {
    "duration": 0,
    "start_time": "2023-03-18T08:02:30.441Z"
   },
   {
    "duration": 0,
    "start_time": "2023-03-18T08:02:30.443Z"
   },
   {
    "duration": 0,
    "start_time": "2023-03-18T08:02:30.444Z"
   },
   {
    "duration": 0,
    "start_time": "2023-03-18T08:02:30.462Z"
   },
   {
    "duration": 0,
    "start_time": "2023-03-18T08:02:30.463Z"
   },
   {
    "duration": 0,
    "start_time": "2023-03-18T08:02:30.465Z"
   },
   {
    "duration": 0,
    "start_time": "2023-03-18T08:02:30.466Z"
   },
   {
    "duration": 0,
    "start_time": "2023-03-18T08:02:30.467Z"
   },
   {
    "duration": 0,
    "start_time": "2023-03-18T08:02:30.468Z"
   },
   {
    "duration": 0,
    "start_time": "2023-03-18T08:02:30.469Z"
   },
   {
    "duration": 0,
    "start_time": "2023-03-18T08:02:30.470Z"
   },
   {
    "duration": 0,
    "start_time": "2023-03-18T08:02:30.471Z"
   },
   {
    "duration": 0,
    "start_time": "2023-03-18T08:02:30.472Z"
   },
   {
    "duration": 0,
    "start_time": "2023-03-18T08:02:30.473Z"
   },
   {
    "duration": 0,
    "start_time": "2023-03-18T08:02:30.475Z"
   },
   {
    "duration": 0,
    "start_time": "2023-03-18T08:02:30.476Z"
   },
   {
    "duration": 0,
    "start_time": "2023-03-18T08:02:30.477Z"
   },
   {
    "duration": 0,
    "start_time": "2023-03-18T08:02:30.478Z"
   },
   {
    "duration": 0,
    "start_time": "2023-03-18T08:02:30.479Z"
   },
   {
    "duration": 0,
    "start_time": "2023-03-18T08:02:30.480Z"
   },
   {
    "duration": 0,
    "start_time": "2023-03-18T08:02:30.481Z"
   },
   {
    "duration": 0,
    "start_time": "2023-03-18T08:02:30.481Z"
   },
   {
    "duration": 0,
    "start_time": "2023-03-18T08:02:30.483Z"
   },
   {
    "duration": 0,
    "start_time": "2023-03-18T08:02:30.483Z"
   },
   {
    "duration": 0,
    "start_time": "2023-03-18T08:02:30.484Z"
   },
   {
    "duration": 0,
    "start_time": "2023-03-18T08:02:30.485Z"
   },
   {
    "duration": 0,
    "start_time": "2023-03-18T08:02:30.486Z"
   },
   {
    "duration": 1074,
    "start_time": "2023-03-18T08:02:48.499Z"
   },
   {
    "duration": 100,
    "start_time": "2023-03-18T08:02:49.576Z"
   },
   {
    "duration": 12,
    "start_time": "2023-03-18T08:02:49.677Z"
   },
   {
    "duration": 16,
    "start_time": "2023-03-18T08:02:49.691Z"
   },
   {
    "duration": 17,
    "start_time": "2023-03-18T08:02:49.709Z"
   },
   {
    "duration": 47,
    "start_time": "2023-03-18T08:02:49.727Z"
   },
   {
    "duration": 22,
    "start_time": "2023-03-18T08:02:49.776Z"
   },
   {
    "duration": 22,
    "start_time": "2023-03-18T08:02:49.800Z"
   },
   {
    "duration": 5,
    "start_time": "2023-03-18T08:02:49.824Z"
   },
   {
    "duration": 55,
    "start_time": "2023-03-18T08:02:49.831Z"
   },
   {
    "duration": 152,
    "start_time": "2023-03-18T08:02:49.888Z"
   },
   {
    "duration": 0,
    "start_time": "2023-03-18T08:02:50.043Z"
   },
   {
    "duration": 0,
    "start_time": "2023-03-18T08:02:50.044Z"
   },
   {
    "duration": 0,
    "start_time": "2023-03-18T08:02:50.046Z"
   },
   {
    "duration": 0,
    "start_time": "2023-03-18T08:02:50.046Z"
   },
   {
    "duration": 0,
    "start_time": "2023-03-18T08:02:50.047Z"
   },
   {
    "duration": 0,
    "start_time": "2023-03-18T08:02:50.062Z"
   },
   {
    "duration": 0,
    "start_time": "2023-03-18T08:02:50.063Z"
   },
   {
    "duration": 0,
    "start_time": "2023-03-18T08:02:50.064Z"
   },
   {
    "duration": 0,
    "start_time": "2023-03-18T08:02:50.065Z"
   },
   {
    "duration": 0,
    "start_time": "2023-03-18T08:02:50.066Z"
   },
   {
    "duration": 0,
    "start_time": "2023-03-18T08:02:50.067Z"
   },
   {
    "duration": 0,
    "start_time": "2023-03-18T08:02:50.068Z"
   },
   {
    "duration": 0,
    "start_time": "2023-03-18T08:02:50.069Z"
   },
   {
    "duration": 0,
    "start_time": "2023-03-18T08:02:50.071Z"
   },
   {
    "duration": 0,
    "start_time": "2023-03-18T08:02:50.071Z"
   },
   {
    "duration": 0,
    "start_time": "2023-03-18T08:02:50.072Z"
   },
   {
    "duration": 0,
    "start_time": "2023-03-18T08:02:50.074Z"
   },
   {
    "duration": 0,
    "start_time": "2023-03-18T08:02:50.075Z"
   },
   {
    "duration": 0,
    "start_time": "2023-03-18T08:02:50.076Z"
   },
   {
    "duration": 0,
    "start_time": "2023-03-18T08:02:50.077Z"
   },
   {
    "duration": 0,
    "start_time": "2023-03-18T08:02:50.078Z"
   },
   {
    "duration": 0,
    "start_time": "2023-03-18T08:02:50.079Z"
   },
   {
    "duration": 0,
    "start_time": "2023-03-18T08:02:50.080Z"
   },
   {
    "duration": 0,
    "start_time": "2023-03-18T08:02:50.081Z"
   },
   {
    "duration": 0,
    "start_time": "2023-03-18T08:02:50.083Z"
   },
   {
    "duration": 0,
    "start_time": "2023-03-18T08:02:50.084Z"
   },
   {
    "duration": 0,
    "start_time": "2023-03-18T08:02:50.085Z"
   },
   {
    "duration": 0,
    "start_time": "2023-03-18T08:02:50.086Z"
   },
   {
    "duration": 0,
    "start_time": "2023-03-18T08:02:50.086Z"
   },
   {
    "duration": 0,
    "start_time": "2023-03-18T08:02:50.087Z"
   },
   {
    "duration": 0,
    "start_time": "2023-03-18T08:02:50.089Z"
   },
   {
    "duration": 0,
    "start_time": "2023-03-18T08:02:50.090Z"
   },
   {
    "duration": 0,
    "start_time": "2023-03-18T08:02:50.091Z"
   },
   {
    "duration": 0,
    "start_time": "2023-03-18T08:02:50.092Z"
   },
   {
    "duration": 1169,
    "start_time": "2023-03-18T08:03:36.211Z"
   },
   {
    "duration": 106,
    "start_time": "2023-03-18T08:03:37.382Z"
   },
   {
    "duration": 12,
    "start_time": "2023-03-18T08:03:37.490Z"
   },
   {
    "duration": 19,
    "start_time": "2023-03-18T08:03:37.504Z"
   },
   {
    "duration": 39,
    "start_time": "2023-03-18T08:03:37.524Z"
   },
   {
    "duration": 20,
    "start_time": "2023-03-18T08:03:37.565Z"
   },
   {
    "duration": 26,
    "start_time": "2023-03-18T08:03:37.587Z"
   },
   {
    "duration": 52,
    "start_time": "2023-03-18T08:03:37.614Z"
   },
   {
    "duration": 5,
    "start_time": "2023-03-18T08:03:37.668Z"
   },
   {
    "duration": 26,
    "start_time": "2023-03-18T08:03:37.676Z"
   },
   {
    "duration": 7,
    "start_time": "2023-03-18T08:03:37.705Z"
   },
   {
    "duration": 18,
    "start_time": "2023-03-18T08:03:37.714Z"
   },
   {
    "duration": 42,
    "start_time": "2023-03-18T08:03:37.734Z"
   },
   {
    "duration": 18,
    "start_time": "2023-03-18T08:03:37.778Z"
   },
   {
    "duration": 19,
    "start_time": "2023-03-18T08:03:37.798Z"
   },
   {
    "duration": 53,
    "start_time": "2023-03-18T08:03:37.819Z"
   },
   {
    "duration": 6,
    "start_time": "2023-03-18T08:03:37.873Z"
   },
   {
    "duration": 15,
    "start_time": "2023-03-18T08:03:37.880Z"
   },
   {
    "duration": 7,
    "start_time": "2023-03-18T08:03:37.896Z"
   },
   {
    "duration": 6,
    "start_time": "2023-03-18T08:03:37.905Z"
   },
   {
    "duration": 163,
    "start_time": "2023-03-18T08:03:37.913Z"
   },
   {
    "duration": 36,
    "start_time": "2023-03-18T08:03:38.077Z"
   },
   {
    "duration": 6,
    "start_time": "2023-03-18T08:03:38.115Z"
   },
   {
    "duration": 400,
    "start_time": "2023-03-18T08:03:38.123Z"
   },
   {
    "duration": 1856,
    "start_time": "2023-03-18T08:03:38.525Z"
   },
   {
    "duration": 1295,
    "start_time": "2023-03-18T08:03:40.382Z"
   },
   {
    "duration": 249,
    "start_time": "2023-03-18T08:03:41.678Z"
   },
   {
    "duration": 0,
    "start_time": "2023-03-18T08:03:41.930Z"
   },
   {
    "duration": 0,
    "start_time": "2023-03-18T08:03:41.931Z"
   },
   {
    "duration": 0,
    "start_time": "2023-03-18T08:03:41.932Z"
   },
   {
    "duration": 0,
    "start_time": "2023-03-18T08:03:41.933Z"
   },
   {
    "duration": 0,
    "start_time": "2023-03-18T08:03:41.934Z"
   },
   {
    "duration": 0,
    "start_time": "2023-03-18T08:03:41.935Z"
   },
   {
    "duration": 0,
    "start_time": "2023-03-18T08:03:41.936Z"
   },
   {
    "duration": 0,
    "start_time": "2023-03-18T08:03:41.938Z"
   },
   {
    "duration": 0,
    "start_time": "2023-03-18T08:03:41.939Z"
   },
   {
    "duration": 0,
    "start_time": "2023-03-18T08:03:41.940Z"
   },
   {
    "duration": 0,
    "start_time": "2023-03-18T08:03:41.961Z"
   },
   {
    "duration": 0,
    "start_time": "2023-03-18T08:03:41.963Z"
   },
   {
    "duration": 0,
    "start_time": "2023-03-18T08:03:41.965Z"
   },
   {
    "duration": 0,
    "start_time": "2023-03-18T08:03:41.966Z"
   },
   {
    "duration": 0,
    "start_time": "2023-03-18T08:03:41.968Z"
   },
   {
    "duration": 0,
    "start_time": "2023-03-18T08:03:41.969Z"
   },
   {
    "duration": 0,
    "start_time": "2023-03-18T08:03:41.970Z"
   },
   {
    "duration": 0,
    "start_time": "2023-03-18T08:03:41.972Z"
   },
   {
    "duration": 366,
    "start_time": "2023-03-18T08:05:22.332Z"
   },
   {
    "duration": 297,
    "start_time": "2023-03-18T08:05:28.947Z"
   },
   {
    "duration": 315,
    "start_time": "2023-03-18T08:05:38.138Z"
   },
   {
    "duration": 341,
    "start_time": "2023-03-18T08:06:31.401Z"
   },
   {
    "duration": 370,
    "start_time": "2023-03-18T08:06:33.633Z"
   },
   {
    "duration": 1237,
    "start_time": "2023-03-18T08:15:41.460Z"
   },
   {
    "duration": 108,
    "start_time": "2023-03-18T08:15:42.700Z"
   },
   {
    "duration": 12,
    "start_time": "2023-03-18T08:15:42.810Z"
   },
   {
    "duration": 17,
    "start_time": "2023-03-18T08:15:42.824Z"
   },
   {
    "duration": 38,
    "start_time": "2023-03-18T08:15:42.843Z"
   },
   {
    "duration": 19,
    "start_time": "2023-03-18T08:15:42.882Z"
   },
   {
    "duration": 22,
    "start_time": "2023-03-18T08:15:42.903Z"
   },
   {
    "duration": 53,
    "start_time": "2023-03-18T08:15:42.927Z"
   },
   {
    "duration": 5,
    "start_time": "2023-03-18T08:15:42.982Z"
   },
   {
    "duration": 28,
    "start_time": "2023-03-18T08:15:42.990Z"
   },
   {
    "duration": 6,
    "start_time": "2023-03-18T08:15:43.019Z"
   },
   {
    "duration": 10,
    "start_time": "2023-03-18T08:15:43.026Z"
   },
   {
    "duration": 44,
    "start_time": "2023-03-18T08:15:43.037Z"
   },
   {
    "duration": 17,
    "start_time": "2023-03-18T08:15:43.083Z"
   },
   {
    "duration": 16,
    "start_time": "2023-03-18T08:15:43.101Z"
   },
   {
    "duration": 17,
    "start_time": "2023-03-18T08:15:43.118Z"
   },
   {
    "duration": 8,
    "start_time": "2023-03-18T08:15:43.164Z"
   },
   {
    "duration": 16,
    "start_time": "2023-03-18T08:15:43.174Z"
   },
   {
    "duration": 7,
    "start_time": "2023-03-18T08:15:43.192Z"
   },
   {
    "duration": 6,
    "start_time": "2023-03-18T08:15:43.201Z"
   },
   {
    "duration": 158,
    "start_time": "2023-03-18T08:15:43.208Z"
   },
   {
    "duration": 41,
    "start_time": "2023-03-18T08:15:43.368Z"
   },
   {
    "duration": 7,
    "start_time": "2023-03-18T08:15:43.411Z"
   },
   {
    "duration": 441,
    "start_time": "2023-03-18T08:15:43.420Z"
   },
   {
    "duration": 2067,
    "start_time": "2023-03-18T08:15:43.863Z"
   },
   {
    "duration": 1414,
    "start_time": "2023-03-18T08:15:45.932Z"
   },
   {
    "duration": 447,
    "start_time": "2023-03-18T08:15:47.348Z"
   },
   {
    "duration": 363,
    "start_time": "2023-03-18T08:15:47.799Z"
   },
   {
    "duration": 330,
    "start_time": "2023-03-18T08:15:48.164Z"
   },
   {
    "duration": 11,
    "start_time": "2023-03-18T08:15:48.496Z"
   },
   {
    "duration": 304,
    "start_time": "2023-03-18T08:15:48.509Z"
   },
   {
    "duration": 10,
    "start_time": "2023-03-18T08:15:48.816Z"
   },
   {
    "duration": 328,
    "start_time": "2023-03-18T08:15:48.828Z"
   },
   {
    "duration": 12,
    "start_time": "2023-03-18T08:15:49.158Z"
   },
   {
    "duration": 234,
    "start_time": "2023-03-18T08:15:49.173Z"
   },
   {
    "duration": 13,
    "start_time": "2023-03-18T08:15:49.409Z"
   },
   {
    "duration": 14,
    "start_time": "2023-03-18T08:15:49.424Z"
   },
   {
    "duration": 38,
    "start_time": "2023-03-18T08:15:49.440Z"
   },
   {
    "duration": 13,
    "start_time": "2023-03-18T08:15:49.480Z"
   },
   {
    "duration": 13,
    "start_time": "2023-03-18T08:15:49.495Z"
   },
   {
    "duration": 14,
    "start_time": "2023-03-18T08:15:49.509Z"
   },
   {
    "duration": 143,
    "start_time": "2023-03-18T08:15:49.525Z"
   },
   {
    "duration": 140,
    "start_time": "2023-03-18T08:15:49.670Z"
   },
   {
    "duration": 119,
    "start_time": "2023-03-18T08:15:49.812Z"
   },
   {
    "duration": 8,
    "start_time": "2023-03-18T08:15:49.933Z"
   },
   {
    "duration": 25,
    "start_time": "2023-03-18T08:15:49.943Z"
   },
   {
    "duration": 479,
    "start_time": "2023-03-18T08:28:41.205Z"
   },
   {
    "duration": 3559,
    "start_time": "2023-03-18T08:33:55.506Z"
   },
   {
    "duration": 3761,
    "start_time": "2023-03-18T08:34:28.638Z"
   },
   {
    "duration": 1851,
    "start_time": "2023-03-18T08:34:51.213Z"
   },
   {
    "duration": 3071,
    "start_time": "2023-03-18T08:36:20.453Z"
   },
   {
    "duration": 2892,
    "start_time": "2023-03-18T08:36:39.116Z"
   },
   {
    "duration": 3924,
    "start_time": "2023-03-18T08:37:20.505Z"
   },
   {
    "duration": 15,
    "start_time": "2023-03-18T08:45:08.891Z"
   },
   {
    "duration": 47,
    "start_time": "2023-03-18T08:45:32.099Z"
   },
   {
    "duration": 27,
    "start_time": "2023-03-18T08:50:34.420Z"
   },
   {
    "duration": 1230,
    "start_time": "2023-03-18T08:54:40.008Z"
   },
   {
    "duration": 339,
    "start_time": "2023-03-18T09:06:04.981Z"
   },
   {
    "duration": 13,
    "start_time": "2023-03-18T09:06:10.349Z"
   },
   {
    "duration": 1056,
    "start_time": "2023-03-18T09:06:16.414Z"
   },
   {
    "duration": 97,
    "start_time": "2023-03-18T09:06:17.472Z"
   },
   {
    "duration": 12,
    "start_time": "2023-03-18T09:06:17.570Z"
   },
   {
    "duration": 17,
    "start_time": "2023-03-18T09:06:17.584Z"
   },
   {
    "duration": 17,
    "start_time": "2023-03-18T09:06:17.603Z"
   },
   {
    "duration": 47,
    "start_time": "2023-03-18T09:06:17.622Z"
   },
   {
    "duration": 23,
    "start_time": "2023-03-18T09:06:17.670Z"
   },
   {
    "duration": 25,
    "start_time": "2023-03-18T09:06:17.695Z"
   },
   {
    "duration": 5,
    "start_time": "2023-03-18T09:06:17.721Z"
   },
   {
    "duration": 49,
    "start_time": "2023-03-18T09:06:17.728Z"
   },
   {
    "duration": 8,
    "start_time": "2023-03-18T09:06:17.779Z"
   },
   {
    "duration": 12,
    "start_time": "2023-03-18T09:06:17.788Z"
   },
   {
    "duration": 19,
    "start_time": "2023-03-18T09:06:17.802Z"
   },
   {
    "duration": 105,
    "start_time": "2023-03-18T09:06:17.822Z"
   },
   {
    "duration": 0,
    "start_time": "2023-03-18T09:06:17.929Z"
   },
   {
    "duration": 0,
    "start_time": "2023-03-18T09:06:17.930Z"
   },
   {
    "duration": 0,
    "start_time": "2023-03-18T09:06:17.932Z"
   },
   {
    "duration": 0,
    "start_time": "2023-03-18T09:06:17.932Z"
   },
   {
    "duration": 0,
    "start_time": "2023-03-18T09:06:17.933Z"
   },
   {
    "duration": 0,
    "start_time": "2023-03-18T09:06:17.935Z"
   },
   {
    "duration": 0,
    "start_time": "2023-03-18T09:06:17.935Z"
   },
   {
    "duration": 0,
    "start_time": "2023-03-18T09:06:17.936Z"
   },
   {
    "duration": 0,
    "start_time": "2023-03-18T09:06:17.937Z"
   },
   {
    "duration": 0,
    "start_time": "2023-03-18T09:06:17.938Z"
   },
   {
    "duration": 0,
    "start_time": "2023-03-18T09:06:17.939Z"
   },
   {
    "duration": 0,
    "start_time": "2023-03-18T09:06:17.941Z"
   },
   {
    "duration": 0,
    "start_time": "2023-03-18T09:06:17.962Z"
   },
   {
    "duration": 0,
    "start_time": "2023-03-18T09:06:17.963Z"
   },
   {
    "duration": 0,
    "start_time": "2023-03-18T09:06:17.964Z"
   },
   {
    "duration": 0,
    "start_time": "2023-03-18T09:06:17.965Z"
   },
   {
    "duration": 0,
    "start_time": "2023-03-18T09:06:17.966Z"
   },
   {
    "duration": 0,
    "start_time": "2023-03-18T09:06:17.967Z"
   },
   {
    "duration": 0,
    "start_time": "2023-03-18T09:06:17.968Z"
   },
   {
    "duration": 0,
    "start_time": "2023-03-18T09:06:17.969Z"
   },
   {
    "duration": 0,
    "start_time": "2023-03-18T09:06:17.970Z"
   },
   {
    "duration": 0,
    "start_time": "2023-03-18T09:06:17.971Z"
   },
   {
    "duration": 0,
    "start_time": "2023-03-18T09:06:17.972Z"
   },
   {
    "duration": 0,
    "start_time": "2023-03-18T09:06:17.973Z"
   },
   {
    "duration": 0,
    "start_time": "2023-03-18T09:06:17.974Z"
   },
   {
    "duration": 0,
    "start_time": "2023-03-18T09:06:17.975Z"
   },
   {
    "duration": 0,
    "start_time": "2023-03-18T09:06:17.976Z"
   },
   {
    "duration": 0,
    "start_time": "2023-03-18T09:06:17.977Z"
   },
   {
    "duration": 3,
    "start_time": "2023-03-18T09:06:43.782Z"
   },
   {
    "duration": 1157,
    "start_time": "2023-03-18T09:06:47.710Z"
   },
   {
    "duration": 105,
    "start_time": "2023-03-18T09:06:48.869Z"
   },
   {
    "duration": 13,
    "start_time": "2023-03-18T09:06:48.975Z"
   },
   {
    "duration": 17,
    "start_time": "2023-03-18T09:06:48.991Z"
   },
   {
    "duration": 18,
    "start_time": "2023-03-18T09:06:49.010Z"
   },
   {
    "duration": 47,
    "start_time": "2023-03-18T09:06:49.030Z"
   },
   {
    "duration": 23,
    "start_time": "2023-03-18T09:06:49.079Z"
   },
   {
    "duration": 24,
    "start_time": "2023-03-18T09:06:49.104Z"
   },
   {
    "duration": 33,
    "start_time": "2023-03-18T09:06:49.130Z"
   },
   {
    "duration": 21,
    "start_time": "2023-03-18T09:06:49.166Z"
   },
   {
    "duration": 6,
    "start_time": "2023-03-18T09:06:49.188Z"
   },
   {
    "duration": 17,
    "start_time": "2023-03-18T09:06:49.196Z"
   },
   {
    "duration": 22,
    "start_time": "2023-03-18T09:06:49.215Z"
   },
   {
    "duration": 3,
    "start_time": "2023-03-18T09:06:49.238Z"
   },
   {
    "duration": 134,
    "start_time": "2023-03-18T09:06:49.242Z"
   },
   {
    "duration": 7,
    "start_time": "2023-03-18T09:06:49.378Z"
   },
   {
    "duration": 371,
    "start_time": "2023-03-18T09:06:49.386Z"
   },
   {
    "duration": 3381,
    "start_time": "2023-03-18T09:06:49.761Z"
   },
   {
    "duration": 22,
    "start_time": "2023-03-18T09:06:53.144Z"
   },
   {
    "duration": 19,
    "start_time": "2023-03-18T09:06:53.168Z"
   },
   {
    "duration": 37,
    "start_time": "2023-03-18T09:06:53.188Z"
   },
   {
    "duration": 1241,
    "start_time": "2023-03-18T09:06:53.227Z"
   },
   {
    "duration": 318,
    "start_time": "2023-03-18T09:06:54.470Z"
   },
   {
    "duration": 320,
    "start_time": "2023-03-18T09:06:54.790Z"
   },
   {
    "duration": 296,
    "start_time": "2023-03-18T09:06:55.112Z"
   },
   {
    "duration": 12,
    "start_time": "2023-03-18T09:06:55.409Z"
   },
   {
    "duration": 316,
    "start_time": "2023-03-18T09:06:55.423Z"
   },
   {
    "duration": 20,
    "start_time": "2023-03-18T09:06:55.742Z"
   },
   {
    "duration": 330,
    "start_time": "2023-03-18T09:06:55.764Z"
   },
   {
    "duration": 11,
    "start_time": "2023-03-18T09:06:56.096Z"
   },
   {
    "duration": 223,
    "start_time": "2023-03-18T09:06:56.109Z"
   },
   {
    "duration": 15,
    "start_time": "2023-03-18T09:06:56.334Z"
   },
   {
    "duration": 14,
    "start_time": "2023-03-18T09:06:56.361Z"
   },
   {
    "duration": 14,
    "start_time": "2023-03-18T09:06:56.376Z"
   },
   {
    "duration": 16,
    "start_time": "2023-03-18T09:06:56.392Z"
   },
   {
    "duration": 33,
    "start_time": "2023-03-18T09:06:56.410Z"
   },
   {
    "duration": 25,
    "start_time": "2023-03-18T09:06:56.445Z"
   },
   {
    "duration": 228,
    "start_time": "2023-03-18T09:06:56.472Z"
   },
   {
    "duration": 132,
    "start_time": "2023-03-18T09:06:56.702Z"
   },
   {
    "duration": 120,
    "start_time": "2023-03-18T09:06:56.836Z"
   },
   {
    "duration": 8,
    "start_time": "2023-03-18T09:06:56.962Z"
   },
   {
    "duration": 12,
    "start_time": "2023-03-18T09:06:56.972Z"
   },
   {
    "duration": 14,
    "start_time": "2023-03-18T09:23:10.117Z"
   },
   {
    "duration": 14,
    "start_time": "2023-03-18T09:23:29.725Z"
   },
   {
    "duration": 114,
    "start_time": "2023-03-18T09:27:26.514Z"
   },
   {
    "duration": 135,
    "start_time": "2023-03-18T09:27:50.529Z"
   },
   {
    "duration": 11,
    "start_time": "2023-03-18T09:30:37.659Z"
   },
   {
    "duration": 117,
    "start_time": "2023-03-18T09:30:38.662Z"
   },
   {
    "duration": 31,
    "start_time": "2023-03-18T09:30:53.135Z"
   },
   {
    "duration": 20,
    "start_time": "2023-03-18T09:31:09.023Z"
   },
   {
    "duration": 9,
    "start_time": "2023-03-18T09:31:47.031Z"
   },
   {
    "duration": 1247,
    "start_time": "2023-03-18T09:32:00.204Z"
   },
   {
    "duration": 108,
    "start_time": "2023-03-18T09:32:01.453Z"
   },
   {
    "duration": 13,
    "start_time": "2023-03-18T09:32:01.562Z"
   },
   {
    "duration": 51,
    "start_time": "2023-03-18T09:32:01.578Z"
   },
   {
    "duration": 43,
    "start_time": "2023-03-18T09:32:01.631Z"
   },
   {
    "duration": 36,
    "start_time": "2023-03-18T09:32:01.676Z"
   },
   {
    "duration": 38,
    "start_time": "2023-03-18T09:32:01.714Z"
   },
   {
    "duration": 38,
    "start_time": "2023-03-18T09:32:01.754Z"
   },
   {
    "duration": 16,
    "start_time": "2023-03-18T09:32:01.794Z"
   },
   {
    "duration": 47,
    "start_time": "2023-03-18T09:32:01.813Z"
   },
   {
    "duration": 27,
    "start_time": "2023-03-18T09:32:01.861Z"
   },
   {
    "duration": 28,
    "start_time": "2023-03-18T09:32:01.890Z"
   },
   {
    "duration": 72,
    "start_time": "2023-03-18T09:32:01.920Z"
   },
   {
    "duration": 16,
    "start_time": "2023-03-18T09:32:01.994Z"
   },
   {
    "duration": 122,
    "start_time": "2023-03-18T09:32:02.012Z"
   },
   {
    "duration": 6,
    "start_time": "2023-03-18T09:32:02.136Z"
   },
   {
    "duration": 420,
    "start_time": "2023-03-18T09:32:02.144Z"
   },
   {
    "duration": 3921,
    "start_time": "2023-03-18T09:32:02.566Z"
   },
   {
    "duration": 21,
    "start_time": "2023-03-18T09:32:06.490Z"
   },
   {
    "duration": 48,
    "start_time": "2023-03-18T09:32:06.514Z"
   },
   {
    "duration": 52,
    "start_time": "2023-03-18T09:32:06.565Z"
   },
   {
    "duration": 1259,
    "start_time": "2023-03-18T09:32:06.620Z"
   },
   {
    "duration": 331,
    "start_time": "2023-03-18T09:32:07.881Z"
   },
   {
    "duration": 372,
    "start_time": "2023-03-18T09:32:08.213Z"
   },
   {
    "duration": 335,
    "start_time": "2023-03-18T09:32:08.587Z"
   },
   {
    "duration": 16,
    "start_time": "2023-03-18T09:32:08.924Z"
   },
   {
    "duration": 360,
    "start_time": "2023-03-18T09:32:08.943Z"
   },
   {
    "duration": 13,
    "start_time": "2023-03-18T09:32:09.307Z"
   },
   {
    "duration": 329,
    "start_time": "2023-03-18T09:32:09.321Z"
   },
   {
    "duration": 16,
    "start_time": "2023-03-18T09:32:09.652Z"
   },
   {
    "duration": 211,
    "start_time": "2023-03-18T09:32:09.670Z"
   },
   {
    "duration": 16,
    "start_time": "2023-03-18T09:32:09.883Z"
   },
   {
    "duration": 14,
    "start_time": "2023-03-18T09:32:09.900Z"
   },
   {
    "duration": 46,
    "start_time": "2023-03-18T09:32:09.916Z"
   },
   {
    "duration": 16,
    "start_time": "2023-03-18T09:32:09.965Z"
   },
   {
    "duration": 15,
    "start_time": "2023-03-18T09:32:09.983Z"
   },
   {
    "duration": 20,
    "start_time": "2023-03-18T09:32:10.000Z"
   },
   {
    "duration": 46,
    "start_time": "2023-03-18T09:32:10.022Z"
   },
   {
    "duration": 264,
    "start_time": "2023-03-18T09:32:10.072Z"
   },
   {
    "duration": 157,
    "start_time": "2023-03-18T09:32:10.338Z"
   },
   {
    "duration": 143,
    "start_time": "2023-03-18T09:32:10.497Z"
   },
   {
    "duration": 21,
    "start_time": "2023-03-18T09:32:10.642Z"
   },
   {
    "duration": 17,
    "start_time": "2023-03-18T09:32:10.665Z"
   },
   {
    "duration": 5,
    "start_time": "2023-03-18T09:32:33.477Z"
   },
   {
    "duration": 1148,
    "start_time": "2023-03-18T09:32:38.895Z"
   },
   {
    "duration": 101,
    "start_time": "2023-03-18T09:32:40.045Z"
   },
   {
    "duration": 15,
    "start_time": "2023-03-18T09:32:40.148Z"
   },
   {
    "duration": 23,
    "start_time": "2023-03-18T09:32:40.166Z"
   },
   {
    "duration": 23,
    "start_time": "2023-03-18T09:32:40.191Z"
   },
   {
    "duration": 23,
    "start_time": "2023-03-18T09:32:40.216Z"
   },
   {
    "duration": 25,
    "start_time": "2023-03-18T09:32:40.262Z"
   },
   {
    "duration": 25,
    "start_time": "2023-03-18T09:32:40.289Z"
   },
   {
    "duration": 5,
    "start_time": "2023-03-18T09:32:40.316Z"
   },
   {
    "duration": 65,
    "start_time": "2023-03-18T09:32:40.325Z"
   },
   {
    "duration": 8,
    "start_time": "2023-03-18T09:32:40.392Z"
   },
   {
    "duration": 15,
    "start_time": "2023-03-18T09:32:40.403Z"
   },
   {
    "duration": 44,
    "start_time": "2023-03-18T09:32:40.420Z"
   },
   {
    "duration": 2,
    "start_time": "2023-03-18T09:32:40.466Z"
   },
   {
    "duration": 181,
    "start_time": "2023-03-18T09:32:40.471Z"
   },
   {
    "duration": 7,
    "start_time": "2023-03-18T09:32:40.662Z"
   },
   {
    "duration": 392,
    "start_time": "2023-03-18T09:32:40.670Z"
   },
   {
    "duration": 3770,
    "start_time": "2023-03-18T09:32:41.065Z"
   },
   {
    "duration": 25,
    "start_time": "2023-03-18T09:32:44.837Z"
   },
   {
    "duration": 22,
    "start_time": "2023-03-18T09:32:44.865Z"
   },
   {
    "duration": 73,
    "start_time": "2023-03-18T09:32:44.890Z"
   },
   {
    "duration": 1419,
    "start_time": "2023-03-18T09:32:44.965Z"
   },
   {
    "duration": 403,
    "start_time": "2023-03-18T09:32:46.387Z"
   },
   {
    "duration": 400,
    "start_time": "2023-03-18T09:32:46.792Z"
   },
   {
    "duration": 368,
    "start_time": "2023-03-18T09:32:47.194Z"
   },
   {
    "duration": 13,
    "start_time": "2023-03-18T09:32:47.564Z"
   },
   {
    "duration": 343,
    "start_time": "2023-03-18T09:32:47.579Z"
   },
   {
    "duration": 12,
    "start_time": "2023-03-18T09:32:47.927Z"
   },
   {
    "duration": 350,
    "start_time": "2023-03-18T09:32:47.941Z"
   },
   {
    "duration": 12,
    "start_time": "2023-03-18T09:32:48.293Z"
   },
   {
    "duration": 221,
    "start_time": "2023-03-18T09:32:48.307Z"
   },
   {
    "duration": 13,
    "start_time": "2023-03-18T09:32:48.530Z"
   },
   {
    "duration": 25,
    "start_time": "2023-03-18T09:32:48.545Z"
   },
   {
    "duration": 16,
    "start_time": "2023-03-18T09:32:48.572Z"
   },
   {
    "duration": 18,
    "start_time": "2023-03-18T09:32:48.590Z"
   },
   {
    "duration": 21,
    "start_time": "2023-03-18T09:32:48.610Z"
   },
   {
    "duration": 39,
    "start_time": "2023-03-18T09:32:48.633Z"
   },
   {
    "duration": 5,
    "start_time": "2023-03-18T09:32:48.674Z"
   },
   {
    "duration": 263,
    "start_time": "2023-03-18T09:32:48.681Z"
   },
   {
    "duration": 160,
    "start_time": "2023-03-18T09:32:48.946Z"
   },
   {
    "duration": 162,
    "start_time": "2023-03-18T09:32:49.108Z"
   },
   {
    "duration": 11,
    "start_time": "2023-03-18T09:32:49.272Z"
   },
   {
    "duration": 20,
    "start_time": "2023-03-18T09:32:49.284Z"
   },
   {
    "duration": 1224,
    "start_time": "2023-03-18T09:39:50.183Z"
   },
   {
    "duration": 107,
    "start_time": "2023-03-18T09:39:51.409Z"
   },
   {
    "duration": 13,
    "start_time": "2023-03-18T09:39:51.518Z"
   },
   {
    "duration": 29,
    "start_time": "2023-03-18T09:39:51.533Z"
   },
   {
    "duration": 22,
    "start_time": "2023-03-18T09:39:51.564Z"
   },
   {
    "duration": 32,
    "start_time": "2023-03-18T09:39:51.588Z"
   },
   {
    "duration": 45,
    "start_time": "2023-03-18T09:39:51.622Z"
   },
   {
    "duration": 29,
    "start_time": "2023-03-18T09:39:51.669Z"
   },
   {
    "duration": 47,
    "start_time": "2023-03-18T09:39:51.700Z"
   },
   {
    "duration": 50,
    "start_time": "2023-03-18T09:39:51.751Z"
   },
   {
    "duration": 23,
    "start_time": "2023-03-18T09:39:51.803Z"
   },
   {
    "duration": 14,
    "start_time": "2023-03-18T09:39:51.828Z"
   },
   {
    "duration": 27,
    "start_time": "2023-03-18T09:39:51.845Z"
   },
   {
    "duration": 14,
    "start_time": "2023-03-18T09:39:51.873Z"
   },
   {
    "duration": 125,
    "start_time": "2023-03-18T09:39:51.889Z"
   },
   {
    "duration": 8,
    "start_time": "2023-03-18T09:39:52.016Z"
   },
   {
    "duration": 426,
    "start_time": "2023-03-18T09:39:52.025Z"
   },
   {
    "duration": 3617,
    "start_time": "2023-03-18T09:39:52.453Z"
   },
   {
    "duration": 16,
    "start_time": "2023-03-18T09:39:56.073Z"
   },
   {
    "duration": 24,
    "start_time": "2023-03-18T09:39:56.092Z"
   },
   {
    "duration": 79,
    "start_time": "2023-03-18T09:39:56.119Z"
   },
   {
    "duration": 1272,
    "start_time": "2023-03-18T09:39:56.200Z"
   },
   {
    "duration": 331,
    "start_time": "2023-03-18T09:39:57.474Z"
   },
   {
    "duration": 334,
    "start_time": "2023-03-18T09:39:57.807Z"
   },
   {
    "duration": 341,
    "start_time": "2023-03-18T09:39:58.143Z"
   },
   {
    "duration": 12,
    "start_time": "2023-03-18T09:39:58.485Z"
   },
   {
    "duration": 301,
    "start_time": "2023-03-18T09:39:58.499Z"
   },
   {
    "duration": 10,
    "start_time": "2023-03-18T09:39:58.804Z"
   },
   {
    "duration": 324,
    "start_time": "2023-03-18T09:39:58.816Z"
   },
   {
    "duration": 23,
    "start_time": "2023-03-18T09:39:59.142Z"
   },
   {
    "duration": 215,
    "start_time": "2023-03-18T09:39:59.167Z"
   },
   {
    "duration": 13,
    "start_time": "2023-03-18T09:39:59.384Z"
   },
   {
    "duration": 23,
    "start_time": "2023-03-18T09:39:59.399Z"
   },
   {
    "duration": 20,
    "start_time": "2023-03-18T09:39:59.423Z"
   },
   {
    "duration": 24,
    "start_time": "2023-03-18T09:39:59.445Z"
   },
   {
    "duration": 14,
    "start_time": "2023-03-18T09:39:59.471Z"
   },
   {
    "duration": 37,
    "start_time": "2023-03-18T09:39:59.486Z"
   },
   {
    "duration": 21,
    "start_time": "2023-03-18T09:39:59.525Z"
   },
   {
    "duration": 248,
    "start_time": "2023-03-18T09:39:59.548Z"
   },
   {
    "duration": 148,
    "start_time": "2023-03-18T09:39:59.799Z"
   },
   {
    "duration": 132,
    "start_time": "2023-03-18T09:39:59.950Z"
   },
   {
    "duration": 9,
    "start_time": "2023-03-18T09:40:00.084Z"
   },
   {
    "duration": 22,
    "start_time": "2023-03-18T09:40:00.094Z"
   },
   {
    "duration": 10,
    "start_time": "2023-03-18T09:42:48.094Z"
   },
   {
    "duration": 10,
    "start_time": "2023-03-18T09:43:18.066Z"
   },
   {
    "duration": 11,
    "start_time": "2023-03-18T09:44:06.154Z"
   },
   {
    "duration": 4,
    "start_time": "2023-03-18T09:44:30.043Z"
   },
   {
    "duration": 16,
    "start_time": "2023-03-18T09:45:06.969Z"
   },
   {
    "duration": 1293,
    "start_time": "2023-03-18T09:45:47.065Z"
   },
   {
    "duration": 105,
    "start_time": "2023-03-18T09:45:48.360Z"
   },
   {
    "duration": 12,
    "start_time": "2023-03-18T09:45:48.467Z"
   },
   {
    "duration": 18,
    "start_time": "2023-03-18T09:45:48.481Z"
   },
   {
    "duration": 19,
    "start_time": "2023-03-18T09:45:48.502Z"
   },
   {
    "duration": 48,
    "start_time": "2023-03-18T09:45:48.523Z"
   },
   {
    "duration": 32,
    "start_time": "2023-03-18T09:45:48.573Z"
   },
   {
    "duration": 23,
    "start_time": "2023-03-18T09:45:48.607Z"
   },
   {
    "duration": 33,
    "start_time": "2023-03-18T09:45:48.632Z"
   },
   {
    "duration": 22,
    "start_time": "2023-03-18T09:45:48.668Z"
   },
   {
    "duration": 8,
    "start_time": "2023-03-18T09:45:48.692Z"
   },
   {
    "duration": 10,
    "start_time": "2023-03-18T09:45:48.702Z"
   },
   {
    "duration": 20,
    "start_time": "2023-03-18T09:45:48.714Z"
   },
   {
    "duration": 3,
    "start_time": "2023-03-18T09:45:48.764Z"
   },
   {
    "duration": 121,
    "start_time": "2023-03-18T09:45:48.768Z"
   },
   {
    "duration": 8,
    "start_time": "2023-03-18T09:45:48.890Z"
   },
   {
    "duration": 387,
    "start_time": "2023-03-18T09:45:48.900Z"
   },
   {
    "duration": 3647,
    "start_time": "2023-03-18T09:45:49.289Z"
   },
   {
    "duration": 26,
    "start_time": "2023-03-18T09:45:52.937Z"
   },
   {
    "duration": 26,
    "start_time": "2023-03-18T09:45:52.965Z"
   },
   {
    "duration": 40,
    "start_time": "2023-03-18T09:45:52.993Z"
   },
   {
    "duration": 1462,
    "start_time": "2023-03-18T09:45:53.035Z"
   },
   {
    "duration": 368,
    "start_time": "2023-03-18T09:45:54.499Z"
   },
   {
    "duration": 343,
    "start_time": "2023-03-18T09:45:54.869Z"
   },
   {
    "duration": 324,
    "start_time": "2023-03-18T09:45:55.214Z"
   },
   {
    "duration": 22,
    "start_time": "2023-03-18T09:45:55.540Z"
   },
   {
    "duration": 316,
    "start_time": "2023-03-18T09:45:55.564Z"
   },
   {
    "duration": 11,
    "start_time": "2023-03-18T09:45:55.882Z"
   },
   {
    "duration": 376,
    "start_time": "2023-03-18T09:45:55.895Z"
   },
   {
    "duration": 13,
    "start_time": "2023-03-18T09:45:56.274Z"
   },
   {
    "duration": 298,
    "start_time": "2023-03-18T09:45:56.290Z"
   },
   {
    "duration": 17,
    "start_time": "2023-03-18T09:45:56.590Z"
   },
   {
    "duration": 16,
    "start_time": "2023-03-18T09:45:56.609Z"
   },
   {
    "duration": 43,
    "start_time": "2023-03-18T09:45:56.627Z"
   },
   {
    "duration": 19,
    "start_time": "2023-03-18T09:45:56.672Z"
   },
   {
    "duration": 17,
    "start_time": "2023-03-18T09:45:56.693Z"
   },
   {
    "duration": 180,
    "start_time": "2023-03-18T09:45:56.712Z"
   },
   {
    "duration": 7,
    "start_time": "2023-03-18T09:45:56.895Z"
   },
   {
    "duration": 175,
    "start_time": "2023-03-18T09:45:56.904Z"
   },
   {
    "duration": 202,
    "start_time": "2023-03-18T09:45:57.082Z"
   },
   {
    "duration": 149,
    "start_time": "2023-03-18T09:45:57.289Z"
   },
   {
    "duration": 12,
    "start_time": "2023-03-18T09:45:57.441Z"
   },
   {
    "duration": 17,
    "start_time": "2023-03-18T09:45:57.462Z"
   },
   {
    "duration": 55,
    "start_time": "2023-03-18T09:47:43.858Z"
   },
   {
    "duration": 8,
    "start_time": "2023-03-18T09:48:46.021Z"
   },
   {
    "duration": 50,
    "start_time": "2023-03-18T09:50:29.671Z"
   },
   {
    "duration": 187,
    "start_time": "2023-03-18T09:51:41.378Z"
   },
   {
    "duration": 203,
    "start_time": "2023-03-18T09:52:00.107Z"
   },
   {
    "duration": 364,
    "start_time": "2023-03-18T09:52:21.281Z"
   },
   {
    "duration": 356,
    "start_time": "2023-03-18T09:52:27.018Z"
   },
   {
    "duration": 117,
    "start_time": "2023-03-18T09:53:25.782Z"
   },
   {
    "duration": 120,
    "start_time": "2023-03-18T09:53:31.174Z"
   },
   {
    "duration": 224,
    "start_time": "2023-03-18T09:53:36.390Z"
   },
   {
    "duration": 122,
    "start_time": "2023-03-18T09:53:39.416Z"
   },
   {
    "duration": 1204,
    "start_time": "2023-03-18T09:58:41.586Z"
   },
   {
    "duration": 113,
    "start_time": "2023-03-18T09:58:42.794Z"
   },
   {
    "duration": 12,
    "start_time": "2023-03-18T09:58:42.908Z"
   },
   {
    "duration": 19,
    "start_time": "2023-03-18T09:58:42.923Z"
   },
   {
    "duration": 34,
    "start_time": "2023-03-18T09:58:42.944Z"
   },
   {
    "duration": 20,
    "start_time": "2023-03-18T09:58:42.980Z"
   },
   {
    "duration": 25,
    "start_time": "2023-03-18T09:58:43.002Z"
   },
   {
    "duration": 54,
    "start_time": "2023-03-18T09:58:43.029Z"
   },
   {
    "duration": 6,
    "start_time": "2023-03-18T09:58:43.084Z"
   },
   {
    "duration": 22,
    "start_time": "2023-03-18T09:58:43.093Z"
   },
   {
    "duration": 5,
    "start_time": "2023-03-18T09:58:43.117Z"
   },
   {
    "duration": 11,
    "start_time": "2023-03-18T09:58:43.124Z"
   },
   {
    "duration": 19,
    "start_time": "2023-03-18T09:58:43.161Z"
   },
   {
    "duration": 132,
    "start_time": "2023-03-18T09:58:43.182Z"
   },
   {
    "duration": 7,
    "start_time": "2023-03-18T09:58:43.316Z"
   },
   {
    "duration": 399,
    "start_time": "2023-03-18T09:58:43.325Z"
   },
   {
    "duration": 3874,
    "start_time": "2023-03-18T09:58:43.725Z"
   },
   {
    "duration": 17,
    "start_time": "2023-03-18T09:58:47.601Z"
   },
   {
    "duration": 43,
    "start_time": "2023-03-18T09:58:47.620Z"
   },
   {
    "duration": 7,
    "start_time": "2023-03-18T09:58:47.665Z"
   },
   {
    "duration": 49,
    "start_time": "2023-03-18T09:58:47.673Z"
   },
   {
    "duration": 1270,
    "start_time": "2023-03-18T09:58:47.724Z"
   },
   {
    "duration": 310,
    "start_time": "2023-03-18T09:58:48.996Z"
   },
   {
    "duration": 336,
    "start_time": "2023-03-18T09:58:49.308Z"
   },
   {
    "duration": 316,
    "start_time": "2023-03-18T09:58:49.646Z"
   },
   {
    "duration": 11,
    "start_time": "2023-03-18T09:58:49.964Z"
   },
   {
    "duration": 302,
    "start_time": "2023-03-18T09:58:49.977Z"
   },
   {
    "duration": 11,
    "start_time": "2023-03-18T09:58:50.283Z"
   },
   {
    "duration": 316,
    "start_time": "2023-03-18T09:58:50.296Z"
   },
   {
    "duration": 10,
    "start_time": "2023-03-18T09:58:50.614Z"
   },
   {
    "duration": 211,
    "start_time": "2023-03-18T09:58:50.625Z"
   },
   {
    "duration": 23,
    "start_time": "2023-03-18T09:58:50.838Z"
   },
   {
    "duration": 14,
    "start_time": "2023-03-18T09:58:50.863Z"
   },
   {
    "duration": 13,
    "start_time": "2023-03-18T09:58:50.879Z"
   },
   {
    "duration": 13,
    "start_time": "2023-03-18T09:58:50.894Z"
   },
   {
    "duration": 13,
    "start_time": "2023-03-18T09:58:50.909Z"
   },
   {
    "duration": 14,
    "start_time": "2023-03-18T09:58:50.961Z"
   },
   {
    "duration": 15,
    "start_time": "2023-03-18T09:58:50.977Z"
   },
   {
    "duration": 274,
    "start_time": "2023-03-18T09:58:50.994Z"
   },
   {
    "duration": 153,
    "start_time": "2023-03-18T09:58:51.270Z"
   },
   {
    "duration": 131,
    "start_time": "2023-03-18T09:58:51.425Z"
   },
   {
    "duration": 10,
    "start_time": "2023-03-18T09:58:51.562Z"
   },
   {
    "duration": 24,
    "start_time": "2023-03-18T09:58:51.573Z"
   },
   {
    "duration": 1229,
    "start_time": "2023-03-19T00:23:19.274Z"
   },
   {
    "duration": 99,
    "start_time": "2023-03-19T00:23:20.505Z"
   },
   {
    "duration": 12,
    "start_time": "2023-03-19T00:23:20.606Z"
   },
   {
    "duration": 20,
    "start_time": "2023-03-19T00:23:20.619Z"
   },
   {
    "duration": 18,
    "start_time": "2023-03-19T00:23:20.641Z"
   },
   {
    "duration": 43,
    "start_time": "2023-03-19T00:23:20.660Z"
   },
   {
    "duration": 20,
    "start_time": "2023-03-19T00:23:20.704Z"
   },
   {
    "duration": 19,
    "start_time": "2023-03-19T00:23:20.726Z"
   },
   {
    "duration": 4,
    "start_time": "2023-03-19T00:23:20.747Z"
   },
   {
    "duration": 45,
    "start_time": "2023-03-19T00:23:20.753Z"
   },
   {
    "duration": 5,
    "start_time": "2023-03-19T00:23:20.800Z"
   },
   {
    "duration": 18,
    "start_time": "2023-03-19T00:23:20.806Z"
   },
   {
    "duration": 17,
    "start_time": "2023-03-19T00:23:20.825Z"
   },
   {
    "duration": 118,
    "start_time": "2023-03-19T00:23:20.845Z"
   },
   {
    "duration": 6,
    "start_time": "2023-03-19T00:23:20.965Z"
   },
   {
    "duration": 338,
    "start_time": "2023-03-19T00:23:20.972Z"
   },
   {
    "duration": 3312,
    "start_time": "2023-03-19T00:23:21.311Z"
   },
   {
    "duration": 15,
    "start_time": "2023-03-19T00:23:24.625Z"
   },
   {
    "duration": 17,
    "start_time": "2023-03-19T00:23:24.642Z"
   },
   {
    "duration": 28,
    "start_time": "2023-03-19T00:23:24.661Z"
   },
   {
    "duration": 35,
    "start_time": "2023-03-19T00:23:24.691Z"
   },
   {
    "duration": 1165,
    "start_time": "2023-03-19T00:23:24.727Z"
   },
   {
    "duration": 301,
    "start_time": "2023-03-19T00:23:25.894Z"
   },
   {
    "duration": 301,
    "start_time": "2023-03-19T00:23:26.197Z"
   },
   {
    "duration": 309,
    "start_time": "2023-03-19T00:23:26.500Z"
   },
   {
    "duration": 13,
    "start_time": "2023-03-19T00:23:26.810Z"
   },
   {
    "duration": 313,
    "start_time": "2023-03-19T00:23:26.824Z"
   },
   {
    "duration": 11,
    "start_time": "2023-03-19T00:23:27.139Z"
   },
   {
    "duration": 354,
    "start_time": "2023-03-19T00:23:27.152Z"
   },
   {
    "duration": 10,
    "start_time": "2023-03-19T00:23:27.508Z"
   },
   {
    "duration": 212,
    "start_time": "2023-03-19T00:23:27.519Z"
   },
   {
    "duration": 14,
    "start_time": "2023-03-19T00:23:27.732Z"
   },
   {
    "duration": 13,
    "start_time": "2023-03-19T00:23:27.748Z"
   },
   {
    "duration": 36,
    "start_time": "2023-03-19T00:23:27.763Z"
   },
   {
    "duration": 13,
    "start_time": "2023-03-19T00:23:27.800Z"
   },
   {
    "duration": 14,
    "start_time": "2023-03-19T00:23:27.815Z"
   },
   {
    "duration": 13,
    "start_time": "2023-03-19T00:23:27.831Z"
   },
   {
    "duration": 5,
    "start_time": "2023-03-19T00:23:27.846Z"
   },
   {
    "duration": 273,
    "start_time": "2023-03-19T00:23:27.853Z"
   },
   {
    "duration": 148,
    "start_time": "2023-03-19T00:23:28.128Z"
   },
   {
    "duration": 130,
    "start_time": "2023-03-19T00:23:28.279Z"
   },
   {
    "duration": 8,
    "start_time": "2023-03-19T00:23:28.411Z"
   },
   {
    "duration": 15,
    "start_time": "2023-03-19T00:23:28.421Z"
   },
   {
    "duration": 67,
    "start_time": "2023-03-19T09:12:00.533Z"
   },
   {
    "duration": 1641,
    "start_time": "2023-03-19T09:12:05.252Z"
   },
   {
    "duration": 181,
    "start_time": "2023-03-19T09:12:06.898Z"
   },
   {
    "duration": 22,
    "start_time": "2023-03-19T09:12:07.081Z"
   },
   {
    "duration": 33,
    "start_time": "2023-03-19T09:12:07.106Z"
   },
   {
    "duration": 58,
    "start_time": "2023-03-19T09:12:07.142Z"
   },
   {
    "duration": 28,
    "start_time": "2023-03-19T09:12:07.203Z"
   },
   {
    "duration": 27,
    "start_time": "2023-03-19T09:12:07.233Z"
   },
   {
    "duration": 48,
    "start_time": "2023-03-19T09:12:07.262Z"
   },
   {
    "duration": 6,
    "start_time": "2023-03-19T09:12:07.312Z"
   },
   {
    "duration": 37,
    "start_time": "2023-03-19T09:12:07.322Z"
   },
   {
    "duration": 33,
    "start_time": "2023-03-19T09:12:07.360Z"
   },
   {
    "duration": 17,
    "start_time": "2023-03-19T09:12:07.398Z"
   },
   {
    "duration": 23,
    "start_time": "2023-03-19T09:12:07.417Z"
   },
   {
    "duration": 145,
    "start_time": "2023-03-19T09:12:07.442Z"
   },
   {
    "duration": 11,
    "start_time": "2023-03-19T09:12:07.588Z"
   },
   {
    "duration": 399,
    "start_time": "2023-03-19T09:12:07.602Z"
   },
   {
    "duration": 4007,
    "start_time": "2023-03-19T09:12:08.003Z"
   },
   {
    "duration": 20,
    "start_time": "2023-03-19T09:12:12.013Z"
   },
   {
    "duration": 58,
    "start_time": "2023-03-19T09:12:12.036Z"
   },
   {
    "duration": 8,
    "start_time": "2023-03-19T09:12:12.097Z"
   },
   {
    "duration": 72,
    "start_time": "2023-03-19T09:12:12.110Z"
   },
   {
    "duration": 1520,
    "start_time": "2023-03-19T09:12:12.184Z"
   },
   {
    "duration": 377,
    "start_time": "2023-03-19T09:12:13.707Z"
   },
   {
    "duration": 363,
    "start_time": "2023-03-19T09:12:14.086Z"
   },
   {
    "duration": 365,
    "start_time": "2023-03-19T09:12:14.453Z"
   },
   {
    "duration": 16,
    "start_time": "2023-03-19T09:12:14.820Z"
   },
   {
    "duration": 364,
    "start_time": "2023-03-19T09:12:14.838Z"
   },
   {
    "duration": 14,
    "start_time": "2023-03-19T09:12:15.206Z"
   },
   {
    "duration": 407,
    "start_time": "2023-03-19T09:12:15.222Z"
   },
   {
    "duration": 14,
    "start_time": "2023-03-19T09:12:15.632Z"
   },
   {
    "duration": 2028,
    "start_time": "2023-03-19T09:12:15.648Z"
   },
   {
    "duration": 279,
    "start_time": "2023-03-19T09:12:17.681Z"
   },
   {
    "duration": 31,
    "start_time": "2023-03-19T09:12:17.963Z"
   },
   {
    "duration": 57,
    "start_time": "2023-03-19T09:12:17.997Z"
   },
   {
    "duration": 33,
    "start_time": "2023-03-19T09:12:18.056Z"
   },
   {
    "duration": 34,
    "start_time": "2023-03-19T09:12:18.091Z"
   },
   {
    "duration": 20,
    "start_time": "2023-03-19T09:12:18.127Z"
   },
   {
    "duration": 23,
    "start_time": "2023-03-19T09:12:18.150Z"
   },
   {
    "duration": 31,
    "start_time": "2023-03-19T09:12:18.178Z"
   },
   {
    "duration": 150,
    "start_time": "2023-03-19T09:12:18.211Z"
   },
   {
    "duration": 167,
    "start_time": "2023-03-19T09:12:18.363Z"
   },
   {
    "duration": 154,
    "start_time": "2023-03-19T09:12:18.531Z"
   },
   {
    "duration": 16,
    "start_time": "2023-03-19T09:12:18.689Z"
   },
   {
    "duration": 54,
    "start_time": "2023-03-19T09:12:18.707Z"
   },
   {
    "duration": 1914,
    "start_time": "2023-03-19T09:13:15.996Z"
   },
   {
    "duration": 1371,
    "start_time": "2023-03-19T09:15:20.465Z"
   },
   {
    "duration": 161,
    "start_time": "2023-03-19T09:15:21.838Z"
   },
   {
    "duration": 14,
    "start_time": "2023-03-19T09:15:22.001Z"
   },
   {
    "duration": 44,
    "start_time": "2023-03-19T09:15:22.018Z"
   },
   {
    "duration": 94,
    "start_time": "2023-03-19T09:15:22.065Z"
   },
   {
    "duration": 31,
    "start_time": "2023-03-19T09:15:22.162Z"
   },
   {
    "duration": 35,
    "start_time": "2023-03-19T09:15:22.199Z"
   },
   {
    "duration": 50,
    "start_time": "2023-03-19T09:15:22.236Z"
   },
   {
    "duration": 9,
    "start_time": "2023-03-19T09:15:22.292Z"
   },
   {
    "duration": 25,
    "start_time": "2023-03-19T09:15:22.304Z"
   },
   {
    "duration": 14,
    "start_time": "2023-03-19T09:15:22.331Z"
   },
   {
    "duration": 18,
    "start_time": "2023-03-19T09:15:22.347Z"
   },
   {
    "duration": 64,
    "start_time": "2023-03-19T09:15:22.367Z"
   },
   {
    "duration": 154,
    "start_time": "2023-03-19T09:15:22.433Z"
   },
   {
    "duration": 13,
    "start_time": "2023-03-19T09:15:22.591Z"
   },
   {
    "duration": 425,
    "start_time": "2023-03-19T09:15:22.607Z"
   },
   {
    "duration": 4293,
    "start_time": "2023-03-19T09:15:23.036Z"
   },
   {
    "duration": 21,
    "start_time": "2023-03-19T09:15:27.332Z"
   },
   {
    "duration": 58,
    "start_time": "2023-03-19T09:15:27.356Z"
   },
   {
    "duration": 8,
    "start_time": "2023-03-19T09:15:27.416Z"
   },
   {
    "duration": 60,
    "start_time": "2023-03-19T09:15:27.426Z"
   },
   {
    "duration": 1393,
    "start_time": "2023-03-19T09:15:27.489Z"
   },
   {
    "duration": 360,
    "start_time": "2023-03-19T09:15:28.884Z"
   },
   {
    "duration": 380,
    "start_time": "2023-03-19T09:15:29.247Z"
   },
   {
    "duration": 514,
    "start_time": "2023-03-19T09:15:29.629Z"
   },
   {
    "duration": 0,
    "start_time": "2023-03-19T09:15:30.145Z"
   },
   {
    "duration": 0,
    "start_time": "2023-03-19T09:15:30.146Z"
   },
   {
    "duration": 0,
    "start_time": "2023-03-19T09:15:30.147Z"
   },
   {
    "duration": 0,
    "start_time": "2023-03-19T09:15:30.149Z"
   },
   {
    "duration": 0,
    "start_time": "2023-03-19T09:15:30.150Z"
   },
   {
    "duration": 0,
    "start_time": "2023-03-19T09:15:30.151Z"
   },
   {
    "duration": 0,
    "start_time": "2023-03-19T09:15:30.152Z"
   },
   {
    "duration": 0,
    "start_time": "2023-03-19T09:15:30.153Z"
   },
   {
    "duration": 0,
    "start_time": "2023-03-19T09:15:30.154Z"
   },
   {
    "duration": 0,
    "start_time": "2023-03-19T09:15:30.155Z"
   },
   {
    "duration": 0,
    "start_time": "2023-03-19T09:15:30.156Z"
   },
   {
    "duration": 0,
    "start_time": "2023-03-19T09:15:30.157Z"
   },
   {
    "duration": 0,
    "start_time": "2023-03-19T09:15:30.158Z"
   },
   {
    "duration": 0,
    "start_time": "2023-03-19T09:15:30.159Z"
   },
   {
    "duration": 0,
    "start_time": "2023-03-19T09:15:30.160Z"
   },
   {
    "duration": 0,
    "start_time": "2023-03-19T09:15:30.183Z"
   },
   {
    "duration": 0,
    "start_time": "2023-03-19T09:15:30.186Z"
   },
   {
    "duration": 0,
    "start_time": "2023-03-19T09:15:30.187Z"
   },
   {
    "duration": 0,
    "start_time": "2023-03-19T09:15:30.188Z"
   },
   {
    "duration": 1248,
    "start_time": "2023-03-19T09:16:28.212Z"
   },
   {
    "duration": 115,
    "start_time": "2023-03-19T09:16:29.462Z"
   },
   {
    "duration": 20,
    "start_time": "2023-03-19T09:16:29.579Z"
   },
   {
    "duration": 22,
    "start_time": "2023-03-19T09:16:29.601Z"
   },
   {
    "duration": 18,
    "start_time": "2023-03-19T09:16:29.624Z"
   },
   {
    "duration": 38,
    "start_time": "2023-03-19T09:16:29.644Z"
   },
   {
    "duration": 32,
    "start_time": "2023-03-19T09:16:29.687Z"
   },
   {
    "duration": 26,
    "start_time": "2023-03-19T09:16:29.720Z"
   },
   {
    "duration": 5,
    "start_time": "2023-03-19T09:16:29.748Z"
   },
   {
    "duration": 52,
    "start_time": "2023-03-19T09:16:29.755Z"
   },
   {
    "duration": 9,
    "start_time": "2023-03-19T09:16:29.810Z"
   },
   {
    "duration": 15,
    "start_time": "2023-03-19T09:16:29.821Z"
   },
   {
    "duration": 25,
    "start_time": "2023-03-19T09:16:29.839Z"
   },
   {
    "duration": 157,
    "start_time": "2023-03-19T09:16:29.866Z"
   },
   {
    "duration": 8,
    "start_time": "2023-03-19T09:16:30.025Z"
   },
   {
    "duration": 432,
    "start_time": "2023-03-19T09:16:30.036Z"
   },
   {
    "duration": 3929,
    "start_time": "2023-03-19T09:16:30.471Z"
   },
   {
    "duration": 18,
    "start_time": "2023-03-19T09:16:34.401Z"
   },
   {
    "duration": 25,
    "start_time": "2023-03-19T09:16:34.422Z"
   },
   {
    "duration": 48,
    "start_time": "2023-03-19T09:16:34.450Z"
   },
   {
    "duration": 51,
    "start_time": "2023-03-19T09:16:34.500Z"
   },
   {
    "duration": 1488,
    "start_time": "2023-03-19T09:16:34.554Z"
   },
   {
    "duration": 397,
    "start_time": "2023-03-19T09:16:36.045Z"
   },
   {
    "duration": 384,
    "start_time": "2023-03-19T09:16:36.445Z"
   },
   {
    "duration": 1880,
    "start_time": "2023-03-19T09:16:36.831Z"
   },
   {
    "duration": 3,
    "start_time": "2023-03-19T09:16:38.713Z"
   },
   {
    "duration": 9,
    "start_time": "2023-03-19T09:16:38.718Z"
   },
   {
    "duration": 19,
    "start_time": "2023-03-19T09:16:38.732Z"
   },
   {
    "duration": 6,
    "start_time": "2023-03-19T09:16:38.754Z"
   },
   {
    "duration": 47,
    "start_time": "2023-03-19T09:16:38.763Z"
   },
   {
    "duration": 10,
    "start_time": "2023-03-19T09:16:38.813Z"
   },
   {
    "duration": 275,
    "start_time": "2023-03-19T09:16:38.826Z"
   },
   {
    "duration": 15,
    "start_time": "2023-03-19T09:16:39.103Z"
   },
   {
    "duration": 16,
    "start_time": "2023-03-19T09:16:39.120Z"
   },
   {
    "duration": 15,
    "start_time": "2023-03-19T09:16:39.137Z"
   },
   {
    "duration": 42,
    "start_time": "2023-03-19T09:16:39.154Z"
   },
   {
    "duration": 21,
    "start_time": "2023-03-19T09:16:39.199Z"
   },
   {
    "duration": 22,
    "start_time": "2023-03-19T09:16:39.222Z"
   },
   {
    "duration": 6,
    "start_time": "2023-03-19T09:16:39.286Z"
   },
   {
    "duration": 158,
    "start_time": "2023-03-19T09:16:39.296Z"
   },
   {
    "duration": 183,
    "start_time": "2023-03-19T09:16:39.456Z"
   },
   {
    "duration": 169,
    "start_time": "2023-03-19T09:16:39.642Z"
   },
   {
    "duration": 12,
    "start_time": "2023-03-19T09:16:39.812Z"
   },
   {
    "duration": 20,
    "start_time": "2023-03-19T09:16:39.826Z"
   },
   {
    "duration": 2051,
    "start_time": "2023-03-19T09:27:59.644Z"
   },
   {
    "duration": 144,
    "start_time": "2023-03-19T09:36:46.412Z"
   },
   {
    "duration": 205,
    "start_time": "2023-03-19T09:36:56.634Z"
   },
   {
    "duration": 53,
    "start_time": "2023-03-19T09:37:01.917Z"
   },
   {
    "duration": 476,
    "start_time": "2023-03-19T09:37:59.761Z"
   },
   {
    "duration": 446,
    "start_time": "2023-03-19T09:38:19.713Z"
   },
   {
    "duration": 444,
    "start_time": "2023-03-19T09:38:26.317Z"
   },
   {
    "duration": 509,
    "start_time": "2023-03-19T09:41:33.819Z"
   },
   {
    "duration": 451,
    "start_time": "2023-03-19T09:41:46.169Z"
   },
   {
    "duration": 587,
    "start_time": "2023-03-19T09:42:32.619Z"
   },
   {
    "duration": 504,
    "start_time": "2023-03-19T09:42:37.651Z"
   },
   {
    "duration": 452,
    "start_time": "2023-03-19T09:42:49.012Z"
   },
   {
    "duration": 432,
    "start_time": "2023-03-19T09:42:53.164Z"
   },
   {
    "duration": 443,
    "start_time": "2023-03-19T09:43:03.323Z"
   },
   {
    "duration": 472,
    "start_time": "2023-03-19T09:44:47.170Z"
   },
   {
    "duration": 600,
    "start_time": "2023-03-19T09:44:53.612Z"
   },
   {
    "duration": 1321,
    "start_time": "2023-03-19T09:48:42.444Z"
   },
   {
    "duration": 309,
    "start_time": "2023-03-19T09:48:57.941Z"
   },
   {
    "duration": 15,
    "start_time": "2023-03-19T09:49:08.997Z"
   },
   {
    "duration": 1363,
    "start_time": "2023-03-19T09:56:27.909Z"
   },
   {
    "duration": 13,
    "start_time": "2023-03-19T09:56:35.909Z"
   },
   {
    "duration": 6,
    "start_time": "2023-03-19T09:56:42.726Z"
   },
   {
    "duration": 432,
    "start_time": "2023-03-19T09:57:40.869Z"
   },
   {
    "duration": 19,
    "start_time": "2023-03-19T09:58:00.653Z"
   },
   {
    "duration": 1428,
    "start_time": "2023-03-19T09:59:09.340Z"
   },
   {
    "duration": 30,
    "start_time": "2023-03-19T09:59:21.177Z"
   },
   {
    "duration": 17,
    "start_time": "2023-03-19T09:59:31.616Z"
   },
   {
    "duration": 6,
    "start_time": "2023-03-19T10:02:29.964Z"
   },
   {
    "duration": 21,
    "start_time": "2023-03-19T10:02:39.325Z"
   },
   {
    "duration": 21,
    "start_time": "2023-03-19T10:02:47.405Z"
   },
   {
    "duration": 21,
    "start_time": "2023-03-19T10:03:51.868Z"
   },
   {
    "duration": 18,
    "start_time": "2023-03-19T10:04:41.618Z"
   },
   {
    "duration": 22,
    "start_time": "2023-03-19T10:04:46.363Z"
   },
   {
    "duration": 20,
    "start_time": "2023-03-19T10:05:03.408Z"
   },
   {
    "duration": 21,
    "start_time": "2023-03-19T10:06:04.410Z"
   },
   {
    "duration": 23,
    "start_time": "2023-03-19T10:06:20.850Z"
   },
   {
    "duration": 40,
    "start_time": "2023-03-19T10:07:57.571Z"
   },
   {
    "duration": 28,
    "start_time": "2023-03-19T10:08:07.369Z"
   },
   {
    "duration": 24,
    "start_time": "2023-03-19T10:10:31.575Z"
   },
   {
    "duration": 25,
    "start_time": "2023-03-19T10:11:01.366Z"
   },
   {
    "duration": 22,
    "start_time": "2023-03-19T10:14:52.122Z"
   },
   {
    "duration": 33,
    "start_time": "2023-03-19T10:15:00.171Z"
   },
   {
    "duration": 24,
    "start_time": "2023-03-19T10:15:04.969Z"
   },
   {
    "duration": 19,
    "start_time": "2023-03-19T10:15:45.130Z"
   },
   {
    "duration": 19,
    "start_time": "2023-03-19T10:15:53.041Z"
   },
   {
    "duration": 25,
    "start_time": "2023-03-19T10:15:55.099Z"
   },
   {
    "duration": 25,
    "start_time": "2023-03-19T10:16:42.295Z"
   },
   {
    "duration": 22,
    "start_time": "2023-03-19T10:17:12.647Z"
   },
   {
    "duration": 27,
    "start_time": "2023-03-19T10:18:59.703Z"
   },
   {
    "duration": 25,
    "start_time": "2023-03-19T10:19:11.935Z"
   },
   {
    "duration": 18,
    "start_time": "2023-03-19T10:19:23.055Z"
   },
   {
    "duration": 28,
    "start_time": "2023-03-19T10:19:30.807Z"
   },
   {
    "duration": 26,
    "start_time": "2023-03-19T10:20:22.205Z"
   },
   {
    "duration": 261,
    "start_time": "2023-03-19T10:20:28.399Z"
   },
   {
    "duration": 1415,
    "start_time": "2023-03-19T10:22:57.607Z"
   },
   {
    "duration": 1352,
    "start_time": "2023-03-19T10:23:32.500Z"
   },
   {
    "duration": 1335,
    "start_time": "2023-03-19T10:23:58.336Z"
   },
   {
    "duration": 260,
    "start_time": "2023-03-19T10:24:11.225Z"
   },
   {
    "duration": 282,
    "start_time": "2023-03-19T10:25:10.041Z"
   },
   {
    "duration": 366,
    "start_time": "2023-03-19T10:25:25.368Z"
   },
   {
    "duration": 277,
    "start_time": "2023-03-19T10:26:30.699Z"
   },
   {
    "duration": 306,
    "start_time": "2023-03-19T10:26:50.306Z"
   },
   {
    "duration": 20,
    "start_time": "2023-03-19T10:35:30.870Z"
   },
   {
    "duration": 286,
    "start_time": "2023-03-19T10:42:00.102Z"
   },
   {
    "duration": 1025,
    "start_time": "2023-03-19T10:42:04.526Z"
   },
   {
    "duration": 205,
    "start_time": "2023-03-19T10:42:25.400Z"
   },
   {
    "duration": 189,
    "start_time": "2023-03-19T10:42:54.357Z"
   },
   {
    "duration": 161,
    "start_time": "2023-03-19T10:43:15.060Z"
   },
   {
    "duration": 164,
    "start_time": "2023-03-19T10:43:34.405Z"
   },
   {
    "duration": 188,
    "start_time": "2023-03-19T10:43:40.916Z"
   },
   {
    "duration": 388,
    "start_time": "2023-03-19T10:43:54.598Z"
   },
   {
    "duration": 76,
    "start_time": "2023-03-19T10:44:10.394Z"
   },
   {
    "duration": 86,
    "start_time": "2023-03-19T10:44:13.147Z"
   },
   {
    "duration": 114,
    "start_time": "2023-03-19T10:44:28.755Z"
   },
   {
    "duration": 3887,
    "start_time": "2023-03-19T10:44:33.948Z"
   },
   {
    "duration": 414,
    "start_time": "2023-03-19T10:45:26.461Z"
   },
   {
    "duration": 399,
    "start_time": "2023-03-19T10:46:06.001Z"
   },
   {
    "duration": 284,
    "start_time": "2023-03-19T10:46:27.505Z"
   },
   {
    "duration": 20,
    "start_time": "2023-03-19T10:47:03.850Z"
   },
   {
    "duration": 21,
    "start_time": "2023-03-19T10:47:25.649Z"
   },
   {
    "duration": 23,
    "start_time": "2023-03-19T10:48:14.809Z"
   },
   {
    "duration": 1441,
    "start_time": "2023-03-19T10:51:32.717Z"
   },
   {
    "duration": 154,
    "start_time": "2023-03-19T10:51:34.161Z"
   },
   {
    "duration": 14,
    "start_time": "2023-03-19T10:51:34.316Z"
   },
   {
    "duration": 27,
    "start_time": "2023-03-19T10:51:34.333Z"
   },
   {
    "duration": 41,
    "start_time": "2023-03-19T10:51:34.362Z"
   },
   {
    "duration": 23,
    "start_time": "2023-03-19T10:51:34.405Z"
   },
   {
    "duration": 53,
    "start_time": "2023-03-19T10:51:34.430Z"
   },
   {
    "duration": 46,
    "start_time": "2023-03-19T10:51:34.485Z"
   },
   {
    "duration": 6,
    "start_time": "2023-03-19T10:51:34.532Z"
   },
   {
    "duration": 35,
    "start_time": "2023-03-19T10:51:34.541Z"
   },
   {
    "duration": 40,
    "start_time": "2023-03-19T10:51:34.578Z"
   },
   {
    "duration": 17,
    "start_time": "2023-03-19T10:51:34.620Z"
   },
   {
    "duration": 23,
    "start_time": "2023-03-19T10:51:34.639Z"
   },
   {
    "duration": 138,
    "start_time": "2023-03-19T10:51:34.664Z"
   },
   {
    "duration": 10,
    "start_time": "2023-03-19T10:51:34.804Z"
   },
   {
    "duration": 817,
    "start_time": "2023-03-19T10:51:34.816Z"
   },
   {
    "duration": 4055,
    "start_time": "2023-03-19T10:51:35.635Z"
   },
   {
    "duration": 20,
    "start_time": "2023-03-19T10:51:39.700Z"
   },
   {
    "duration": 36,
    "start_time": "2023-03-19T10:51:39.722Z"
   },
   {
    "duration": 33,
    "start_time": "2023-03-19T10:51:39.761Z"
   },
   {
    "duration": 44,
    "start_time": "2023-03-19T10:51:39.797Z"
   },
   {
    "duration": 1414,
    "start_time": "2023-03-19T10:51:39.843Z"
   },
   {
    "duration": 353,
    "start_time": "2023-03-19T10:51:41.259Z"
   },
   {
    "duration": 370,
    "start_time": "2023-03-19T10:51:41.614Z"
   },
   {
    "duration": 2257,
    "start_time": "2023-03-19T10:51:41.990Z"
   },
   {
    "duration": 3,
    "start_time": "2023-03-19T10:51:44.249Z"
   },
   {
    "duration": 9,
    "start_time": "2023-03-19T10:51:44.254Z"
   },
   {
    "duration": 35,
    "start_time": "2023-03-19T10:51:44.267Z"
   },
   {
    "duration": 31,
    "start_time": "2023-03-19T10:51:44.307Z"
   },
   {
    "duration": 26,
    "start_time": "2023-03-19T10:51:44.340Z"
   },
   {
    "duration": 34,
    "start_time": "2023-03-19T10:51:44.369Z"
   },
   {
    "duration": 247,
    "start_time": "2023-03-19T10:51:44.406Z"
   },
   {
    "duration": 479,
    "start_time": "2023-03-19T10:51:44.656Z"
   },
   {
    "duration": 15,
    "start_time": "2023-03-19T10:51:45.137Z"
   },
   {
    "duration": 43,
    "start_time": "2023-03-19T10:51:45.154Z"
   },
   {
    "duration": 20,
    "start_time": "2023-03-19T10:51:45.199Z"
   },
   {
    "duration": 7,
    "start_time": "2023-03-19T10:51:45.222Z"
   },
   {
    "duration": 297,
    "start_time": "2023-03-19T10:51:45.231Z"
   },
   {
    "duration": 302,
    "start_time": "2023-03-19T10:51:45.531Z"
   },
   {
    "duration": 309,
    "start_time": "2023-03-19T10:51:45.835Z"
   },
   {
    "duration": 6,
    "start_time": "2023-03-19T10:51:46.146Z"
   },
   {
    "duration": 237,
    "start_time": "2023-03-19T10:51:46.155Z"
   },
   {
    "duration": 199,
    "start_time": "2023-03-19T10:51:46.395Z"
   },
   {
    "duration": 223,
    "start_time": "2023-03-19T10:51:46.598Z"
   },
   {
    "duration": 14,
    "start_time": "2023-03-19T10:51:46.824Z"
   },
   {
    "duration": 41,
    "start_time": "2023-03-19T10:51:46.841Z"
   },
   {
    "duration": 285,
    "start_time": "2023-03-19T10:56:17.842Z"
   },
   {
    "duration": 276,
    "start_time": "2023-03-19T10:56:40.702Z"
   },
   {
    "duration": 444,
    "start_time": "2023-03-19T10:57:24.257Z"
   },
   {
    "duration": 248,
    "start_time": "2023-03-19T10:57:38.296Z"
   },
   {
    "duration": 79,
    "start_time": "2023-03-19T10:57:56.898Z"
   },
   {
    "duration": 301,
    "start_time": "2023-03-19T10:58:49.913Z"
   },
   {
    "duration": 85,
    "start_time": "2023-03-19T11:01:03.734Z"
   },
   {
    "duration": 1509,
    "start_time": "2023-03-19T11:02:15.794Z"
   },
   {
    "duration": 129,
    "start_time": "2023-03-19T11:02:17.306Z"
   },
   {
    "duration": 14,
    "start_time": "2023-03-19T11:02:17.437Z"
   },
   {
    "duration": 43,
    "start_time": "2023-03-19T11:02:17.453Z"
   },
   {
    "duration": 26,
    "start_time": "2023-03-19T11:02:17.500Z"
   },
   {
    "duration": 30,
    "start_time": "2023-03-19T11:02:17.532Z"
   },
   {
    "duration": 70,
    "start_time": "2023-03-19T11:02:17.564Z"
   },
   {
    "duration": 34,
    "start_time": "2023-03-19T11:02:17.636Z"
   },
   {
    "duration": 21,
    "start_time": "2023-03-19T11:02:17.672Z"
   },
   {
    "duration": 40,
    "start_time": "2023-03-19T11:02:17.696Z"
   },
   {
    "duration": 9,
    "start_time": "2023-03-19T11:02:17.738Z"
   },
   {
    "duration": 17,
    "start_time": "2023-03-19T11:02:17.749Z"
   },
   {
    "duration": 58,
    "start_time": "2023-03-19T11:02:17.768Z"
   },
   {
    "duration": 130,
    "start_time": "2023-03-19T11:02:17.829Z"
   },
   {
    "duration": 8,
    "start_time": "2023-03-19T11:02:17.960Z"
   },
   {
    "duration": 475,
    "start_time": "2023-03-19T11:02:17.970Z"
   },
   {
    "duration": 4023,
    "start_time": "2023-03-19T11:02:18.448Z"
   },
   {
    "duration": 23,
    "start_time": "2023-03-19T11:02:22.474Z"
   },
   {
    "duration": 28,
    "start_time": "2023-03-19T11:02:22.500Z"
   },
   {
    "duration": 17,
    "start_time": "2023-03-19T11:02:22.529Z"
   },
   {
    "duration": 58,
    "start_time": "2023-03-19T11:02:22.547Z"
   },
   {
    "duration": 1482,
    "start_time": "2023-03-19T11:02:22.607Z"
   },
   {
    "duration": 333,
    "start_time": "2023-03-19T11:02:24.097Z"
   },
   {
    "duration": 402,
    "start_time": "2023-03-19T11:02:24.432Z"
   },
   {
    "duration": 2291,
    "start_time": "2023-03-19T11:02:24.836Z"
   },
   {
    "duration": 3,
    "start_time": "2023-03-19T11:02:27.128Z"
   },
   {
    "duration": 9,
    "start_time": "2023-03-19T11:02:27.133Z"
   },
   {
    "duration": 19,
    "start_time": "2023-03-19T11:02:27.143Z"
   },
   {
    "duration": 9,
    "start_time": "2023-03-19T11:02:27.164Z"
   },
   {
    "duration": 7,
    "start_time": "2023-03-19T11:02:27.176Z"
   },
   {
    "duration": 10,
    "start_time": "2023-03-19T11:02:27.198Z"
   },
   {
    "duration": 215,
    "start_time": "2023-03-19T11:02:27.210Z"
   },
   {
    "duration": 465,
    "start_time": "2023-03-19T11:02:27.427Z"
   },
   {
    "duration": 260,
    "start_time": "2023-03-19T11:02:27.896Z"
   },
   {
    "duration": 292,
    "start_time": "2023-03-19T11:02:28.159Z"
   },
   {
    "duration": 286,
    "start_time": "2023-03-19T11:02:28.453Z"
   },
   {
    "duration": 6,
    "start_time": "2023-03-19T11:02:28.741Z"
   },
   {
    "duration": 284,
    "start_time": "2023-03-19T11:02:28.749Z"
   },
   {
    "duration": 280,
    "start_time": "2023-03-19T11:02:29.035Z"
   },
   {
    "duration": 302,
    "start_time": "2023-03-19T11:02:29.317Z"
   },
   {
    "duration": 6,
    "start_time": "2023-03-19T11:02:29.624Z"
   },
   {
    "duration": 185,
    "start_time": "2023-03-19T11:02:29.632Z"
   },
   {
    "duration": 199,
    "start_time": "2023-03-19T11:02:29.819Z"
   },
   {
    "duration": 322,
    "start_time": "2023-03-19T11:02:30.021Z"
   },
   {
    "duration": 13,
    "start_time": "2023-03-19T11:02:30.345Z"
   },
   {
    "duration": 58,
    "start_time": "2023-03-19T11:02:30.360Z"
   },
   {
    "duration": 11,
    "start_time": "2023-03-19T11:07:19.116Z"
   },
   {
    "duration": 9,
    "start_time": "2023-03-19T11:07:27.395Z"
   },
   {
    "duration": 10,
    "start_time": "2023-03-19T11:07:37.107Z"
   },
   {
    "duration": 9,
    "start_time": "2023-03-19T11:08:12.894Z"
   },
   {
    "duration": 11,
    "start_time": "2023-03-19T11:09:32.459Z"
   },
   {
    "duration": 1530,
    "start_time": "2023-03-19T11:09:43.304Z"
   },
   {
    "duration": 127,
    "start_time": "2023-03-19T11:09:44.837Z"
   },
   {
    "duration": 37,
    "start_time": "2023-03-19T11:09:44.967Z"
   },
   {
    "duration": 25,
    "start_time": "2023-03-19T11:09:45.010Z"
   },
   {
    "duration": 33,
    "start_time": "2023-03-19T11:09:45.037Z"
   },
   {
    "duration": 27,
    "start_time": "2023-03-19T11:09:45.072Z"
   },
   {
    "duration": 48,
    "start_time": "2023-03-19T11:09:45.101Z"
   },
   {
    "duration": 42,
    "start_time": "2023-03-19T11:09:45.152Z"
   },
   {
    "duration": 6,
    "start_time": "2023-03-19T11:09:45.196Z"
   },
   {
    "duration": 29,
    "start_time": "2023-03-19T11:09:45.205Z"
   },
   {
    "duration": 24,
    "start_time": "2023-03-19T11:09:45.236Z"
   },
   {
    "duration": 25,
    "start_time": "2023-03-19T11:09:45.262Z"
   },
   {
    "duration": 33,
    "start_time": "2023-03-19T11:09:45.289Z"
   },
   {
    "duration": 141,
    "start_time": "2023-03-19T11:09:45.325Z"
   },
   {
    "duration": 22,
    "start_time": "2023-03-19T11:09:45.468Z"
   },
   {
    "duration": 470,
    "start_time": "2023-03-19T11:09:45.496Z"
   },
   {
    "duration": 3967,
    "start_time": "2023-03-19T11:09:45.969Z"
   },
   {
    "duration": 19,
    "start_time": "2023-03-19T11:09:49.939Z"
   },
   {
    "duration": 45,
    "start_time": "2023-03-19T11:09:49.961Z"
   },
   {
    "duration": 20,
    "start_time": "2023-03-19T11:09:50.007Z"
   },
   {
    "duration": 65,
    "start_time": "2023-03-19T11:09:50.029Z"
   },
   {
    "duration": 1437,
    "start_time": "2023-03-19T11:09:50.096Z"
   },
   {
    "duration": 372,
    "start_time": "2023-03-19T11:09:51.535Z"
   },
   {
    "duration": 370,
    "start_time": "2023-03-19T11:09:51.910Z"
   },
   {
    "duration": 2285,
    "start_time": "2023-03-19T11:09:52.282Z"
   },
   {
    "duration": 3,
    "start_time": "2023-03-19T11:09:54.569Z"
   },
   {
    "duration": 26,
    "start_time": "2023-03-19T11:09:54.585Z"
   },
   {
    "duration": 12,
    "start_time": "2023-03-19T11:09:54.616Z"
   },
   {
    "duration": 21,
    "start_time": "2023-03-19T11:09:54.630Z"
   },
   {
    "duration": 13,
    "start_time": "2023-03-19T11:09:54.653Z"
   },
   {
    "duration": 11,
    "start_time": "2023-03-19T11:09:54.668Z"
   },
   {
    "duration": 255,
    "start_time": "2023-03-19T11:09:54.681Z"
   },
   {
    "duration": 473,
    "start_time": "2023-03-19T11:09:54.938Z"
   },
   {
    "duration": 309,
    "start_time": "2023-03-19T11:09:55.412Z"
   },
   {
    "duration": 282,
    "start_time": "2023-03-19T11:09:55.723Z"
   },
   {
    "duration": 352,
    "start_time": "2023-03-19T11:09:56.008Z"
   },
   {
    "duration": 8,
    "start_time": "2023-03-19T11:09:56.362Z"
   },
   {
    "duration": 332,
    "start_time": "2023-03-19T11:09:56.382Z"
   },
   {
    "duration": 296,
    "start_time": "2023-03-19T11:09:56.716Z"
   },
   {
    "duration": 306,
    "start_time": "2023-03-19T11:09:57.015Z"
   },
   {
    "duration": 6,
    "start_time": "2023-03-19T11:09:57.323Z"
   },
   {
    "duration": 170,
    "start_time": "2023-03-19T11:09:57.331Z"
   },
   {
    "duration": 174,
    "start_time": "2023-03-19T11:09:57.504Z"
   },
   {
    "duration": 294,
    "start_time": "2023-03-19T11:09:57.679Z"
   },
   {
    "duration": 20,
    "start_time": "2023-03-19T11:09:57.974Z"
   },
   {
    "duration": 64,
    "start_time": "2023-03-19T11:09:58.002Z"
   },
   {
    "duration": 39,
    "start_time": "2023-03-19T11:09:58.068Z"
   },
   {
    "duration": 38,
    "start_time": "2023-03-19T11:09:58.109Z"
   },
   {
    "duration": 1236,
    "start_time": "2023-03-19T22:59:45.261Z"
   },
   {
    "duration": 111,
    "start_time": "2023-03-19T22:59:46.499Z"
   },
   {
    "duration": 13,
    "start_time": "2023-03-19T22:59:46.611Z"
   },
   {
    "duration": 20,
    "start_time": "2023-03-19T22:59:46.626Z"
   },
   {
    "duration": 19,
    "start_time": "2023-03-19T22:59:46.662Z"
   },
   {
    "duration": 20,
    "start_time": "2023-03-19T22:59:46.683Z"
   },
   {
    "duration": 24,
    "start_time": "2023-03-19T22:59:46.705Z"
   },
   {
    "duration": 52,
    "start_time": "2023-03-19T22:59:46.731Z"
   },
   {
    "duration": 5,
    "start_time": "2023-03-19T22:59:46.785Z"
   },
   {
    "duration": 23,
    "start_time": "2023-03-19T22:59:46.793Z"
   },
   {
    "duration": 7,
    "start_time": "2023-03-19T22:59:46.817Z"
   },
   {
    "duration": 42,
    "start_time": "2023-03-19T22:59:46.825Z"
   },
   {
    "duration": 21,
    "start_time": "2023-03-19T22:59:46.869Z"
   },
   {
    "duration": 135,
    "start_time": "2023-03-19T22:59:46.892Z"
   },
   {
    "duration": 7,
    "start_time": "2023-03-19T22:59:47.029Z"
   },
   {
    "duration": 434,
    "start_time": "2023-03-19T22:59:47.038Z"
   },
   {
    "duration": 3588,
    "start_time": "2023-03-19T22:59:47.474Z"
   },
   {
    "duration": 15,
    "start_time": "2023-03-19T22:59:51.064Z"
   },
   {
    "duration": 22,
    "start_time": "2023-03-19T22:59:51.081Z"
   },
   {
    "duration": 8,
    "start_time": "2023-03-19T22:59:51.104Z"
   },
   {
    "duration": 72,
    "start_time": "2023-03-19T22:59:51.113Z"
   },
   {
    "duration": 1145,
    "start_time": "2023-03-19T22:59:51.186Z"
   },
   {
    "duration": 324,
    "start_time": "2023-03-19T22:59:52.333Z"
   },
   {
    "duration": 296,
    "start_time": "2023-03-19T22:59:52.658Z"
   },
   {
    "duration": 1807,
    "start_time": "2023-03-19T22:59:52.956Z"
   },
   {
    "duration": 2,
    "start_time": "2023-03-19T22:59:54.765Z"
   },
   {
    "duration": 13,
    "start_time": "2023-03-19T22:59:54.769Z"
   },
   {
    "duration": 15,
    "start_time": "2023-03-19T22:59:54.786Z"
   },
   {
    "duration": 5,
    "start_time": "2023-03-19T22:59:54.803Z"
   },
   {
    "duration": 5,
    "start_time": "2023-03-19T22:59:54.809Z"
   },
   {
    "duration": 3,
    "start_time": "2023-03-19T22:59:54.816Z"
   },
   {
    "duration": 195,
    "start_time": "2023-03-19T22:59:54.821Z"
   },
   {
    "duration": 396,
    "start_time": "2023-03-19T22:59:55.018Z"
   },
   {
    "duration": 249,
    "start_time": "2023-03-19T22:59:55.415Z"
   },
   {
    "duration": 231,
    "start_time": "2023-03-19T22:59:55.665Z"
   },
   {
    "duration": 225,
    "start_time": "2023-03-19T22:59:55.898Z"
   },
   {
    "duration": 5,
    "start_time": "2023-03-19T22:59:56.125Z"
   },
   {
    "duration": 232,
    "start_time": "2023-03-19T22:59:56.132Z"
   },
   {
    "duration": 226,
    "start_time": "2023-03-19T22:59:56.366Z"
   },
   {
    "duration": 234,
    "start_time": "2023-03-19T22:59:56.594Z"
   },
   {
    "duration": 5,
    "start_time": "2023-03-19T22:59:56.829Z"
   },
   {
    "duration": 131,
    "start_time": "2023-03-19T22:59:56.835Z"
   },
   {
    "duration": 143,
    "start_time": "2023-03-19T22:59:56.968Z"
   },
   {
    "duration": 259,
    "start_time": "2023-03-19T22:59:57.112Z"
   },
   {
    "duration": 8,
    "start_time": "2023-03-19T22:59:57.372Z"
   },
   {
    "duration": 14,
    "start_time": "2023-03-19T22:59:57.381Z"
   },
   {
    "duration": 13,
    "start_time": "2023-03-19T22:59:57.396Z"
   },
   {
    "duration": 14,
    "start_time": "2023-03-19T22:59:57.411Z"
   },
   {
    "duration": 52,
    "start_time": "2023-03-20T04:31:05.669Z"
   },
   {
    "duration": 1417,
    "start_time": "2023-03-20T04:31:11.337Z"
   },
   {
    "duration": 177,
    "start_time": "2023-03-20T04:31:12.756Z"
   },
   {
    "duration": 13,
    "start_time": "2023-03-20T04:31:12.935Z"
   },
   {
    "duration": 30,
    "start_time": "2023-03-20T04:31:12.950Z"
   },
   {
    "duration": 20,
    "start_time": "2023-03-20T04:31:12.982Z"
   },
   {
    "duration": 20,
    "start_time": "2023-03-20T04:31:13.003Z"
   },
   {
    "duration": 53,
    "start_time": "2023-03-20T04:31:13.025Z"
   },
   {
    "duration": 27,
    "start_time": "2023-03-20T04:31:13.080Z"
   },
   {
    "duration": 9,
    "start_time": "2023-03-20T04:31:13.109Z"
   },
   {
    "duration": 155,
    "start_time": "2023-03-20T04:31:13.121Z"
   },
   {
    "duration": 40,
    "start_time": "2023-03-20T04:31:13.277Z"
   },
   {
    "duration": 32,
    "start_time": "2023-03-20T04:31:13.319Z"
   },
   {
    "duration": 40,
    "start_time": "2023-03-20T04:31:13.353Z"
   },
   {
    "duration": 122,
    "start_time": "2023-03-20T04:31:13.395Z"
   },
   {
    "duration": 6,
    "start_time": "2023-03-20T04:31:13.519Z"
   },
   {
    "duration": 394,
    "start_time": "2023-03-20T04:31:13.527Z"
   },
   {
    "duration": 3502,
    "start_time": "2023-03-20T04:31:13.923Z"
   },
   {
    "duration": 17,
    "start_time": "2023-03-20T04:31:17.427Z"
   },
   {
    "duration": 49,
    "start_time": "2023-03-20T04:31:17.446Z"
   },
   {
    "duration": 7,
    "start_time": "2023-03-20T04:31:17.497Z"
   },
   {
    "duration": 59,
    "start_time": "2023-03-20T04:31:17.506Z"
   },
   {
    "duration": 1234,
    "start_time": "2023-03-20T04:31:17.567Z"
   },
   {
    "duration": 348,
    "start_time": "2023-03-20T04:31:18.803Z"
   },
   {
    "duration": 374,
    "start_time": "2023-03-20T04:31:19.153Z"
   },
   {
    "duration": 1974,
    "start_time": "2023-03-20T04:31:19.529Z"
   },
   {
    "duration": 2,
    "start_time": "2023-03-20T04:31:21.505Z"
   },
   {
    "duration": 10,
    "start_time": "2023-03-20T04:31:21.509Z"
   },
   {
    "duration": 6,
    "start_time": "2023-03-20T04:31:21.522Z"
   },
   {
    "duration": 8,
    "start_time": "2023-03-20T04:31:21.529Z"
   },
   {
    "duration": 10,
    "start_time": "2023-03-20T04:31:21.538Z"
   },
   {
    "duration": 12,
    "start_time": "2023-03-20T04:31:21.550Z"
   },
   {
    "duration": 224,
    "start_time": "2023-03-20T04:31:21.563Z"
   },
   {
    "duration": 425,
    "start_time": "2023-03-20T04:31:21.789Z"
   },
   {
    "duration": 268,
    "start_time": "2023-03-20T04:31:22.216Z"
   },
   {
    "duration": 261,
    "start_time": "2023-03-20T04:31:22.486Z"
   },
   {
    "duration": 269,
    "start_time": "2023-03-20T04:31:22.749Z"
   },
   {
    "duration": 6,
    "start_time": "2023-03-20T04:31:23.020Z"
   },
   {
    "duration": 256,
    "start_time": "2023-03-20T04:31:23.027Z"
   },
   {
    "duration": 260,
    "start_time": "2023-03-20T04:31:23.285Z"
   },
   {
    "duration": 255,
    "start_time": "2023-03-20T04:31:23.547Z"
   },
   {
    "duration": 5,
    "start_time": "2023-03-20T04:31:23.804Z"
   },
   {
    "duration": 225,
    "start_time": "2023-03-20T04:31:23.810Z"
   },
   {
    "duration": 143,
    "start_time": "2023-03-20T04:31:24.037Z"
   },
   {
    "duration": 137,
    "start_time": "2023-03-20T04:31:24.182Z"
   },
   {
    "duration": 7,
    "start_time": "2023-03-20T04:31:24.321Z"
   },
   {
    "duration": 11,
    "start_time": "2023-03-20T04:31:24.330Z"
   },
   {
    "duration": 12,
    "start_time": "2023-03-20T04:31:24.343Z"
   },
   {
    "duration": 31,
    "start_time": "2023-03-20T04:31:24.357Z"
   }
  ],
  "kernelspec": {
   "display_name": "Python 3 (ipykernel)",
   "language": "python",
   "name": "python3"
  },
  "language_info": {
   "codemirror_mode": {
    "name": "ipython",
    "version": 3
   },
   "file_extension": ".py",
   "mimetype": "text/x-python",
   "name": "python",
   "nbconvert_exporter": "python",
   "pygments_lexer": "ipython3",
   "version": "3.9.13"
  },
  "toc": {
   "base_numbering": 1,
   "nav_menu": {},
   "number_sections": true,
   "sideBar": true,
   "skip_h1_title": true,
   "title_cell": "Table of Contents",
   "title_sidebar": "Contents",
   "toc_cell": false,
   "toc_position": {},
   "toc_section_display": true,
   "toc_window_display": false
  }
 },
 "nbformat": 4,
 "nbformat_minor": 2
}
