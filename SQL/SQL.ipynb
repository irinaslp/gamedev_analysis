{
 "cells": [
  {
   "cell_type": "markdown",
   "metadata": {},
   "source": [
    "# Проект по SQL"
   ]
  },
  {
   "cell_type": "markdown",
   "metadata": {},
   "source": [
    "Компания приобретает крупный сервис чтения книг по подписке. Необходимо проанализировать базу данных.\n",
    "\n",
    "В ней — информация о книгах, издательствах, авторах, а также пользовательские обзоры книг. Эти данные помогут сформулировать ценностное предложение для нового продукта."
   ]
  },
  {
   "cell_type": "markdown",
   "metadata": {},
   "source": [
    "- Посчитайте, сколько книг вышло после 1 января 2000 года;\n",
    "- Для каждой книги посчитайте количество обзоров и среднюю оценку;\n",
    "- Определите издательство, которое выпустило наибольшее число книг толще 50 страниц — так вы исключите из анализа брошюры;\n",
    "- Определите автора с самой высокой средней оценкой книг — учитывайте только книги с 50 и более оценками;\n",
    "- Посчитайте среднее количество обзоров от пользователей, которые поставили больше 48 оценок."
   ]
  },
  {
   "cell_type": "markdown",
   "metadata": {},
   "source": [
    "**Цель:** ответить на поставленные вопросы, на основании полученных выводов сделать рекомендацию по новому продукту."
   ]
  },
  {
   "cell_type": "markdown",
   "metadata": {},
   "source": [
    "## Загрузка данных"
   ]
  },
  {
   "cell_type": "code",
   "execution_count": 1,
   "metadata": {},
   "outputs": [],
   "source": [
    "# импортируем библиотеки\n",
    "import pandas as pd\n",
    "from sqlalchemy import text, create_engine"
   ]
  },
  {
   "cell_type": "code",
   "execution_count": 2,
   "metadata": {},
   "outputs": [],
   "source": [
    "# устанавливаем параметры\n",
    "db_config = {'user': 'praktikum_student', # имя пользователя\n",
    "'pwd': 'Sdf4$2;d-d30pp', # пароль\n",
    "'host': 'rc1b-wcoijxj3yxfsf3fs.mdb.yandexcloud.net',\n",
    "'port': 6432, # порт подключения\n",
    "'db': 'data-analyst-final-project-db'} # название базы данных\n",
    "connection_string = 'postgresql://{user}:{pwd}@{host}:{port}/{db}'.format(**db_config)\n",
    "# сохраняем коннектор\n",
    "engine = create_engine(connection_string, connect_args={'sslmode':'require'})"
   ]
  },
  {
   "cell_type": "markdown",
   "metadata": {},
   "source": [
    "**Таблица books**\n",
    "\n",
    "Содержит данные о книгах:\n",
    "- book_id — идентификатор книги;\n",
    "- author_id — идентификатор автора;\n",
    "- title — название книги;\n",
    "- num_pages — количество страниц;\n",
    "- publication_date — дата публикации книги;\n",
    "- publisher_id — идентификатор издателя.\n",
    "\n",
    "**Таблица authors**\n",
    "\n",
    "Содержит данные об авторах:\n",
    "- author_id — идентификатор автора;\n",
    "- author — имя автора.\n",
    "\n",
    "**Таблица publishers**\n",
    "\n",
    "Содержит данные об издательствах:\n",
    "- publisher_id — идентификатор издательства;\n",
    "- publisher — название издательства;\n",
    "\n",
    "**Таблица ratings**\n",
    "\n",
    "Содержит данные о пользовательских оценках книг:\n",
    "- rating_id — идентификатор оценки;\n",
    "- - book_id — идентификатор книги;\n",
    "- username — имя пользователя, оставившего оценку;\n",
    "- rating — оценка книги.\n",
    "\n",
    "**Таблица reviews**\n",
    "\n",
    "Содержит данные о пользовательских обзорах:\n",
    "- review_id — идентификатор обзора;\n",
    "- book_id — идентификатор книги;\n",
    "- username — имя автора обзора;\n",
    "- text — текст обзора."
   ]
  },
  {
   "cell_type": "markdown",
   "metadata": {},
   "source": [
    "Схема данных: <https://pictures.s3.yandex.net/resources/scheme_1589269096.png>"
   ]
  },
  {
   "cell_type": "markdown",
   "metadata": {},
   "source": [
    "## Обзор данных"
   ]
  },
  {
   "cell_type": "code",
   "execution_count": 3,
   "metadata": {},
   "outputs": [
    {
     "data": {
      "text/html": [
       "<div>\n",
       "<style scoped>\n",
       "    .dataframe tbody tr th:only-of-type {\n",
       "        vertical-align: middle;\n",
       "    }\n",
       "\n",
       "    .dataframe tbody tr th {\n",
       "        vertical-align: top;\n",
       "    }\n",
       "\n",
       "    .dataframe thead th {\n",
       "        text-align: right;\n",
       "    }\n",
       "</style>\n",
       "<table border=\"1\" class=\"dataframe\">\n",
       "  <thead>\n",
       "    <tr style=\"text-align: right;\">\n",
       "      <th></th>\n",
       "      <th>book_id</th>\n",
       "      <th>author_id</th>\n",
       "      <th>title</th>\n",
       "      <th>num_pages</th>\n",
       "      <th>publication_date</th>\n",
       "      <th>publisher_id</th>\n",
       "    </tr>\n",
       "  </thead>\n",
       "  <tbody>\n",
       "    <tr>\n",
       "      <th>0</th>\n",
       "      <td>1</td>\n",
       "      <td>546</td>\n",
       "      <td>'Salem's Lot</td>\n",
       "      <td>594</td>\n",
       "      <td>2005-11-01</td>\n",
       "      <td>93</td>\n",
       "    </tr>\n",
       "    <tr>\n",
       "      <th>1</th>\n",
       "      <td>2</td>\n",
       "      <td>465</td>\n",
       "      <td>1 000 Places to See Before You Die</td>\n",
       "      <td>992</td>\n",
       "      <td>2003-05-22</td>\n",
       "      <td>336</td>\n",
       "    </tr>\n",
       "    <tr>\n",
       "      <th>2</th>\n",
       "      <td>3</td>\n",
       "      <td>407</td>\n",
       "      <td>13 Little Blue Envelopes (Little Blue Envelope...</td>\n",
       "      <td>322</td>\n",
       "      <td>2010-12-21</td>\n",
       "      <td>135</td>\n",
       "    </tr>\n",
       "    <tr>\n",
       "      <th>3</th>\n",
       "      <td>4</td>\n",
       "      <td>82</td>\n",
       "      <td>1491: New Revelations of the Americas Before C...</td>\n",
       "      <td>541</td>\n",
       "      <td>2006-10-10</td>\n",
       "      <td>309</td>\n",
       "    </tr>\n",
       "    <tr>\n",
       "      <th>4</th>\n",
       "      <td>5</td>\n",
       "      <td>125</td>\n",
       "      <td>1776</td>\n",
       "      <td>386</td>\n",
       "      <td>2006-07-04</td>\n",
       "      <td>268</td>\n",
       "    </tr>\n",
       "  </tbody>\n",
       "</table>\n",
       "</div>"
      ],
      "text/plain": [
       "   book_id  author_id                                              title  \\\n",
       "0        1        546                                       'Salem's Lot   \n",
       "1        2        465                 1 000 Places to See Before You Die   \n",
       "2        3        407  13 Little Blue Envelopes (Little Blue Envelope...   \n",
       "3        4         82  1491: New Revelations of the Americas Before C...   \n",
       "4        5        125                                               1776   \n",
       "\n",
       "   num_pages publication_date  publisher_id  \n",
       "0        594       2005-11-01            93  \n",
       "1        992       2003-05-22           336  \n",
       "2        322       2010-12-21           135  \n",
       "3        541       2006-10-10           309  \n",
       "4        386       2006-07-04           268  "
      ]
     },
     "execution_count": 3,
     "metadata": {},
     "output_type": "execute_result"
    }
   ],
   "source": [
    "# чтобы выполнить SQL-запрос, используем Pandas\n",
    "query = '''SELECT * FROM books LIMIT 5'''\n",
    "con=engine.connect()\n",
    "pd.io.sql.read_sql(sql=text(query), con = con)"
   ]
  },
  {
   "cell_type": "code",
   "execution_count": 4,
   "metadata": {},
   "outputs": [
    {
     "data": {
      "text/html": [
       "<div>\n",
       "<style scoped>\n",
       "    .dataframe tbody tr th:only-of-type {\n",
       "        vertical-align: middle;\n",
       "    }\n",
       "\n",
       "    .dataframe tbody tr th {\n",
       "        vertical-align: top;\n",
       "    }\n",
       "\n",
       "    .dataframe thead th {\n",
       "        text-align: right;\n",
       "    }\n",
       "</style>\n",
       "<table border=\"1\" class=\"dataframe\">\n",
       "  <thead>\n",
       "    <tr style=\"text-align: right;\">\n",
       "      <th></th>\n",
       "      <th>count</th>\n",
       "      <th>count</th>\n",
       "    </tr>\n",
       "  </thead>\n",
       "  <tbody>\n",
       "    <tr>\n",
       "      <th>0</th>\n",
       "      <td>1000</td>\n",
       "      <td>636</td>\n",
       "    </tr>\n",
       "  </tbody>\n",
       "</table>\n",
       "</div>"
      ],
      "text/plain": [
       "   count  count\n",
       "0   1000    636"
      ]
     },
     "execution_count": 4,
     "metadata": {},
     "output_type": "execute_result"
    }
   ],
   "source": [
    "query = ''' SELECT COUNT(DISTINCT book_id),\n",
    "                    COUNT(DISTINCT author_id)\n",
    "            FROM books'''\n",
    "con=engine.connect()\n",
    "pd.io.sql.read_sql(sql=text(query), con = con)"
   ]
  },
  {
   "cell_type": "markdown",
   "metadata": {},
   "source": [
    "В таблице по книгам присутсвует 1000 книг и 636 авторов."
   ]
  },
  {
   "cell_type": "code",
   "execution_count": 5,
   "metadata": {},
   "outputs": [
    {
     "data": {
      "text/html": [
       "<div>\n",
       "<style scoped>\n",
       "    .dataframe tbody tr th:only-of-type {\n",
       "        vertical-align: middle;\n",
       "    }\n",
       "\n",
       "    .dataframe tbody tr th {\n",
       "        vertical-align: top;\n",
       "    }\n",
       "\n",
       "    .dataframe thead th {\n",
       "        text-align: right;\n",
       "    }\n",
       "</style>\n",
       "<table border=\"1\" class=\"dataframe\">\n",
       "  <thead>\n",
       "    <tr style=\"text-align: right;\">\n",
       "      <th></th>\n",
       "      <th>author_id</th>\n",
       "      <th>author</th>\n",
       "    </tr>\n",
       "  </thead>\n",
       "  <tbody>\n",
       "    <tr>\n",
       "      <th>0</th>\n",
       "      <td>1</td>\n",
       "      <td>A.S. Byatt</td>\n",
       "    </tr>\n",
       "    <tr>\n",
       "      <th>1</th>\n",
       "      <td>2</td>\n",
       "      <td>Aesop/Laura Harris/Laura Gibbs</td>\n",
       "    </tr>\n",
       "    <tr>\n",
       "      <th>2</th>\n",
       "      <td>3</td>\n",
       "      <td>Agatha Christie</td>\n",
       "    </tr>\n",
       "    <tr>\n",
       "      <th>3</th>\n",
       "      <td>4</td>\n",
       "      <td>Alan Brennert</td>\n",
       "    </tr>\n",
       "    <tr>\n",
       "      <th>4</th>\n",
       "      <td>5</td>\n",
       "      <td>Alan Moore/David   Lloyd</td>\n",
       "    </tr>\n",
       "  </tbody>\n",
       "</table>\n",
       "</div>"
      ],
      "text/plain": [
       "   author_id                          author\n",
       "0          1                      A.S. Byatt\n",
       "1          2  Aesop/Laura Harris/Laura Gibbs\n",
       "2          3                 Agatha Christie\n",
       "3          4                   Alan Brennert\n",
       "4          5        Alan Moore/David   Lloyd"
      ]
     },
     "execution_count": 5,
     "metadata": {},
     "output_type": "execute_result"
    }
   ],
   "source": [
    "query = '''SELECT * FROM authors LIMIT 5'''\n",
    "con=engine.connect()\n",
    "pd.io.sql.read_sql(sql=text(query), con = con)"
   ]
  },
  {
   "cell_type": "code",
   "execution_count": 6,
   "metadata": {},
   "outputs": [
    {
     "data": {
      "text/html": [
       "<div>\n",
       "<style scoped>\n",
       "    .dataframe tbody tr th:only-of-type {\n",
       "        vertical-align: middle;\n",
       "    }\n",
       "\n",
       "    .dataframe tbody tr th {\n",
       "        vertical-align: top;\n",
       "    }\n",
       "\n",
       "    .dataframe thead th {\n",
       "        text-align: right;\n",
       "    }\n",
       "</style>\n",
       "<table border=\"1\" class=\"dataframe\">\n",
       "  <thead>\n",
       "    <tr style=\"text-align: right;\">\n",
       "      <th></th>\n",
       "      <th>count</th>\n",
       "    </tr>\n",
       "  </thead>\n",
       "  <tbody>\n",
       "    <tr>\n",
       "      <th>0</th>\n",
       "      <td>636</td>\n",
       "    </tr>\n",
       "  </tbody>\n",
       "</table>\n",
       "</div>"
      ],
      "text/plain": [
       "   count\n",
       "0    636"
      ]
     },
     "execution_count": 6,
     "metadata": {},
     "output_type": "execute_result"
    }
   ],
   "source": [
    "query = ''' SELECT COUNT(DISTINCT author_id)\n",
    "            FROM authors'''\n",
    "con=engine.connect()\n",
    "pd.io.sql.read_sql(sql=text(query), con = con)"
   ]
  },
  {
   "cell_type": "markdown",
   "metadata": {},
   "source": [
    "Значение авторов в таблице authors совпадает с количеством авторов в предыдущей таблице."
   ]
  },
  {
   "cell_type": "code",
   "execution_count": 7,
   "metadata": {},
   "outputs": [
    {
     "data": {
      "text/html": [
       "<div>\n",
       "<style scoped>\n",
       "    .dataframe tbody tr th:only-of-type {\n",
       "        vertical-align: middle;\n",
       "    }\n",
       "\n",
       "    .dataframe tbody tr th {\n",
       "        vertical-align: top;\n",
       "    }\n",
       "\n",
       "    .dataframe thead th {\n",
       "        text-align: right;\n",
       "    }\n",
       "</style>\n",
       "<table border=\"1\" class=\"dataframe\">\n",
       "  <thead>\n",
       "    <tr style=\"text-align: right;\">\n",
       "      <th></th>\n",
       "      <th>publisher_id</th>\n",
       "      <th>publisher</th>\n",
       "    </tr>\n",
       "  </thead>\n",
       "  <tbody>\n",
       "    <tr>\n",
       "      <th>0</th>\n",
       "      <td>1</td>\n",
       "      <td>Ace</td>\n",
       "    </tr>\n",
       "    <tr>\n",
       "      <th>1</th>\n",
       "      <td>2</td>\n",
       "      <td>Ace Book</td>\n",
       "    </tr>\n",
       "    <tr>\n",
       "      <th>2</th>\n",
       "      <td>3</td>\n",
       "      <td>Ace Books</td>\n",
       "    </tr>\n",
       "    <tr>\n",
       "      <th>3</th>\n",
       "      <td>4</td>\n",
       "      <td>Ace Hardcover</td>\n",
       "    </tr>\n",
       "    <tr>\n",
       "      <th>4</th>\n",
       "      <td>5</td>\n",
       "      <td>Addison Wesley Publishing Company</td>\n",
       "    </tr>\n",
       "  </tbody>\n",
       "</table>\n",
       "</div>"
      ],
      "text/plain": [
       "   publisher_id                          publisher\n",
       "0             1                                Ace\n",
       "1             2                           Ace Book\n",
       "2             3                          Ace Books\n",
       "3             4                      Ace Hardcover\n",
       "4             5  Addison Wesley Publishing Company"
      ]
     },
     "execution_count": 7,
     "metadata": {},
     "output_type": "execute_result"
    }
   ],
   "source": [
    "query = '''SELECT * FROM publishers LIMIT 5'''\n",
    "con=engine.connect()\n",
    "pd.io.sql.read_sql(sql=text(query), con = con)"
   ]
  },
  {
   "cell_type": "markdown",
   "metadata": {},
   "source": [
    "Загрузка таблицы с названиями издательств."
   ]
  },
  {
   "cell_type": "code",
   "execution_count": 8,
   "metadata": {},
   "outputs": [
    {
     "data": {
      "text/html": [
       "<div>\n",
       "<style scoped>\n",
       "    .dataframe tbody tr th:only-of-type {\n",
       "        vertical-align: middle;\n",
       "    }\n",
       "\n",
       "    .dataframe tbody tr th {\n",
       "        vertical-align: top;\n",
       "    }\n",
       "\n",
       "    .dataframe thead th {\n",
       "        text-align: right;\n",
       "    }\n",
       "</style>\n",
       "<table border=\"1\" class=\"dataframe\">\n",
       "  <thead>\n",
       "    <tr style=\"text-align: right;\">\n",
       "      <th></th>\n",
       "      <th>rating_id</th>\n",
       "      <th>book_id</th>\n",
       "      <th>username</th>\n",
       "      <th>rating</th>\n",
       "    </tr>\n",
       "  </thead>\n",
       "  <tbody>\n",
       "    <tr>\n",
       "      <th>0</th>\n",
       "      <td>1</td>\n",
       "      <td>1</td>\n",
       "      <td>ryanfranco</td>\n",
       "      <td>4</td>\n",
       "    </tr>\n",
       "    <tr>\n",
       "      <th>1</th>\n",
       "      <td>2</td>\n",
       "      <td>1</td>\n",
       "      <td>grantpatricia</td>\n",
       "      <td>2</td>\n",
       "    </tr>\n",
       "    <tr>\n",
       "      <th>2</th>\n",
       "      <td>3</td>\n",
       "      <td>1</td>\n",
       "      <td>brandtandrea</td>\n",
       "      <td>5</td>\n",
       "    </tr>\n",
       "    <tr>\n",
       "      <th>3</th>\n",
       "      <td>4</td>\n",
       "      <td>2</td>\n",
       "      <td>lorichen</td>\n",
       "      <td>3</td>\n",
       "    </tr>\n",
       "    <tr>\n",
       "      <th>4</th>\n",
       "      <td>5</td>\n",
       "      <td>2</td>\n",
       "      <td>mariokeller</td>\n",
       "      <td>2</td>\n",
       "    </tr>\n",
       "  </tbody>\n",
       "</table>\n",
       "</div>"
      ],
      "text/plain": [
       "   rating_id  book_id       username  rating\n",
       "0          1        1     ryanfranco       4\n",
       "1          2        1  grantpatricia       2\n",
       "2          3        1   brandtandrea       5\n",
       "3          4        2       lorichen       3\n",
       "4          5        2    mariokeller       2"
      ]
     },
     "execution_count": 8,
     "metadata": {},
     "output_type": "execute_result"
    }
   ],
   "source": [
    "query = '''SELECT * FROM ratings LIMIT 5'''\n",
    "con=engine.connect()\n",
    "pd.io.sql.read_sql(sql=text(query), con = con)"
   ]
  },
  {
   "cell_type": "code",
   "execution_count": 9,
   "metadata": {},
   "outputs": [
    {
     "data": {
      "text/html": [
       "<div>\n",
       "<style scoped>\n",
       "    .dataframe tbody tr th:only-of-type {\n",
       "        vertical-align: middle;\n",
       "    }\n",
       "\n",
       "    .dataframe tbody tr th {\n",
       "        vertical-align: top;\n",
       "    }\n",
       "\n",
       "    .dataframe thead th {\n",
       "        text-align: right;\n",
       "    }\n",
       "</style>\n",
       "<table border=\"1\" class=\"dataframe\">\n",
       "  <thead>\n",
       "    <tr style=\"text-align: right;\">\n",
       "      <th></th>\n",
       "      <th>users</th>\n",
       "      <th>ratings</th>\n",
       "    </tr>\n",
       "  </thead>\n",
       "  <tbody>\n",
       "    <tr>\n",
       "      <th>0</th>\n",
       "      <td>160</td>\n",
       "      <td>6456</td>\n",
       "    </tr>\n",
       "  </tbody>\n",
       "</table>\n",
       "</div>"
      ],
      "text/plain": [
       "   users  ratings\n",
       "0    160     6456"
      ]
     },
     "execution_count": 9,
     "metadata": {},
     "output_type": "execute_result"
    }
   ],
   "source": [
    "query = ''' SELECT COUNT(DISTINCT username) users,\n",
    "                    COUNT(DISTINCT rating_id) ratings\n",
    "            FROM ratings'''\n",
    "con=engine.connect()\n",
    "pd.io.sql.read_sql(sql=text(query), con = con)"
   ]
  },
  {
   "cell_type": "markdown",
   "metadata": {},
   "source": [
    "В данных 160 пользователей и 6456 оценок"
   ]
  },
  {
   "cell_type": "code",
   "execution_count": 10,
   "metadata": {},
   "outputs": [
    {
     "data": {
      "text/html": [
       "<div>\n",
       "<style scoped>\n",
       "    .dataframe tbody tr th:only-of-type {\n",
       "        vertical-align: middle;\n",
       "    }\n",
       "\n",
       "    .dataframe tbody tr th {\n",
       "        vertical-align: top;\n",
       "    }\n",
       "\n",
       "    .dataframe thead th {\n",
       "        text-align: right;\n",
       "    }\n",
       "</style>\n",
       "<table border=\"1\" class=\"dataframe\">\n",
       "  <thead>\n",
       "    <tr style=\"text-align: right;\">\n",
       "      <th></th>\n",
       "      <th>review_id</th>\n",
       "      <th>book_id</th>\n",
       "      <th>username</th>\n",
       "      <th>text</th>\n",
       "    </tr>\n",
       "  </thead>\n",
       "  <tbody>\n",
       "    <tr>\n",
       "      <th>0</th>\n",
       "      <td>1</td>\n",
       "      <td>1</td>\n",
       "      <td>brandtandrea</td>\n",
       "      <td>Mention society tell send professor analysis. ...</td>\n",
       "    </tr>\n",
       "    <tr>\n",
       "      <th>1</th>\n",
       "      <td>2</td>\n",
       "      <td>1</td>\n",
       "      <td>ryanfranco</td>\n",
       "      <td>Foot glass pretty audience hit themselves. Amo...</td>\n",
       "    </tr>\n",
       "    <tr>\n",
       "      <th>2</th>\n",
       "      <td>3</td>\n",
       "      <td>2</td>\n",
       "      <td>lorichen</td>\n",
       "      <td>Listen treat keep worry. Miss husband tax but ...</td>\n",
       "    </tr>\n",
       "    <tr>\n",
       "      <th>3</th>\n",
       "      <td>4</td>\n",
       "      <td>3</td>\n",
       "      <td>johnsonamanda</td>\n",
       "      <td>Finally month interesting blue could nature cu...</td>\n",
       "    </tr>\n",
       "    <tr>\n",
       "      <th>4</th>\n",
       "      <td>5</td>\n",
       "      <td>3</td>\n",
       "      <td>scotttamara</td>\n",
       "      <td>Nation purpose heavy give wait song will. List...</td>\n",
       "    </tr>\n",
       "  </tbody>\n",
       "</table>\n",
       "</div>"
      ],
      "text/plain": [
       "   review_id  book_id       username  \\\n",
       "0          1        1   brandtandrea   \n",
       "1          2        1     ryanfranco   \n",
       "2          3        2       lorichen   \n",
       "3          4        3  johnsonamanda   \n",
       "4          5        3    scotttamara   \n",
       "\n",
       "                                                text  \n",
       "0  Mention society tell send professor analysis. ...  \n",
       "1  Foot glass pretty audience hit themselves. Amo...  \n",
       "2  Listen treat keep worry. Miss husband tax but ...  \n",
       "3  Finally month interesting blue could nature cu...  \n",
       "4  Nation purpose heavy give wait song will. List...  "
      ]
     },
     "execution_count": 10,
     "metadata": {},
     "output_type": "execute_result"
    }
   ],
   "source": [
    "query = '''SELECT * FROM reviews LIMIT 5'''\n",
    "con=engine.connect()\n",
    "pd.io.sql.read_sql(sql=text(query), con = con)"
   ]
  },
  {
   "cell_type": "code",
   "execution_count": 11,
   "metadata": {},
   "outputs": [
    {
     "data": {
      "text/html": [
       "<div>\n",
       "<style scoped>\n",
       "    .dataframe tbody tr th:only-of-type {\n",
       "        vertical-align: middle;\n",
       "    }\n",
       "\n",
       "    .dataframe tbody tr th {\n",
       "        vertical-align: top;\n",
       "    }\n",
       "\n",
       "    .dataframe thead th {\n",
       "        text-align: right;\n",
       "    }\n",
       "</style>\n",
       "<table border=\"1\" class=\"dataframe\">\n",
       "  <thead>\n",
       "    <tr style=\"text-align: right;\">\n",
       "      <th></th>\n",
       "      <th>users</th>\n",
       "      <th>reviews</th>\n",
       "    </tr>\n",
       "  </thead>\n",
       "  <tbody>\n",
       "    <tr>\n",
       "      <th>0</th>\n",
       "      <td>160</td>\n",
       "      <td>2793</td>\n",
       "    </tr>\n",
       "  </tbody>\n",
       "</table>\n",
       "</div>"
      ],
      "text/plain": [
       "   users  reviews\n",
       "0    160     2793"
      ]
     },
     "execution_count": 11,
     "metadata": {},
     "output_type": "execute_result"
    }
   ],
   "source": [
    "query = ''' SELECT COUNT(DISTINCT username) users,\n",
    "                    COUNT(DISTINCT review_id) reviews\n",
    "            FROM reviews'''\n",
    "con=engine.connect()\n",
    "pd.io.sql.read_sql(sql=text(query), con = con)"
   ]
  },
  {
   "cell_type": "markdown",
   "metadata": {},
   "source": [
    "При этом столько же пользователей в таблице с отзывами. Самих отзывов 2793"
   ]
  },
  {
   "cell_type": "markdown",
   "metadata": {},
   "source": [
    "## Задание 1"
   ]
  },
  {
   "cell_type": "markdown",
   "metadata": {},
   "source": [
    "Посчитайте, сколько книг вышло после 1 января 2000 года"
   ]
  },
  {
   "cell_type": "code",
   "execution_count": 12,
   "metadata": {},
   "outputs": [
    {
     "data": {
      "text/html": [
       "<div>\n",
       "<style scoped>\n",
       "    .dataframe tbody tr th:only-of-type {\n",
       "        vertical-align: middle;\n",
       "    }\n",
       "\n",
       "    .dataframe tbody tr th {\n",
       "        vertical-align: top;\n",
       "    }\n",
       "\n",
       "    .dataframe thead th {\n",
       "        text-align: right;\n",
       "    }\n",
       "</style>\n",
       "<table border=\"1\" class=\"dataframe\">\n",
       "  <thead>\n",
       "    <tr style=\"text-align: right;\">\n",
       "      <th></th>\n",
       "      <th>count</th>\n",
       "    </tr>\n",
       "  </thead>\n",
       "  <tbody>\n",
       "    <tr>\n",
       "      <th>0</th>\n",
       "      <td>819</td>\n",
       "    </tr>\n",
       "  </tbody>\n",
       "</table>\n",
       "</div>"
      ],
      "text/plain": [
       "   count\n",
       "0    819"
      ]
     },
     "execution_count": 12,
     "metadata": {},
     "output_type": "execute_result"
    }
   ],
   "source": [
    "query = ''' SELECT COUNT(book_id)\n",
    "            FROM books \n",
    "            WHERE publication_date > '2000-01-01'\n",
    "        '''\n",
    "con=engine.connect()\n",
    "pd.io.sql.read_sql(sql=text(query), con = con)"
   ]
  },
  {
   "cell_type": "markdown",
   "metadata": {},
   "source": [
    "Не учитывая первое января, с 01.01.2000 вышло 819 книг."
   ]
  },
  {
   "cell_type": "markdown",
   "metadata": {},
   "source": [
    "## Задание 2"
   ]
  },
  {
   "cell_type": "markdown",
   "metadata": {},
   "source": [
    "Для каждой книги посчитайте количество обзоров и среднюю оценку"
   ]
  },
  {
   "cell_type": "code",
   "execution_count": 13,
   "metadata": {},
   "outputs": [
    {
     "data": {
      "text/html": [
       "<div>\n",
       "<style scoped>\n",
       "    .dataframe tbody tr th:only-of-type {\n",
       "        vertical-align: middle;\n",
       "    }\n",
       "\n",
       "    .dataframe tbody tr th {\n",
       "        vertical-align: top;\n",
       "    }\n",
       "\n",
       "    .dataframe thead th {\n",
       "        text-align: right;\n",
       "    }\n",
       "</style>\n",
       "<table border=\"1\" class=\"dataframe\">\n",
       "  <thead>\n",
       "    <tr style=\"text-align: right;\">\n",
       "      <th></th>\n",
       "      <th>book_id</th>\n",
       "      <th>title</th>\n",
       "      <th>review_count</th>\n",
       "      <th>avg_rating</th>\n",
       "    </tr>\n",
       "  </thead>\n",
       "  <tbody>\n",
       "    <tr>\n",
       "      <th>0</th>\n",
       "      <td>948</td>\n",
       "      <td>Twilight (Twilight  #1)</td>\n",
       "      <td>7</td>\n",
       "      <td>3.66</td>\n",
       "    </tr>\n",
       "    <tr>\n",
       "      <th>1</th>\n",
       "      <td>750</td>\n",
       "      <td>The Hobbit  or There and Back Again</td>\n",
       "      <td>6</td>\n",
       "      <td>4.13</td>\n",
       "    </tr>\n",
       "    <tr>\n",
       "      <th>2</th>\n",
       "      <td>673</td>\n",
       "      <td>The Catcher in the Rye</td>\n",
       "      <td>6</td>\n",
       "      <td>3.83</td>\n",
       "    </tr>\n",
       "    <tr>\n",
       "      <th>3</th>\n",
       "      <td>302</td>\n",
       "      <td>Harry Potter and the Prisoner of Azkaban (Harr...</td>\n",
       "      <td>6</td>\n",
       "      <td>4.41</td>\n",
       "    </tr>\n",
       "    <tr>\n",
       "      <th>4</th>\n",
       "      <td>299</td>\n",
       "      <td>Harry Potter and the Chamber of Secrets (Harry...</td>\n",
       "      <td>6</td>\n",
       "      <td>4.29</td>\n",
       "    </tr>\n",
       "    <tr>\n",
       "      <th>...</th>\n",
       "      <td>...</td>\n",
       "      <td>...</td>\n",
       "      <td>...</td>\n",
       "      <td>...</td>\n",
       "    </tr>\n",
       "    <tr>\n",
       "      <th>995</th>\n",
       "      <td>221</td>\n",
       "      <td>Essential Tales and Poems</td>\n",
       "      <td>0</td>\n",
       "      <td>4.00</td>\n",
       "    </tr>\n",
       "    <tr>\n",
       "      <th>996</th>\n",
       "      <td>387</td>\n",
       "      <td>Leonardo's Notebooks</td>\n",
       "      <td>0</td>\n",
       "      <td>4.00</td>\n",
       "    </tr>\n",
       "    <tr>\n",
       "      <th>997</th>\n",
       "      <td>672</td>\n",
       "      <td>The Cat in the Hat and Other Dr. Seuss Favorites</td>\n",
       "      <td>0</td>\n",
       "      <td>5.00</td>\n",
       "    </tr>\n",
       "    <tr>\n",
       "      <th>998</th>\n",
       "      <td>83</td>\n",
       "      <td>Anne Rice's The Vampire Lestat: A Graphic Novel</td>\n",
       "      <td>0</td>\n",
       "      <td>3.67</td>\n",
       "    </tr>\n",
       "    <tr>\n",
       "      <th>999</th>\n",
       "      <td>808</td>\n",
       "      <td>The Natural Way to Draw</td>\n",
       "      <td>0</td>\n",
       "      <td>3.00</td>\n",
       "    </tr>\n",
       "  </tbody>\n",
       "</table>\n",
       "<p>1000 rows × 4 columns</p>\n",
       "</div>"
      ],
      "text/plain": [
       "     book_id                                              title  review_count  \\\n",
       "0        948                            Twilight (Twilight  #1)             7   \n",
       "1        750                The Hobbit  or There and Back Again             6   \n",
       "2        673                             The Catcher in the Rye             6   \n",
       "3        302  Harry Potter and the Prisoner of Azkaban (Harr...             6   \n",
       "4        299  Harry Potter and the Chamber of Secrets (Harry...             6   \n",
       "..       ...                                                ...           ...   \n",
       "995      221                          Essential Tales and Poems             0   \n",
       "996      387                               Leonardo's Notebooks             0   \n",
       "997      672   The Cat in the Hat and Other Dr. Seuss Favorites             0   \n",
       "998       83    Anne Rice's The Vampire Lestat: A Graphic Novel             0   \n",
       "999      808                            The Natural Way to Draw             0   \n",
       "\n",
       "     avg_rating  \n",
       "0          3.66  \n",
       "1          4.13  \n",
       "2          3.83  \n",
       "3          4.41  \n",
       "4          4.29  \n",
       "..          ...  \n",
       "995        4.00  \n",
       "996        4.00  \n",
       "997        5.00  \n",
       "998        3.67  \n",
       "999        3.00  \n",
       "\n",
       "[1000 rows x 4 columns]"
      ]
     },
     "execution_count": 13,
     "metadata": {},
     "output_type": "execute_result"
    }
   ],
   "source": [
    "query = ''' SELECT b.book_id,\n",
    "                    b.title,\n",
    "                    COUNT(DISTINCT re.review_id) review_count,\n",
    "                    ROUND(AVG(ra.rating), 2) avg_rating\n",
    "            FROM books AS b\n",
    "            LEFT JOIN ratings AS ra ON b.book_id=ra.book_id\n",
    "            LEFT JOIN reviews AS re ON b.book_id=re.book_id\n",
    "            GROUP BY b.book_id \n",
    "            ORDER BY COUNT(re.review_id) DESC\n",
    "        '''\n",
    "con=engine.connect()\n",
    "pd.io.sql.read_sql(sql=text(query), con = con)"
   ]
  },
  {
   "cell_type": "markdown",
   "metadata": {},
   "source": [
    "Книга с самым большим количеством отзывов (7 штук) - Сумерки, имеет рейтинг 3,66. Далее идут книги с 6 и менее отзывами, при этом, имеющие оценку значительно выше первой книги в списке."
   ]
  },
  {
   "cell_type": "markdown",
   "metadata": {},
   "source": [
    "## Задание 3"
   ]
  },
  {
   "cell_type": "markdown",
   "metadata": {},
   "source": [
    "Определите издательство, которое выпустило наибольшее число книг толще 50 страниц — так вы исключите из анализа брошюры"
   ]
  },
  {
   "cell_type": "code",
   "execution_count": 14,
   "metadata": {},
   "outputs": [
    {
     "data": {
      "text/html": [
       "<div>\n",
       "<style scoped>\n",
       "    .dataframe tbody tr th:only-of-type {\n",
       "        vertical-align: middle;\n",
       "    }\n",
       "\n",
       "    .dataframe tbody tr th {\n",
       "        vertical-align: top;\n",
       "    }\n",
       "\n",
       "    .dataframe thead th {\n",
       "        text-align: right;\n",
       "    }\n",
       "</style>\n",
       "<table border=\"1\" class=\"dataframe\">\n",
       "  <thead>\n",
       "    <tr style=\"text-align: right;\">\n",
       "      <th></th>\n",
       "      <th>publisher_id</th>\n",
       "      <th>publisher</th>\n",
       "      <th>count</th>\n",
       "    </tr>\n",
       "  </thead>\n",
       "  <tbody>\n",
       "    <tr>\n",
       "      <th>0</th>\n",
       "      <td>212</td>\n",
       "      <td>Penguin Books</td>\n",
       "      <td>42</td>\n",
       "    </tr>\n",
       "  </tbody>\n",
       "</table>\n",
       "</div>"
      ],
      "text/plain": [
       "   publisher_id      publisher  count\n",
       "0           212  Penguin Books     42"
      ]
     },
     "execution_count": 14,
     "metadata": {},
     "output_type": "execute_result"
    }
   ],
   "source": [
    "query = ''' SELECT p.publisher_id,\n",
    "                    publisher,\n",
    "                    COUNT(b.book_id)\n",
    "            FROM books AS b\n",
    "            LEFT JOIN publishers AS p ON b.publisher_id=p.publisher_id\n",
    "            WHERE b.num_pages > 50\n",
    "            GROUP BY p.publisher_id\n",
    "            ORDER BY COUNT(b.book_id) DESC\n",
    "            LIMIT 1\n",
    "        '''\n",
    "con=engine.connect()\n",
    "pd.io.sql.read_sql(sql=text(query), con = con)"
   ]
  },
  {
   "cell_type": "markdown",
   "metadata": {},
   "source": [
    "Самое активное издательство - Penguin Books. Издательство выпустило 42 книги."
   ]
  },
  {
   "cell_type": "markdown",
   "metadata": {},
   "source": [
    "## Задание 4"
   ]
  },
  {
   "cell_type": "markdown",
   "metadata": {},
   "source": [
    "Определите автора с самой высокой средней оценкой книг — учитывайте только книги с 50 и более оценками"
   ]
  },
  {
   "cell_type": "code",
   "execution_count": 15,
   "metadata": {},
   "outputs": [
    {
     "data": {
      "text/html": [
       "<div>\n",
       "<style scoped>\n",
       "    .dataframe tbody tr th:only-of-type {\n",
       "        vertical-align: middle;\n",
       "    }\n",
       "\n",
       "    .dataframe tbody tr th {\n",
       "        vertical-align: top;\n",
       "    }\n",
       "\n",
       "    .dataframe thead th {\n",
       "        text-align: right;\n",
       "    }\n",
       "</style>\n",
       "<table border=\"1\" class=\"dataframe\">\n",
       "  <thead>\n",
       "    <tr style=\"text-align: right;\">\n",
       "      <th></th>\n",
       "      <th>author_id</th>\n",
       "      <th>author</th>\n",
       "      <th>avg_rating</th>\n",
       "    </tr>\n",
       "  </thead>\n",
       "  <tbody>\n",
       "    <tr>\n",
       "      <th>0</th>\n",
       "      <td>236</td>\n",
       "      <td>J.K. Rowling/Mary GrandPré</td>\n",
       "      <td>4.29</td>\n",
       "    </tr>\n",
       "  </tbody>\n",
       "</table>\n",
       "</div>"
      ],
      "text/plain": [
       "   author_id                      author  avg_rating\n",
       "0        236  J.K. Rowling/Mary GrandPré        4.29"
      ]
     },
     "execution_count": 15,
     "metadata": {},
     "output_type": "execute_result"
    }
   ],
   "source": [
    "query = ''' SELECT a.author_id,\n",
    "                    author,\n",
    "                    round(AVG(ra.rating), 2) avg_rating\n",
    "            FROM books AS b\n",
    "            LEFT JOIN authors AS a ON b.author_id=a.author_id   \n",
    "            LEFT JOIN ratings AS ra ON b.book_id=ra.book_id\n",
    "            WHERE b.book_id IN (SELECT book_id\n",
    "                                FROM ratings\n",
    "                                GROUP BY book_id\n",
    "                                HAVING COUNT(rating_id) > 50)\n",
    "            GROUP BY a.author_id\n",
    "            ORDER BY AVG(ra.rating) DESC\n",
    "            LIMIT 1\n",
    "        '''\n",
    "con=engine.connect()\n",
    "pd.io.sql.read_sql(sql=text(query), con = con)"
   ]
  },
  {
   "cell_type": "markdown",
   "metadata": {},
   "source": [
    "Самая высокая оценка книг (средняя) у Джоан Роулинг (иллюстратор - Мэри Грандпре). Средняя оценка книг - 4,29."
   ]
  },
  {
   "cell_type": "markdown",
   "metadata": {},
   "source": [
    "## Задание 5"
   ]
  },
  {
   "cell_type": "markdown",
   "metadata": {},
   "source": [
    "Посчитайте среднее количество обзоров от пользователей, которые поставили больше 48 оценок."
   ]
  },
  {
   "cell_type": "code",
   "execution_count": 16,
   "metadata": {},
   "outputs": [
    {
     "data": {
      "text/html": [
       "<div>\n",
       "<style scoped>\n",
       "    .dataframe tbody tr th:only-of-type {\n",
       "        vertical-align: middle;\n",
       "    }\n",
       "\n",
       "    .dataframe tbody tr th {\n",
       "        vertical-align: top;\n",
       "    }\n",
       "\n",
       "    .dataframe thead th {\n",
       "        text-align: right;\n",
       "    }\n",
       "</style>\n",
       "<table border=\"1\" class=\"dataframe\">\n",
       "  <thead>\n",
       "    <tr style=\"text-align: right;\">\n",
       "      <th></th>\n",
       "      <th>round</th>\n",
       "    </tr>\n",
       "  </thead>\n",
       "  <tbody>\n",
       "    <tr>\n",
       "      <th>0</th>\n",
       "      <td>24.0</td>\n",
       "    </tr>\n",
       "  </tbody>\n",
       "</table>\n",
       "</div>"
      ],
      "text/plain": [
       "   round\n",
       "0   24.0"
      ]
     },
     "execution_count": 16,
     "metadata": {},
     "output_type": "execute_result"
    }
   ],
   "source": [
    "query = ''' SELECT ROUND(AVG(review_count), 2)\n",
    "            FROM(\n",
    "            SELECT re.username,\n",
    "                    COUNT(DISTINCT review_id) review_count\n",
    "            FROM ratings ra\n",
    "            JOIN reviews AS re ON re.username = ra.username\n",
    "            GROUP BY re.username\n",
    "            HAVING COUNT(DISTINCT rating_id) > 48) users\n",
    "        '''\n",
    "con=engine.connect()\n",
    "pd.io.sql.read_sql(sql=text(query), con = con)"
   ]
  },
  {
   "cell_type": "markdown",
   "metadata": {},
   "source": [
    "В среднем пользователи, оставившие 48 оценок, пишут 24 обзора. То есть на каждую оценку приходится два или меньше отзыва."
   ]
  },
  {
   "cell_type": "markdown",
   "metadata": {},
   "source": [
    "## Вывод"
   ]
  },
  {
   "cell_type": "markdown",
   "metadata": {},
   "source": [
    "- Большое количество отзывов не означает высокую оценку книги\n",
    "- Даже активные пользователи неохотно пишут отзывы\n",
    "- Самые популярные книги - жанр фентези\n",
    "- Самое активное издательство - Penguin Books\n",
    "\n",
    "Таким образом, клиентов может привлечь добавление книг в жанре фентези. Также есть определенная необходимость для поощрения оставления большего количества письменных отзывов среди клиентов."
   ]
  }
 ],
 "metadata": {
  "ExecuteTimeLog": [
   {
    "duration": 16566,
    "start_time": "2023-07-21T07:16:06.855Z"
   },
   {
    "duration": 3,
    "start_time": "2023-07-21T07:16:29.133Z"
   },
   {
    "duration": 251,
    "start_time": "2023-07-21T07:16:31.198Z"
   },
   {
    "duration": 44,
    "start_time": "2023-07-23T11:19:28.391Z"
   },
   {
    "duration": 489,
    "start_time": "2023-07-23T11:19:33.974Z"
   },
   {
    "duration": 464,
    "start_time": "2023-07-23T11:19:59.260Z"
   },
   {
    "duration": 28115,
    "start_time": "2023-07-23T11:20:00.895Z"
   },
   {
    "duration": 170,
    "start_time": "2023-07-23T11:20:34.103Z"
   },
   {
    "duration": 65,
    "start_time": "2023-07-23T11:20:42.299Z"
   },
   {
    "duration": 77,
    "start_time": "2023-07-23T11:20:46.846Z"
   },
   {
    "duration": 50,
    "start_time": "2023-07-23T11:21:33.719Z"
   },
   {
    "duration": 127,
    "start_time": "2023-07-23T11:29:48.689Z"
   },
   {
    "duration": 57,
    "start_time": "2023-07-23T11:30:20.426Z"
   },
   {
    "duration": 155,
    "start_time": "2023-07-23T11:32:11.140Z"
   },
   {
    "duration": 158,
    "start_time": "2023-07-23T11:32:33.725Z"
   },
   {
    "duration": 289,
    "start_time": "2023-07-23T11:32:48.677Z"
   },
   {
    "duration": 68,
    "start_time": "2023-07-23T11:33:22.693Z"
   },
   {
    "duration": 40,
    "start_time": "2023-07-23T11:33:30.078Z"
   },
   {
    "duration": 70,
    "start_time": "2023-07-23T11:34:00.624Z"
   },
   {
    "duration": 199,
    "start_time": "2023-07-23T11:34:05.775Z"
   },
   {
    "duration": 4,
    "start_time": "2023-07-23T11:35:48.387Z"
   },
   {
    "duration": 49,
    "start_time": "2023-07-23T11:35:50.793Z"
   },
   {
    "duration": 52,
    "start_time": "2023-07-23T11:36:20.956Z"
   },
   {
    "duration": 50,
    "start_time": "2023-07-23T11:36:31.880Z"
   },
   {
    "duration": 50,
    "start_time": "2023-07-23T11:36:43.139Z"
   },
   {
    "duration": 74,
    "start_time": "2023-07-23T11:37:13.145Z"
   },
   {
    "duration": 74,
    "start_time": "2023-07-23T11:37:46.554Z"
   },
   {
    "duration": 88,
    "start_time": "2023-07-23T11:39:23.888Z"
   },
   {
    "duration": 72,
    "start_time": "2023-07-23T11:39:46.033Z"
   },
   {
    "duration": 72,
    "start_time": "2023-07-23T11:41:24.807Z"
   },
   {
    "duration": 75,
    "start_time": "2023-07-23T11:41:55.308Z"
   },
   {
    "duration": 72,
    "start_time": "2023-07-23T11:42:17.257Z"
   },
   {
    "duration": 4,
    "start_time": "2023-07-23T11:42:46.590Z"
   },
   {
    "duration": 241,
    "start_time": "2023-07-23T11:42:55.606Z"
   },
   {
    "duration": 149,
    "start_time": "2023-07-23T11:45:59.079Z"
   },
   {
    "duration": 70,
    "start_time": "2023-07-23T11:46:27.854Z"
   },
   {
    "duration": 62,
    "start_time": "2023-07-23T11:46:45.480Z"
   },
   {
    "duration": 139,
    "start_time": "2023-07-23T11:47:00.615Z"
   },
   {
    "duration": 55,
    "start_time": "2023-07-23T11:47:06.222Z"
   },
   {
    "duration": 55,
    "start_time": "2023-07-23T11:47:13.998Z"
   },
   {
    "duration": 71,
    "start_time": "2023-07-23T11:48:28.204Z"
   },
   {
    "duration": 76,
    "start_time": "2023-07-23T11:48:36.224Z"
   },
   {
    "duration": 167,
    "start_time": "2023-07-23T11:48:51.952Z"
   },
   {
    "duration": 85,
    "start_time": "2023-07-23T11:49:00.629Z"
   },
   {
    "duration": 52,
    "start_time": "2023-07-23T11:50:23.471Z"
   },
   {
    "duration": 88,
    "start_time": "2023-07-23T11:50:57.748Z"
   },
   {
    "duration": 86,
    "start_time": "2023-07-23T11:51:13.232Z"
   },
   {
    "duration": 81,
    "start_time": "2023-07-23T11:52:06.494Z"
   },
   {
    "duration": 63,
    "start_time": "2023-07-23T11:52:35.721Z"
   },
   {
    "duration": 59,
    "start_time": "2023-07-23T11:52:47.842Z"
   },
   {
    "duration": 103,
    "start_time": "2023-07-23T11:53:04.646Z"
   },
   {
    "duration": 97,
    "start_time": "2023-07-23T11:53:35.001Z"
   },
   {
    "duration": 98,
    "start_time": "2023-07-23T11:54:39.299Z"
   },
   {
    "duration": 52,
    "start_time": "2023-07-23T11:54:56.999Z"
   },
   {
    "duration": 98,
    "start_time": "2023-07-23T11:55:04.544Z"
   },
   {
    "duration": 87,
    "start_time": "2023-07-23T11:55:16.829Z"
   },
   {
    "duration": 51,
    "start_time": "2023-07-23T11:55:38.295Z"
   },
   {
    "duration": 58,
    "start_time": "2023-07-23T11:59:59.338Z"
   },
   {
    "duration": 57,
    "start_time": "2023-07-23T12:00:53.987Z"
   },
   {
    "duration": 57,
    "start_time": "2023-07-23T12:00:56.786Z"
   },
   {
    "duration": 57,
    "start_time": "2023-07-23T12:01:04.933Z"
   },
   {
    "duration": 57,
    "start_time": "2023-07-23T12:01:19.634Z"
   },
   {
    "duration": 59,
    "start_time": "2023-07-23T12:01:35.384Z"
   },
   {
    "duration": 57,
    "start_time": "2023-07-23T12:02:00.386Z"
   },
   {
    "duration": 69,
    "start_time": "2023-07-23T12:08:20.689Z"
   },
   {
    "duration": 57,
    "start_time": "2023-07-23T12:10:04.188Z"
   },
   {
    "duration": 60,
    "start_time": "2023-07-23T12:10:38.506Z"
   },
   {
    "duration": 122,
    "start_time": "2023-07-23T12:11:20.242Z"
   },
   {
    "duration": 58,
    "start_time": "2023-07-23T12:18:34.037Z"
   },
   {
    "duration": 59,
    "start_time": "2023-07-23T12:18:46.438Z"
   },
   {
    "duration": 160,
    "start_time": "2023-07-23T12:19:20.943Z"
   },
   {
    "duration": 152,
    "start_time": "2023-07-23T12:20:01.887Z"
   },
   {
    "duration": 157,
    "start_time": "2023-07-23T12:20:09.744Z"
   },
   {
    "duration": 123,
    "start_time": "2023-07-23T12:20:20.155Z"
   },
   {
    "duration": 53,
    "start_time": "2023-07-23T12:20:25.342Z"
   },
   {
    "duration": 69,
    "start_time": "2023-07-23T12:20:38.206Z"
   },
   {
    "duration": 57,
    "start_time": "2023-07-23T12:20:46.887Z"
   },
   {
    "duration": 58,
    "start_time": "2023-07-23T12:20:53.813Z"
   },
   {
    "duration": 47,
    "start_time": "2023-07-23T12:20:58.158Z"
   },
   {
    "duration": 53,
    "start_time": "2023-07-23T12:21:08.256Z"
   },
   {
    "duration": 68,
    "start_time": "2023-07-23T12:21:20.787Z"
   },
   {
    "duration": 42,
    "start_time": "2023-07-23T12:23:06.640Z"
   },
   {
    "duration": 70,
    "start_time": "2023-07-23T12:24:27.657Z"
   },
   {
    "duration": 60,
    "start_time": "2023-07-23T12:25:02.741Z"
   },
   {
    "duration": 45,
    "start_time": "2023-07-23T12:25:21.198Z"
   },
   {
    "duration": 54,
    "start_time": "2023-07-23T12:25:39.360Z"
   },
   {
    "duration": 55,
    "start_time": "2023-07-23T12:25:54.443Z"
   },
   {
    "duration": 69,
    "start_time": "2023-07-23T12:44:03.701Z"
   },
   {
    "duration": 63,
    "start_time": "2023-07-23T12:44:17.443Z"
   },
   {
    "duration": 57,
    "start_time": "2023-07-23T12:44:24.131Z"
   },
   {
    "duration": 59,
    "start_time": "2023-07-23T12:44:29.947Z"
   },
   {
    "duration": 57,
    "start_time": "2023-07-23T12:44:37.195Z"
   },
   {
    "duration": 143,
    "start_time": "2023-07-23T12:44:46.042Z"
   },
   {
    "duration": 63,
    "start_time": "2023-07-23T12:45:06.399Z"
   },
   {
    "duration": 70,
    "start_time": "2023-07-23T12:46:34.959Z"
   },
   {
    "duration": 59,
    "start_time": "2023-07-23T12:46:47.259Z"
   },
   {
    "duration": 59,
    "start_time": "2023-07-23T12:48:27.061Z"
   },
   {
    "duration": 62,
    "start_time": "2023-07-23T12:48:31.763Z"
   },
   {
    "duration": 159,
    "start_time": "2023-07-23T12:48:42.208Z"
   },
   {
    "duration": 171,
    "start_time": "2023-07-23T12:48:47.263Z"
   },
   {
    "duration": 51,
    "start_time": "2023-07-23T12:49:09.744Z"
   },
   {
    "duration": 69,
    "start_time": "2023-07-23T12:49:36.208Z"
   },
   {
    "duration": 72,
    "start_time": "2023-07-23T12:49:43.503Z"
   },
   {
    "duration": 76,
    "start_time": "2023-07-23T12:50:27.064Z"
   },
   {
    "duration": 85,
    "start_time": "2023-07-23T12:50:41.234Z"
   },
   {
    "duration": 82,
    "start_time": "2023-07-23T12:50:46.899Z"
   },
   {
    "duration": 83,
    "start_time": "2023-07-23T12:51:23.048Z"
   },
   {
    "duration": 68,
    "start_time": "2023-07-23T12:52:04.128Z"
   },
   {
    "duration": 71,
    "start_time": "2023-07-23T12:52:27.323Z"
   },
   {
    "duration": 85,
    "start_time": "2023-07-23T12:52:59.602Z"
   },
   {
    "duration": 82,
    "start_time": "2023-07-23T12:53:19.635Z"
   },
   {
    "duration": 84,
    "start_time": "2023-07-23T12:54:09.770Z"
   },
   {
    "duration": 52,
    "start_time": "2023-07-23T12:57:32.802Z"
   },
   {
    "duration": 50,
    "start_time": "2023-07-23T12:58:03.747Z"
   },
   {
    "duration": 50,
    "start_time": "2023-07-23T12:59:05.057Z"
   },
   {
    "duration": 60,
    "start_time": "2023-07-23T12:59:14.388Z"
   },
   {
    "duration": 50,
    "start_time": "2023-07-23T12:59:17.987Z"
   },
   {
    "duration": 50,
    "start_time": "2023-07-23T12:59:35.358Z"
   },
   {
    "duration": 51,
    "start_time": "2023-07-23T12:59:53.649Z"
   },
   {
    "duration": 51,
    "start_time": "2023-07-23T13:00:30.155Z"
   },
   {
    "duration": 51,
    "start_time": "2023-07-23T13:01:26.337Z"
   },
   {
    "duration": 69,
    "start_time": "2023-07-23T13:01:26.627Z"
   },
   {
    "duration": 43,
    "start_time": "2023-07-23T13:01:34.344Z"
   },
   {
    "duration": 53,
    "start_time": "2023-07-23T13:01:46.733Z"
   },
   {
    "duration": 52,
    "start_time": "2023-07-23T13:02:27.567Z"
   },
   {
    "duration": 87,
    "start_time": "2023-07-23T13:07:44.434Z"
   },
   {
    "duration": 86,
    "start_time": "2023-07-23T13:08:04.733Z"
   },
   {
    "duration": 86,
    "start_time": "2023-07-23T13:08:16.646Z"
   },
   {
    "duration": 88,
    "start_time": "2023-07-23T13:10:28.449Z"
   },
   {
    "duration": 85,
    "start_time": "2023-07-23T13:10:50.005Z"
   },
   {
    "duration": 87,
    "start_time": "2023-07-23T13:10:53.896Z"
   },
   {
    "duration": 97,
    "start_time": "2023-07-23T13:10:58.326Z"
   },
   {
    "duration": 86,
    "start_time": "2023-07-23T13:11:10.197Z"
   },
   {
    "duration": 103,
    "start_time": "2023-07-23T13:11:19.830Z"
   },
   {
    "duration": 440,
    "start_time": "2023-07-23T13:18:35.149Z"
   },
   {
    "duration": 13596,
    "start_time": "2023-07-23T13:18:35.591Z"
   },
   {
    "duration": 230,
    "start_time": "2023-07-23T13:18:49.189Z"
   },
   {
    "duration": 133,
    "start_time": "2023-07-23T13:18:49.421Z"
   },
   {
    "duration": 52,
    "start_time": "2023-07-23T13:18:49.556Z"
   },
   {
    "duration": 60,
    "start_time": "2023-07-23T13:18:49.610Z"
   },
   {
    "duration": 50,
    "start_time": "2023-07-23T13:18:49.672Z"
   },
   {
    "duration": 51,
    "start_time": "2023-07-23T13:18:49.724Z"
   },
   {
    "duration": 53,
    "start_time": "2023-07-23T13:18:49.776Z"
   },
   {
    "duration": 51,
    "start_time": "2023-07-23T13:18:49.832Z"
   },
   {
    "duration": 51,
    "start_time": "2023-07-23T13:18:49.885Z"
   },
   {
    "duration": 51,
    "start_time": "2023-07-23T13:18:49.937Z"
   },
   {
    "duration": 87,
    "start_time": "2023-07-23T13:18:49.989Z"
   },
   {
    "duration": 52,
    "start_time": "2023-07-23T13:18:50.078Z"
   },
   {
    "duration": 54,
    "start_time": "2023-07-23T13:18:50.132Z"
   },
   {
    "duration": 82,
    "start_time": "2023-07-23T13:18:50.187Z"
   },
   {
    "duration": 480,
    "start_time": "2023-07-23T13:19:40.741Z"
   },
   {
    "duration": 13909,
    "start_time": "2023-07-23T13:19:41.223Z"
   },
   {
    "duration": 241,
    "start_time": "2023-07-23T13:19:55.134Z"
   },
   {
    "duration": 135,
    "start_time": "2023-07-23T13:19:55.376Z"
   },
   {
    "duration": 74,
    "start_time": "2023-07-23T13:19:55.513Z"
   },
   {
    "duration": 52,
    "start_time": "2023-07-23T13:19:55.589Z"
   },
   {
    "duration": 51,
    "start_time": "2023-07-23T13:19:55.642Z"
   },
   {
    "duration": 53,
    "start_time": "2023-07-23T13:19:55.695Z"
   },
   {
    "duration": 58,
    "start_time": "2023-07-23T13:19:55.750Z"
   },
   {
    "duration": 51,
    "start_time": "2023-07-23T13:19:55.811Z"
   },
   {
    "duration": 51,
    "start_time": "2023-07-23T13:19:55.864Z"
   },
   {
    "duration": 51,
    "start_time": "2023-07-23T13:19:55.916Z"
   },
   {
    "duration": 101,
    "start_time": "2023-07-23T13:19:55.968Z"
   },
   {
    "duration": 62,
    "start_time": "2023-07-23T13:19:56.070Z"
   },
   {
    "duration": 58,
    "start_time": "2023-07-23T13:19:56.134Z"
   },
   {
    "duration": 85,
    "start_time": "2023-07-23T13:19:56.194Z"
   }
  ],
  "kernelspec": {
   "display_name": "Python 3 (ipykernel)",
   "language": "python",
   "name": "python3"
  },
  "language_info": {
   "codemirror_mode": {
    "name": "ipython",
    "version": 3
   },
   "file_extension": ".py",
   "mimetype": "text/x-python",
   "name": "python",
   "nbconvert_exporter": "python",
   "pygments_lexer": "ipython3",
   "version": "3.9.13"
  },
  "toc": {
   "base_numbering": 1,
   "nav_menu": {},
   "number_sections": true,
   "sideBar": true,
   "skip_h1_title": true,
   "title_cell": "Table of Contents",
   "title_sidebar": "Contents",
   "toc_cell": false,
   "toc_position": {},
   "toc_section_display": true,
   "toc_window_display": false
  }
 },
 "nbformat": 4,
 "nbformat_minor": 2
}
